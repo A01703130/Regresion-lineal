{
  "nbformat": 4,
  "nbformat_minor": 0,
  "metadata": {
    "colab": {
      "provenance": [],
      "include_colab_link": true
    },
    "kernelspec": {
      "name": "python3",
      "display_name": "Python 3"
    },
    "language_info": {
      "name": "python"
    }
  },
  "cells": [
    {
      "cell_type": "markdown",
      "metadata": {
        "id": "view-in-github",
        "colab_type": "text"
      },
      "source": [
        "<a href=\"https://colab.research.google.com/github/A01703130/Regresion-lineal/blob/main/Cal_Regresi%C3%B3n_Lineal__Simple.ipynb\" target=\"_parent\"><img src=\"https://colab.research.google.com/assets/colab-badge.svg\" alt=\"Open In Colab\"/></a>"
      ]
    },
    {
      "cell_type": "code",
      "execution_count": 1,
      "metadata": {
        "id": "GrstccILE1HC"
      },
      "outputs": [],
      "source": [
        "import pandas as pd\n",
        "import numpy as np\n",
        "import matplotlib.pyplot as plt\n",
        "import seaborn as sns"
      ]
    },
    {
      "cell_type": "code",
      "source": [
        "df= pd.read_excel(\"Callimpio.xlsx\")\n",
        "df"
      ],
      "metadata": {
        "id": "WPG-LR6YE8wA",
        "colab": {
          "base_uri": "https://localhost:8080/",
          "height": 920
        },
        "outputId": "847c9ce1-acf2-4afb-b307-838eb0ecec8f"
      },
      "execution_count": 2,
      "outputs": [
        {
          "output_type": "execute_result",
          "data": {
            "text/plain": [
              "      Unnamed: 0                                      listing_url  \\\n",
              "0              0                 https://www.airbnb.com/rooms/958   \n",
              "1              1                https://www.airbnb.com/rooms/5858   \n",
              "2              2                https://www.airbnb.com/rooms/8142   \n",
              "3              3                https://www.airbnb.com/rooms/8339   \n",
              "4              4                https://www.airbnb.com/rooms/8739   \n",
              "...          ...                                              ...   \n",
              "6931        6931  https://www.airbnb.com/rooms/818195233784141985   \n",
              "6932        6932  https://www.airbnb.com/rooms/818231243893035313   \n",
              "6933        6933  https://www.airbnb.com/rooms/818396267693629070   \n",
              "6934        6934  https://www.airbnb.com/rooms/818474518435984613   \n",
              "6935        6935  https://www.airbnb.com/rooms/818887060432463897   \n",
              "\n",
              "           scrape_id last_scraped       source  \\\n",
              "0     20200000000000   2023-03-06  city scrape   \n",
              "1     20200000000000   2023-03-06  city scrape   \n",
              "2     20200000000000   2023-03-06  city scrape   \n",
              "3     20200000000000   2023-03-06  city scrape   \n",
              "4     20200000000000   2023-03-06  city scrape   \n",
              "...              ...          ...          ...   \n",
              "6931  20200000000000   2023-03-06  city scrape   \n",
              "6932  20200000000000   2023-03-06  city scrape   \n",
              "6933  20200000000000   2023-03-06  city scrape   \n",
              "6934  20200000000000   2023-03-06  city scrape   \n",
              "6935  20200000000000   2023-03-06  city scrape   \n",
              "\n",
              "                                                   name  \\\n",
              "0                 Bright, Modern Garden Unit - 1BR/1BTH   \n",
              "1                                    Creative Sanctuary   \n",
              "2     Friendly Room Apt. Style -UCSF/USF - San Franc...   \n",
              "3                       Historic Alamo Square Victorian   \n",
              "4                   Mission Sunshine, with Private Bath   \n",
              "...                                                 ...   \n",
              "6931                    Powell Place Studio on Nob Hill   \n",
              "6932  √¢‚Ç¨¬¢ Cozy & Comfortable Castro Artist's Stu...   \n",
              "6933               Heart of SF ! Close by to Everything   \n",
              "6934                              Private room #2 in SF   \n",
              "6935                             Sunny Garden Apartment   \n",
              "\n",
              "                                            description  \\\n",
              "0     Our bright garden unit overlooks a lovely back...   \n",
              "1     We live in a large Victorian house on a quiet ...   \n",
              "2     Nice and good public transportation.  7 minute...   \n",
              "3     Pls email before booking. <br />Interior featu...   \n",
              "4     Welcome to \"The Mission,\" the sunniest neighbo...   \n",
              "...                                                 ...   \n",
              "6931  Situated in the prestigious Nob Hill section o...   \n",
              "6932  You'll be in the perfect location to explore a...   \n",
              "6933  - In-unit washer/dryer<br />-Walk-in Closet <b...   \n",
              "6934  Enjoy a memorable visit when you stay at our A...   \n",
              "6935  This sunny garden apartment is located in Laur...   \n",
              "\n",
              "                                  neighborhood_overview  \\\n",
              "0     Quiet cul de sac in friendly neighborhood<br /...   \n",
              "1     I love how our neighborhood feels quiet but is...   \n",
              "2     N Juda Muni, Bus and UCSF Shuttle.<br /><br />...   \n",
              "3                                          Sin registro   \n",
              "4     Located between Valencia Street and Dolores Pa...   \n",
              "...                                                 ...   \n",
              "6931  Powell Place is surrounded by everything that ...   \n",
              "6932  Lively and safe neighborhood, with a local lib...   \n",
              "6933                                       Sin registro   \n",
              "6934                                       Sin registro   \n",
              "6935  Laurel Heights is a quiet, refined neighborhoo...   \n",
              "\n",
              "                                            picture_url    host_id  ...  \\\n",
              "0     https://a0.muscache.com/pictures/b7c2a199-4c17...       1169  ...   \n",
              "1     https://a0.muscache.com/pictures/17714/3a7aea1...       8904  ...   \n",
              "2     https://a0.muscache.com/pictures/12d8bff0-1698...      21994  ...   \n",
              "3     https://a0.muscache.com/pictures/miso/Hosting-...      24215  ...   \n",
              "4     https://a0.muscache.com/pictures/80811/7a57d0e...       7149  ...   \n",
              "...                                                 ...        ...  ...   \n",
              "6931  https://a0.muscache.com/pictures/miso/Hosting-...  495900269  ...   \n",
              "6932  https://a0.muscache.com/pictures/miso/Hosting-...  499392537  ...   \n",
              "6933  https://a0.muscache.com/pictures/miso/Hosting-...  499294716  ...   \n",
              "6934  https://a0.muscache.com/pictures/miso/Hosting-...  485596413  ...   \n",
              "6935  https://a0.muscache.com/pictures/miso/Hosting-...    4836128  ...   \n",
              "\n",
              "     review_scores_communication review_scores_location review_scores_value  \\\n",
              "0                           4.88                   4.98                4.76   \n",
              "1                           4.85                   4.77                4.68   \n",
              "2                           4.78                   4.67                4.67   \n",
              "3                           5.00                   4.94                4.75   \n",
              "4                           4.96                   4.93                4.74   \n",
              "...                          ...                    ...                 ...   \n",
              "6931                        4.90                   4.80                4.70   \n",
              "6932                        5.00                   5.00                5.00   \n",
              "6933                        4.90                   4.80                4.70   \n",
              "6934                        4.90                   4.80                4.70   \n",
              "6935                        4.90                   4.80                4.70   \n",
              "\n",
              "                        license instant_bookable  \\\n",
              "0     City Registration Pending                f   \n",
              "1                  Sin registro                f   \n",
              "2                  Sin registro                f   \n",
              "3                   STR-0000264                f   \n",
              "4                   STR-0000028                f   \n",
              "...                         ...              ...   \n",
              "6931                     147904                t   \n",
              "6932             2023-001477STR                f   \n",
              "6933               Sin registro                f   \n",
              "6934             2022-012562STR                f   \n",
              "6935               Sin registro                t   \n",
              "\n",
              "     calculated_host_listings_count  \\\n",
              "0                                 1   \n",
              "1                                 1   \n",
              "2                                13   \n",
              "3                                 2   \n",
              "4                                 2   \n",
              "...                             ...   \n",
              "6931                              5   \n",
              "6932                              1   \n",
              "6933                              1   \n",
              "6934                              3   \n",
              "6935                              2   \n",
              "\n",
              "      calculated_host_listings_count_entire_homes  \\\n",
              "0                                               1   \n",
              "1                                               1   \n",
              "2                                               0   \n",
              "3                                               2   \n",
              "4                                               0   \n",
              "...                                           ...   \n",
              "6931                                            5   \n",
              "6932                                            1   \n",
              "6933                                            0   \n",
              "6934                                            0   \n",
              "6935                                            1   \n",
              "\n",
              "      calculated_host_listings_count_private_rooms  \\\n",
              "0                                                0   \n",
              "1                                                0   \n",
              "2                                               13   \n",
              "3                                                0   \n",
              "4                                                2   \n",
              "...                                            ...   \n",
              "6931                                             0   \n",
              "6932                                             0   \n",
              "6933                                             1   \n",
              "6934                                             3   \n",
              "6935                                             1   \n",
              "\n",
              "     calculated_host_listings_count_shared_rooms reviews_per_month  \n",
              "0                                              0              2.31  \n",
              "1                                              0              0.66  \n",
              "2                                              0              0.09  \n",
              "3                                              0              0.17  \n",
              "4                                              0              4.65  \n",
              "...                                          ...               ...  \n",
              "6931                                           0              1.30  \n",
              "6932                                           0              1.00  \n",
              "6933                                           0              1.30  \n",
              "6934                                           0              1.30  \n",
              "6935                                           0              1.30  \n",
              "\n",
              "[6936 rows x 75 columns]"
            ],
            "text/html": [
              "\n",
              "  <div id=\"df-740c5ede-369d-465b-b7f1-690d0e088472\">\n",
              "    <div class=\"colab-df-container\">\n",
              "      <div>\n",
              "<style scoped>\n",
              "    .dataframe tbody tr th:only-of-type {\n",
              "        vertical-align: middle;\n",
              "    }\n",
              "\n",
              "    .dataframe tbody tr th {\n",
              "        vertical-align: top;\n",
              "    }\n",
              "\n",
              "    .dataframe thead th {\n",
              "        text-align: right;\n",
              "    }\n",
              "</style>\n",
              "<table border=\"1\" class=\"dataframe\">\n",
              "  <thead>\n",
              "    <tr style=\"text-align: right;\">\n",
              "      <th></th>\n",
              "      <th>Unnamed: 0</th>\n",
              "      <th>listing_url</th>\n",
              "      <th>scrape_id</th>\n",
              "      <th>last_scraped</th>\n",
              "      <th>source</th>\n",
              "      <th>name</th>\n",
              "      <th>description</th>\n",
              "      <th>neighborhood_overview</th>\n",
              "      <th>picture_url</th>\n",
              "      <th>host_id</th>\n",
              "      <th>...</th>\n",
              "      <th>review_scores_communication</th>\n",
              "      <th>review_scores_location</th>\n",
              "      <th>review_scores_value</th>\n",
              "      <th>license</th>\n",
              "      <th>instant_bookable</th>\n",
              "      <th>calculated_host_listings_count</th>\n",
              "      <th>calculated_host_listings_count_entire_homes</th>\n",
              "      <th>calculated_host_listings_count_private_rooms</th>\n",
              "      <th>calculated_host_listings_count_shared_rooms</th>\n",
              "      <th>reviews_per_month</th>\n",
              "    </tr>\n",
              "  </thead>\n",
              "  <tbody>\n",
              "    <tr>\n",
              "      <th>0</th>\n",
              "      <td>0</td>\n",
              "      <td>https://www.airbnb.com/rooms/958</td>\n",
              "      <td>20200000000000</td>\n",
              "      <td>2023-03-06</td>\n",
              "      <td>city scrape</td>\n",
              "      <td>Bright, Modern Garden Unit - 1BR/1BTH</td>\n",
              "      <td>Our bright garden unit overlooks a lovely back...</td>\n",
              "      <td>Quiet cul de sac in friendly neighborhood&lt;br /...</td>\n",
              "      <td>https://a0.muscache.com/pictures/b7c2a199-4c17...</td>\n",
              "      <td>1169</td>\n",
              "      <td>...</td>\n",
              "      <td>4.88</td>\n",
              "      <td>4.98</td>\n",
              "      <td>4.76</td>\n",
              "      <td>City Registration Pending</td>\n",
              "      <td>f</td>\n",
              "      <td>1</td>\n",
              "      <td>1</td>\n",
              "      <td>0</td>\n",
              "      <td>0</td>\n",
              "      <td>2.31</td>\n",
              "    </tr>\n",
              "    <tr>\n",
              "      <th>1</th>\n",
              "      <td>1</td>\n",
              "      <td>https://www.airbnb.com/rooms/5858</td>\n",
              "      <td>20200000000000</td>\n",
              "      <td>2023-03-06</td>\n",
              "      <td>city scrape</td>\n",
              "      <td>Creative Sanctuary</td>\n",
              "      <td>We live in a large Victorian house on a quiet ...</td>\n",
              "      <td>I love how our neighborhood feels quiet but is...</td>\n",
              "      <td>https://a0.muscache.com/pictures/17714/3a7aea1...</td>\n",
              "      <td>8904</td>\n",
              "      <td>...</td>\n",
              "      <td>4.85</td>\n",
              "      <td>4.77</td>\n",
              "      <td>4.68</td>\n",
              "      <td>Sin registro</td>\n",
              "      <td>f</td>\n",
              "      <td>1</td>\n",
              "      <td>1</td>\n",
              "      <td>0</td>\n",
              "      <td>0</td>\n",
              "      <td>0.66</td>\n",
              "    </tr>\n",
              "    <tr>\n",
              "      <th>2</th>\n",
              "      <td>2</td>\n",
              "      <td>https://www.airbnb.com/rooms/8142</td>\n",
              "      <td>20200000000000</td>\n",
              "      <td>2023-03-06</td>\n",
              "      <td>city scrape</td>\n",
              "      <td>Friendly Room Apt. Style -UCSF/USF - San Franc...</td>\n",
              "      <td>Nice and good public transportation.  7 minute...</td>\n",
              "      <td>N Juda Muni, Bus and UCSF Shuttle.&lt;br /&gt;&lt;br /&gt;...</td>\n",
              "      <td>https://a0.muscache.com/pictures/12d8bff0-1698...</td>\n",
              "      <td>21994</td>\n",
              "      <td>...</td>\n",
              "      <td>4.78</td>\n",
              "      <td>4.67</td>\n",
              "      <td>4.67</td>\n",
              "      <td>Sin registro</td>\n",
              "      <td>f</td>\n",
              "      <td>13</td>\n",
              "      <td>0</td>\n",
              "      <td>13</td>\n",
              "      <td>0</td>\n",
              "      <td>0.09</td>\n",
              "    </tr>\n",
              "    <tr>\n",
              "      <th>3</th>\n",
              "      <td>3</td>\n",
              "      <td>https://www.airbnb.com/rooms/8339</td>\n",
              "      <td>20200000000000</td>\n",
              "      <td>2023-03-06</td>\n",
              "      <td>city scrape</td>\n",
              "      <td>Historic Alamo Square Victorian</td>\n",
              "      <td>Pls email before booking. &lt;br /&gt;Interior featu...</td>\n",
              "      <td>Sin registro</td>\n",
              "      <td>https://a0.muscache.com/pictures/miso/Hosting-...</td>\n",
              "      <td>24215</td>\n",
              "      <td>...</td>\n",
              "      <td>5.00</td>\n",
              "      <td>4.94</td>\n",
              "      <td>4.75</td>\n",
              "      <td>STR-0000264</td>\n",
              "      <td>f</td>\n",
              "      <td>2</td>\n",
              "      <td>2</td>\n",
              "      <td>0</td>\n",
              "      <td>0</td>\n",
              "      <td>0.17</td>\n",
              "    </tr>\n",
              "    <tr>\n",
              "      <th>4</th>\n",
              "      <td>4</td>\n",
              "      <td>https://www.airbnb.com/rooms/8739</td>\n",
              "      <td>20200000000000</td>\n",
              "      <td>2023-03-06</td>\n",
              "      <td>city scrape</td>\n",
              "      <td>Mission Sunshine, with Private Bath</td>\n",
              "      <td>Welcome to \"The Mission,\" the sunniest neighbo...</td>\n",
              "      <td>Located between Valencia Street and Dolores Pa...</td>\n",
              "      <td>https://a0.muscache.com/pictures/80811/7a57d0e...</td>\n",
              "      <td>7149</td>\n",
              "      <td>...</td>\n",
              "      <td>4.96</td>\n",
              "      <td>4.93</td>\n",
              "      <td>4.74</td>\n",
              "      <td>STR-0000028</td>\n",
              "      <td>f</td>\n",
              "      <td>2</td>\n",
              "      <td>0</td>\n",
              "      <td>2</td>\n",
              "      <td>0</td>\n",
              "      <td>4.65</td>\n",
              "    </tr>\n",
              "    <tr>\n",
              "      <th>...</th>\n",
              "      <td>...</td>\n",
              "      <td>...</td>\n",
              "      <td>...</td>\n",
              "      <td>...</td>\n",
              "      <td>...</td>\n",
              "      <td>...</td>\n",
              "      <td>...</td>\n",
              "      <td>...</td>\n",
              "      <td>...</td>\n",
              "      <td>...</td>\n",
              "      <td>...</td>\n",
              "      <td>...</td>\n",
              "      <td>...</td>\n",
              "      <td>...</td>\n",
              "      <td>...</td>\n",
              "      <td>...</td>\n",
              "      <td>...</td>\n",
              "      <td>...</td>\n",
              "      <td>...</td>\n",
              "      <td>...</td>\n",
              "      <td>...</td>\n",
              "    </tr>\n",
              "    <tr>\n",
              "      <th>6931</th>\n",
              "      <td>6931</td>\n",
              "      <td>https://www.airbnb.com/rooms/818195233784141985</td>\n",
              "      <td>20200000000000</td>\n",
              "      <td>2023-03-06</td>\n",
              "      <td>city scrape</td>\n",
              "      <td>Powell Place Studio on Nob Hill</td>\n",
              "      <td>Situated in the prestigious Nob Hill section o...</td>\n",
              "      <td>Powell Place is surrounded by everything that ...</td>\n",
              "      <td>https://a0.muscache.com/pictures/miso/Hosting-...</td>\n",
              "      <td>495900269</td>\n",
              "      <td>...</td>\n",
              "      <td>4.90</td>\n",
              "      <td>4.80</td>\n",
              "      <td>4.70</td>\n",
              "      <td>147904</td>\n",
              "      <td>t</td>\n",
              "      <td>5</td>\n",
              "      <td>5</td>\n",
              "      <td>0</td>\n",
              "      <td>0</td>\n",
              "      <td>1.30</td>\n",
              "    </tr>\n",
              "    <tr>\n",
              "      <th>6932</th>\n",
              "      <td>6932</td>\n",
              "      <td>https://www.airbnb.com/rooms/818231243893035313</td>\n",
              "      <td>20200000000000</td>\n",
              "      <td>2023-03-06</td>\n",
              "      <td>city scrape</td>\n",
              "      <td>√¢‚Ç¨¬¢ Cozy &amp; Comfortable Castro Artist's Stu...</td>\n",
              "      <td>You'll be in the perfect location to explore a...</td>\n",
              "      <td>Lively and safe neighborhood, with a local lib...</td>\n",
              "      <td>https://a0.muscache.com/pictures/miso/Hosting-...</td>\n",
              "      <td>499392537</td>\n",
              "      <td>...</td>\n",
              "      <td>5.00</td>\n",
              "      <td>5.00</td>\n",
              "      <td>5.00</td>\n",
              "      <td>2023-001477STR</td>\n",
              "      <td>f</td>\n",
              "      <td>1</td>\n",
              "      <td>1</td>\n",
              "      <td>0</td>\n",
              "      <td>0</td>\n",
              "      <td>1.00</td>\n",
              "    </tr>\n",
              "    <tr>\n",
              "      <th>6933</th>\n",
              "      <td>6933</td>\n",
              "      <td>https://www.airbnb.com/rooms/818396267693629070</td>\n",
              "      <td>20200000000000</td>\n",
              "      <td>2023-03-06</td>\n",
              "      <td>city scrape</td>\n",
              "      <td>Heart of SF ! Close by to Everything</td>\n",
              "      <td>- In-unit washer/dryer&lt;br /&gt;-Walk-in Closet &lt;b...</td>\n",
              "      <td>Sin registro</td>\n",
              "      <td>https://a0.muscache.com/pictures/miso/Hosting-...</td>\n",
              "      <td>499294716</td>\n",
              "      <td>...</td>\n",
              "      <td>4.90</td>\n",
              "      <td>4.80</td>\n",
              "      <td>4.70</td>\n",
              "      <td>Sin registro</td>\n",
              "      <td>f</td>\n",
              "      <td>1</td>\n",
              "      <td>0</td>\n",
              "      <td>1</td>\n",
              "      <td>0</td>\n",
              "      <td>1.30</td>\n",
              "    </tr>\n",
              "    <tr>\n",
              "      <th>6934</th>\n",
              "      <td>6934</td>\n",
              "      <td>https://www.airbnb.com/rooms/818474518435984613</td>\n",
              "      <td>20200000000000</td>\n",
              "      <td>2023-03-06</td>\n",
              "      <td>city scrape</td>\n",
              "      <td>Private room #2 in SF</td>\n",
              "      <td>Enjoy a memorable visit when you stay at our A...</td>\n",
              "      <td>Sin registro</td>\n",
              "      <td>https://a0.muscache.com/pictures/miso/Hosting-...</td>\n",
              "      <td>485596413</td>\n",
              "      <td>...</td>\n",
              "      <td>4.90</td>\n",
              "      <td>4.80</td>\n",
              "      <td>4.70</td>\n",
              "      <td>2022-012562STR</td>\n",
              "      <td>f</td>\n",
              "      <td>3</td>\n",
              "      <td>0</td>\n",
              "      <td>3</td>\n",
              "      <td>0</td>\n",
              "      <td>1.30</td>\n",
              "    </tr>\n",
              "    <tr>\n",
              "      <th>6935</th>\n",
              "      <td>6935</td>\n",
              "      <td>https://www.airbnb.com/rooms/818887060432463897</td>\n",
              "      <td>20200000000000</td>\n",
              "      <td>2023-03-06</td>\n",
              "      <td>city scrape</td>\n",
              "      <td>Sunny Garden Apartment</td>\n",
              "      <td>This sunny garden apartment is located in Laur...</td>\n",
              "      <td>Laurel Heights is a quiet, refined neighborhoo...</td>\n",
              "      <td>https://a0.muscache.com/pictures/miso/Hosting-...</td>\n",
              "      <td>4836128</td>\n",
              "      <td>...</td>\n",
              "      <td>4.90</td>\n",
              "      <td>4.80</td>\n",
              "      <td>4.70</td>\n",
              "      <td>Sin registro</td>\n",
              "      <td>t</td>\n",
              "      <td>2</td>\n",
              "      <td>1</td>\n",
              "      <td>1</td>\n",
              "      <td>0</td>\n",
              "      <td>1.30</td>\n",
              "    </tr>\n",
              "  </tbody>\n",
              "</table>\n",
              "<p>6936 rows × 75 columns</p>\n",
              "</div>\n",
              "      <button class=\"colab-df-convert\" onclick=\"convertToInteractive('df-740c5ede-369d-465b-b7f1-690d0e088472')\"\n",
              "              title=\"Convert this dataframe to an interactive table.\"\n",
              "              style=\"display:none;\">\n",
              "        \n",
              "  <svg xmlns=\"http://www.w3.org/2000/svg\" height=\"24px\"viewBox=\"0 0 24 24\"\n",
              "       width=\"24px\">\n",
              "    <path d=\"M0 0h24v24H0V0z\" fill=\"none\"/>\n",
              "    <path d=\"M18.56 5.44l.94 2.06.94-2.06 2.06-.94-2.06-.94-.94-2.06-.94 2.06-2.06.94zm-11 1L8.5 8.5l.94-2.06 2.06-.94-2.06-.94L8.5 2.5l-.94 2.06-2.06.94zm10 10l.94 2.06.94-2.06 2.06-.94-2.06-.94-.94-2.06-.94 2.06-2.06.94z\"/><path d=\"M17.41 7.96l-1.37-1.37c-.4-.4-.92-.59-1.43-.59-.52 0-1.04.2-1.43.59L10.3 9.45l-7.72 7.72c-.78.78-.78 2.05 0 2.83L4 21.41c.39.39.9.59 1.41.59.51 0 1.02-.2 1.41-.59l7.78-7.78 2.81-2.81c.8-.78.8-2.07 0-2.86zM5.41 20L4 18.59l7.72-7.72 1.47 1.35L5.41 20z\"/>\n",
              "  </svg>\n",
              "      </button>\n",
              "      \n",
              "  <style>\n",
              "    .colab-df-container {\n",
              "      display:flex;\n",
              "      flex-wrap:wrap;\n",
              "      gap: 12px;\n",
              "    }\n",
              "\n",
              "    .colab-df-convert {\n",
              "      background-color: #E8F0FE;\n",
              "      border: none;\n",
              "      border-radius: 50%;\n",
              "      cursor: pointer;\n",
              "      display: none;\n",
              "      fill: #1967D2;\n",
              "      height: 32px;\n",
              "      padding: 0 0 0 0;\n",
              "      width: 32px;\n",
              "    }\n",
              "\n",
              "    .colab-df-convert:hover {\n",
              "      background-color: #E2EBFA;\n",
              "      box-shadow: 0px 1px 2px rgba(60, 64, 67, 0.3), 0px 1px 3px 1px rgba(60, 64, 67, 0.15);\n",
              "      fill: #174EA6;\n",
              "    }\n",
              "\n",
              "    [theme=dark] .colab-df-convert {\n",
              "      background-color: #3B4455;\n",
              "      fill: #D2E3FC;\n",
              "    }\n",
              "\n",
              "    [theme=dark] .colab-df-convert:hover {\n",
              "      background-color: #434B5C;\n",
              "      box-shadow: 0px 1px 3px 1px rgba(0, 0, 0, 0.15);\n",
              "      filter: drop-shadow(0px 1px 2px rgba(0, 0, 0, 0.3));\n",
              "      fill: #FFFFFF;\n",
              "    }\n",
              "  </style>\n",
              "\n",
              "      <script>\n",
              "        const buttonEl =\n",
              "          document.querySelector('#df-740c5ede-369d-465b-b7f1-690d0e088472 button.colab-df-convert');\n",
              "        buttonEl.style.display =\n",
              "          google.colab.kernel.accessAllowed ? 'block' : 'none';\n",
              "\n",
              "        async function convertToInteractive(key) {\n",
              "          const element = document.querySelector('#df-740c5ede-369d-465b-b7f1-690d0e088472');\n",
              "          const dataTable =\n",
              "            await google.colab.kernel.invokeFunction('convertToInteractive',\n",
              "                                                     [key], {});\n",
              "          if (!dataTable) return;\n",
              "\n",
              "          const docLinkHtml = 'Like what you see? Visit the ' +\n",
              "            '<a target=\"_blank\" href=https://colab.research.google.com/notebooks/data_table.ipynb>data table notebook</a>'\n",
              "            + ' to learn more about interactive tables.';\n",
              "          element.innerHTML = '';\n",
              "          dataTable['output_type'] = 'display_data';\n",
              "          await google.colab.output.renderOutput(dataTable, element);\n",
              "          const docLink = document.createElement('div');\n",
              "          docLink.innerHTML = docLinkHtml;\n",
              "          element.appendChild(docLink);\n",
              "        }\n",
              "      </script>\n",
              "    </div>\n",
              "  </div>\n",
              "  "
            ]
          },
          "metadata": {},
          "execution_count": 2
        }
      ]
    },
    {
      "cell_type": "markdown",
      "source": [
        "# **host_acceptance_rate vs host_response_rate**"
      ],
      "metadata": {
        "id": "7n2mMQto-Pqw"
      }
    },
    {
      "cell_type": "markdown",
      "source": [
        "hotel room"
      ],
      "metadata": {
        "id": "VGFytrp5-R8N"
      }
    },
    {
      "cell_type": "code",
      "source": [
        "filtro1=df[df[\"room_type\"] == \"Hotel room\"]\n",
        "filtro1"
      ],
      "metadata": {
        "colab": {
          "base_uri": "https://localhost:8080/",
          "height": 1000
        },
        "id": "Rq8pco7rz1hb",
        "outputId": "7a10d7d4-d367-46ad-a720-4bb7712fea8f"
      },
      "execution_count": 3,
      "outputs": [
        {
          "output_type": "execute_result",
          "data": {
            "text/plain": [
              "      Unnamed: 0                            listing_url       scrape_id  \\\n",
              "711          711   https://www.airbnb.com/rooms/4631873  20200000000000   \n",
              "787          787   https://www.airbnb.com/rooms/6169292  20200000000000   \n",
              "938          938   https://www.airbnb.com/rooms/6883183  20200000000000   \n",
              "1704        1704  https://www.airbnb.com/rooms/16001051  20200000000000   \n",
              "2229        2229  https://www.airbnb.com/rooms/23271377  20200000000000   \n",
              "2230        2230  https://www.airbnb.com/rooms/23271459  20200000000000   \n",
              "2246        2246  https://www.airbnb.com/rooms/23551086  20200000000000   \n",
              "2247        2247  https://www.airbnb.com/rooms/23551138  20200000000000   \n",
              "2248        2248  https://www.airbnb.com/rooms/23551287  20200000000000   \n",
              "2252        2252  https://www.airbnb.com/rooms/23551835  20200000000000   \n",
              "2287        2287  https://www.airbnb.com/rooms/23312390  20200000000000   \n",
              "2289        2289  https://www.airbnb.com/rooms/23312525  20200000000000   \n",
              "2292        2292  https://www.airbnb.com/rooms/23312644  20200000000000   \n",
              "2298        2298  https://www.airbnb.com/rooms/23312854  20200000000000   \n",
              "2301        2301  https://www.airbnb.com/rooms/23313045  20200000000000   \n",
              "2368        2368  https://www.airbnb.com/rooms/23004935  20200000000000   \n",
              "2982        2982  https://www.airbnb.com/rooms/32867573  20200000000000   \n",
              "3004        3004  https://www.airbnb.com/rooms/33368652  20200000000000   \n",
              "3005        3005  https://www.airbnb.com/rooms/33370186  20200000000000   \n",
              "3006        3006  https://www.airbnb.com/rooms/33370525  20200000000000   \n",
              "3007        3007  https://www.airbnb.com/rooms/33370910  20200000000000   \n",
              "3008        3008  https://www.airbnb.com/rooms/33386303  20200000000000   \n",
              "3081        3081  https://www.airbnb.com/rooms/33969918  20200000000000   \n",
              "3082        3082  https://www.airbnb.com/rooms/33969945  20200000000000   \n",
              "3083        3083  https://www.airbnb.com/rooms/33969998  20200000000000   \n",
              "3084        3084  https://www.airbnb.com/rooms/33970015  20200000000000   \n",
              "3085        3085  https://www.airbnb.com/rooms/33970040  20200000000000   \n",
              "3086        3086  https://www.airbnb.com/rooms/33970056  20200000000000   \n",
              "3087        3087  https://www.airbnb.com/rooms/33970080  20200000000000   \n",
              "3088        3088  https://www.airbnb.com/rooms/33970108  20200000000000   \n",
              "3089        3089  https://www.airbnb.com/rooms/33970139  20200000000000   \n",
              "3188        3188  https://www.airbnb.com/rooms/34785290  20200000000000   \n",
              "3219        3219  https://www.airbnb.com/rooms/35376420  20200000000000   \n",
              "3243        3243  https://www.airbnb.com/rooms/35493661  20200000000000   \n",
              "3244        3244  https://www.airbnb.com/rooms/35493829  20200000000000   \n",
              "3249        3249  https://www.airbnb.com/rooms/35494267  20200000000000   \n",
              "3250        3250  https://www.airbnb.com/rooms/35494371  20200000000000   \n",
              "3251        3251  https://www.airbnb.com/rooms/35494419  20200000000000   \n",
              "3266        3266  https://www.airbnb.com/rooms/36560687  20200000000000   \n",
              "3288        3288  https://www.airbnb.com/rooms/35944209  20200000000000   \n",
              "3295        3295  https://www.airbnb.com/rooms/35642179  20200000000000   \n",
              "3296        3296  https://www.airbnb.com/rooms/35642877  20200000000000   \n",
              "3317        3317  https://www.airbnb.com/rooms/35643330  20200000000000   \n",
              "3327        3327  https://www.airbnb.com/rooms/35691437  20200000000000   \n",
              "3355        3355  https://www.airbnb.com/rooms/36139589  20200000000000   \n",
              "3396        3396  https://www.airbnb.com/rooms/37295413  20200000000000   \n",
              "3398        3398  https://www.airbnb.com/rooms/36420256  20200000000000   \n",
              "3399        3399  https://www.airbnb.com/rooms/36420593  20200000000000   \n",
              "3400        3400  https://www.airbnb.com/rooms/36421114  20200000000000   \n",
              "3401        3401  https://www.airbnb.com/rooms/37296448  20200000000000   \n",
              "4519        4519  https://www.airbnb.com/rooms/48693144  20200000000000   \n",
              "4690        4690  https://www.airbnb.com/rooms/48973911  20200000000000   \n",
              "\n",
              "     last_scraped           source  \\\n",
              "711    2023-03-06      city scrape   \n",
              "787    2023-03-06      city scrape   \n",
              "938    2023-03-06      city scrape   \n",
              "1704   2023-03-06      city scrape   \n",
              "2229   2023-03-06      city scrape   \n",
              "2230   2023-03-06      city scrape   \n",
              "2246   2023-03-06      city scrape   \n",
              "2247   2023-03-06      city scrape   \n",
              "2248   2023-03-06      city scrape   \n",
              "2252   2023-03-06      city scrape   \n",
              "2287   2023-03-06      city scrape   \n",
              "2289   2023-03-06      city scrape   \n",
              "2292   2023-03-06      city scrape   \n",
              "2298   2023-03-06      city scrape   \n",
              "2301   2023-03-06      city scrape   \n",
              "2368   2023-03-06  previous scrape   \n",
              "2982   2023-03-06      city scrape   \n",
              "3004   2023-03-06  previous scrape   \n",
              "3005   2023-03-06  previous scrape   \n",
              "3006   2023-03-06  previous scrape   \n",
              "3007   2023-03-06  previous scrape   \n",
              "3008   2023-03-06  previous scrape   \n",
              "3081   2023-03-06      city scrape   \n",
              "3082   2023-03-06      city scrape   \n",
              "3083   2023-03-06      city scrape   \n",
              "3084   2023-03-06      city scrape   \n",
              "3085   2023-03-06      city scrape   \n",
              "3086   2023-03-06  previous scrape   \n",
              "3087   2023-03-06      city scrape   \n",
              "3088   2023-03-06  previous scrape   \n",
              "3089   2023-03-06  previous scrape   \n",
              "3188   2023-03-06      city scrape   \n",
              "3219   2023-03-06      city scrape   \n",
              "3243   2023-03-06      city scrape   \n",
              "3244   2023-03-06  previous scrape   \n",
              "3249   2023-03-06      city scrape   \n",
              "3250   2023-03-06      city scrape   \n",
              "3251   2023-03-06      city scrape   \n",
              "3266   2023-03-06      city scrape   \n",
              "3288   2023-03-06      city scrape   \n",
              "3295   2023-03-06      city scrape   \n",
              "3296   2023-03-06      city scrape   \n",
              "3317   2023-03-06      city scrape   \n",
              "3327   2023-03-06      city scrape   \n",
              "3355   2023-03-06      city scrape   \n",
              "3396   2023-03-06  previous scrape   \n",
              "3398   2023-03-06      city scrape   \n",
              "3399   2023-03-06      city scrape   \n",
              "3400   2023-03-06      city scrape   \n",
              "3401   2023-03-06      city scrape   \n",
              "4519   2023-03-06  previous scrape   \n",
              "4690   2023-03-06  previous scrape   \n",
              "\n",
              "                                                   name  \\\n",
              "711                 Hotel Pac Hgts Queen Free Car ParkB   \n",
              "787                 Hotel Pac Hgts 2 Bed Free Car ParkA   \n",
              "938                     Elegant Union Square hotel room   \n",
              "1704     Cozy Private Room - Mini Fridge, Fast WiFi, TV   \n",
              "2229                               Stratford Cozy Queen   \n",
              "2230                          Stratford Cozy Cool Queen   \n",
              "2246                               Stratford Cozy Queen   \n",
              "2247                               Stratford Cozy Queen   \n",
              "2248                          Stratford Cozy Cool Queen   \n",
              "2252                          Stratford Cozy Cool Queen   \n",
              "2287                               Stratford Cozy Queen   \n",
              "2289                          Stratford Cozy Cool Queen   \n",
              "2292                               Stratford Cozy Queen   \n",
              "2298                               Stratford Cozy Queen   \n",
              "2301                               Stratford Cozy Queen   \n",
              "2368       Red Victorian - Private room -  Rainbow Room   \n",
              "2982               Cute & Cozy Room - near BART Station   \n",
              "3004                           Deluxe Room 2 Queen Beds   \n",
              "3005         Signature Suite 1 Bedroom (Spa) 1 King Bed   \n",
              "3006              Deluxe Room 2 Double Beds 2 Full Beds   \n",
              "3007                       Economy Petite 2 Double Beds   \n",
              "3008                            Deluxe Room 1 Queen Bed   \n",
              "3081                               Premium Queen Room B   \n",
              "3082                               Premium Queen Room C   \n",
              "3083                               Premium Queen Room A   \n",
              "3084                          Premium Queen with Bunk B   \n",
              "3085                          Premium Queen with Bunk C   \n",
              "3086                                Interior Sky Room C   \n",
              "3087                          Premium Queen with Bunk A   \n",
              "3088                                Interior Sky Room B   \n",
              "3089                                Interior Sky Room A   \n",
              "3188  Moscone Convention - BART - Room with Nice Tou...   \n",
              "3219     Upscale Dorm Style - Private Room + own Fridge   \n",
              "3243                    Hotel Bijou, Superior Queen Bed   \n",
              "3244                     Hotel Bijou, Superior King Bed   \n",
              "3249  Music City Hotel, Queen Room with Shared Bathroom   \n",
              "3250     Janis Joplin Themed Room with Private Bathroom   \n",
              "3251             Music City Hotel, Summer of Love Suite   \n",
              "3266          Club Wyndham Canterbury One-Bedroom Suite   \n",
              "3288     Bed & Breakfast - Charming Room - Cozy & Clean   \n",
              "3295                 Grant Plaza Hotel, Standard Double   \n",
              "3296                   Grant Plaza Hotel, Standard Twin   \n",
              "3317            Grant Plaza Hotel, Deluxe Double-Double   \n",
              "3327             Contemporary & Cozy Room - City Center   \n",
              "3355      BART Civic Center - Moscone Convention Center   \n",
              "3396  Marriott Pulse SF for JP Morgan Conf. (2 Queen...   \n",
              "3398                          Deluxe Queen Street Level   \n",
              "3399                             Street Level Tiny Room   \n",
              "3400                       Upstairs Corner Junior Suite   \n",
              "3401  Marriott Pulse SF: JPMorgan/Dreamforce Conf- 1...   \n",
              "4519                         Hotel Emblem San Francisco   \n",
              "4690                         Hotel Triton San Francisco   \n",
              "\n",
              "                                            description  \\\n",
              "711   Please Instant Book. Need Valid Photo ID.<br /...   \n",
              "787   Please Instant Book. Need Valid Photo ID to ch...   \n",
              "938   The Club Donatello is a four-star, Gold Crown,...   \n",
              "1704  You√¢‚Ç¨‚Ñ¢ll love my place because of the loc...   \n",
              "2229  For our soft opening we have decided to give A...   \n",
              "2230  For our soft opening we have decided to give A...   \n",
              "2246  For our soft opening we have decided to give A...   \n",
              "2247  For our soft opening we have decided to give A...   \n",
              "2248  For our soft opening we have decided to give A...   \n",
              "2252  For our soft opening we have decided to give A...   \n",
              "2287  For our soft opening we have decided to give A...   \n",
              "2289  For our soft opening we have decided to give A...   \n",
              "2292  For our soft opening we have decided to give A...   \n",
              "2298  For our soft opening we have decided to give A...   \n",
              "2301  For our soft opening we have decided to give A...   \n",
              "2368  The Rainbow Room is a private bedroom for up t...   \n",
              "2982  We are small boutique property with newly remo...   \n",
              "3004  2 Queen Beds<br /><br />Internet - Free WiFi <...   \n",
              "3005  1 King Bed<br /><br />625-sq-foot (58-sq-meter...   \n",
              "3006  2 Double Beds<br /><br />248-sq-foot (23-sq-me...   \n",
              "3007  2 Double Beds<br /><br />180 sq feet (16 sq me...   \n",
              "3008  1 Queen Bed<br /><br />Internet - Free WiFi <b...   \n",
              "3081  Your next trip to San Francisco starts with a ...   \n",
              "3082  Our smart-design space is perfect for anyone l...   \n",
              "3083  Our spacious First Class Queen Suite has beaut...   \n",
              "3084  Our smart-design space is perfect for anyone l...   \n",
              "3085  Your next trip to San Francisco starts with a ...   \n",
              "3086  Our sleek, well-designed space is perfect for ...   \n",
              "3087  Enjoy a beautiful view of City Hall when you s...   \n",
              "3088  Interior Sky Cabin B<br /><br /><b>The space</...   \n",
              "3089  VIP suite offers stunning views of SF and plen...   \n",
              "3188  You√¢‚Ç¨‚Ñ¢ll love my place because of the loc...   \n",
              "3219  We are a small boutique property with newly re...   \n",
              "3243  You won√¢‚Ç¨‚Ñ¢t find many other hotels near U...   \n",
              "3244  You won√¢‚Ç¨‚Ñ¢t find many other hotels near U...   \n",
              "3249  Private room with Queen size bed and shared re...   \n",
              "3250  Private room with King size bed and private ba...   \n",
              "3251  Summer of Love themed Suite with two Queen bed...   \n",
              "3266  This spacious one-bedroom resort suite measure...   \n",
              "3288  You√¢‚Ç¨‚Ñ¢ll love my place because of the loc...   \n",
              "3295  Rated the best hotel for your value, the Grant...   \n",
              "3296  Rated the best hotel for your value, Grant Pla...   \n",
              "3317  Rated the best hotel for your value, the Grant...   \n",
              "3327  You√¢‚Ç¨‚Ñ¢ll love my place because of the loc...   \n",
              "3355  You√¢‚Ç¨‚Ñ¢ll love my place because of the loc...   \n",
              "3396  Hotel room at the \"City by the Bay\" at Marriot...   \n",
              "3398  Monte Cristo is a classic San Francisco Bed an...   \n",
              "3399  if the walls of the Monte Cristo Bed & Breakfa...   \n",
              "3400  if the walls of the Monte Cristo Bed & Breakfa...   \n",
              "3401  Hotel room at the \"City by the Bay\" at Marriot...   \n",
              "4519                                       Sin registro   \n",
              "4690                                       Sin registro   \n",
              "\n",
              "                                  neighborhood_overview  \\\n",
              "711                                        Sin registro   \n",
              "787                                        Sin registro   \n",
              "938   The Donatello Hotel is perfectly located one b...   \n",
              "1704  My place is located conveniently in the middle...   \n",
              "2229    In the Heart of Union Square Shopping district!   \n",
              "2230                                       Sin registro   \n",
              "2246    In the Heart of Union Square Shopping district!   \n",
              "2247    In the Heart of Union Square Shopping district!   \n",
              "2248                                       Sin registro   \n",
              "2252                                       Sin registro   \n",
              "2287    In the Heart of Union Square Shopping district!   \n",
              "2289                                       Sin registro   \n",
              "2292     n the Heart of Union Square Shopping district!   \n",
              "2298                                       Sin registro   \n",
              "2301    In the Heart of Union Square Shopping district!   \n",
              "2368  Haight-Ashbury is an incredible relic of San F...   \n",
              "2982  We are conveniently located to SF's best spots...   \n",
              "3004                                       Sin registro   \n",
              "3005                                       Sin registro   \n",
              "3006                                       Sin registro   \n",
              "3007                                       Sin registro   \n",
              "3008                                       Sin registro   \n",
              "3081                                       Sin registro   \n",
              "3082                                       Sin registro   \n",
              "3083                                       Sin registro   \n",
              "3084                                       Sin registro   \n",
              "3085                                       Sin registro   \n",
              "3086                                       Sin registro   \n",
              "3087                                       Sin registro   \n",
              "3088                                       Sin registro   \n",
              "3089                                       Sin registro   \n",
              "3188  My place is located conveniently in the middle...   \n",
              "3219  The neighborhood is right in the City Center, ...   \n",
              "3243                                       Sin registro   \n",
              "3244                                       Sin registro   \n",
              "3249  Music City Hotel is located in the vibrant Pol...   \n",
              "3250  Music City Hotel is located in the vibrant Pol...   \n",
              "3251  Music City Hotel is located in the vibrant Pol...   \n",
              "3266  Wyndham Canterbury at San Francisco is your ge...   \n",
              "3288  Just a heads up, we are right in the middle of...   \n",
              "3295  Gateway to Chinatown, 5 minutes walk, 3 blocks...   \n",
              "3296  Gateway to Chinatown, 5 minutes walk, 3 blocks...   \n",
              "3317  Gateway to Chinatown, 5 minutes walk, 3 blocks...   \n",
              "3327  Just a heads up, we are right in the middle of...   \n",
              "3355  Just a heads up, we are right in the middle of...   \n",
              "3396  Explore legendary Fisherman's Wharf, PIER 39, ...   \n",
              "3398  Low key residential location. Pacific Heights,...   \n",
              "3399  Low key residential location. Pacific Heights,...   \n",
              "3400  Low key residential location. Pacific Heights,...   \n",
              "3401  Explore legendary Fisherman's Wharf, PIER 39, ...   \n",
              "4519                                       Sin registro   \n",
              "4690                                       Sin registro   \n",
              "\n",
              "                                            picture_url    host_id  ...  \\\n",
              "711   https://a0.muscache.com/pictures/81807138/12b3...   20850212  ...   \n",
              "787   https://a0.muscache.com/pictures/76888501/8774...   20850212  ...   \n",
              "938   https://a0.muscache.com/pictures/87115624/a239...   23593310  ...   \n",
              "1704  https://a0.muscache.com/pictures/miso/Hosting-...  103884979  ...   \n",
              "2229  https://a0.muscache.com/pictures/miso/Hosting-...  173206762  ...   \n",
              "2230  https://a0.muscache.com/pictures/miso/Hosting-...  173206762  ...   \n",
              "2246  https://a0.muscache.com/pictures/miso/Hosting-...  173206762  ...   \n",
              "2247  https://a0.muscache.com/pictures/miso/Hosting-...  173206762  ...   \n",
              "2248  https://a0.muscache.com/pictures/miso/Hosting-...  173206762  ...   \n",
              "2252  https://a0.muscache.com/pictures/miso/Hosting-...  173206762  ...   \n",
              "2287  https://a0.muscache.com/pictures/miso/Hosting-...  173206762  ...   \n",
              "2289  https://a0.muscache.com/pictures/miso/Hosting-...  173206762  ...   \n",
              "2292  https://a0.muscache.com/pictures/miso/Hosting-...  173206762  ...   \n",
              "2298  https://a0.muscache.com/pictures/miso/Hosting-...  173206762  ...   \n",
              "2301  https://a0.muscache.com/pictures/miso/Hosting-...  173206762  ...   \n",
              "2368  https://a0.muscache.com/pictures/008f2fad-9eb3...  117141107  ...   \n",
              "2982  https://a0.muscache.com/pictures/d8eebd1c-fa95...  103884979  ...   \n",
              "3004  https://a0.muscache.com/pictures/43a58ca1-648d...  251141990  ...   \n",
              "3005  https://a0.muscache.com/pictures/b3e1062e-6c59...  251141990  ...   \n",
              "3006  https://a0.muscache.com/pictures/d3241f34-4b3d...  251141990  ...   \n",
              "3007  https://a0.muscache.com/pictures/2809e80d-47fd...  251141990  ...   \n",
              "3008  https://a0.muscache.com/pictures/5efa1a9f-bc86...  251141990  ...   \n",
              "3081  https://a0.muscache.com/pictures/prohost-api/H...  250109940  ...   \n",
              "3082  https://a0.muscache.com/pictures/prohost-api/H...  250109940  ...   \n",
              "3083  https://a0.muscache.com/pictures/prohost-api/H...  250109940  ...   \n",
              "3084  https://a0.muscache.com/pictures/prohost-api/H...  250109940  ...   \n",
              "3085  https://a0.muscache.com/pictures/prohost-api/H...  250109940  ...   \n",
              "3086  https://a0.muscache.com/pictures/prohost-api/H...  250109940  ...   \n",
              "3087  https://a0.muscache.com/pictures/prohost-api/H...  250109940  ...   \n",
              "3088  https://a0.muscache.com/pictures/prohost-api/H...  250109940  ...   \n",
              "3089  https://a0.muscache.com/pictures/prohost-api/H...  250109940  ...   \n",
              "3188  https://a0.muscache.com/pictures/miso/Hosting-...  103884979  ...   \n",
              "3219  https://a0.muscache.com/pictures/miso/Hosting-...  103884979  ...   \n",
              "3243  https://a0.muscache.com/pictures/dbf76c5f-1bdf...  266321575  ...   \n",
              "3244  https://a0.muscache.com/pictures/dbf76c5f-1bdf...  266321575  ...   \n",
              "3249  https://a0.muscache.com/pictures/miso/Hosting-...  102523118  ...   \n",
              "3250  https://a0.muscache.com/pictures/miso/Hosting-...  102523118  ...   \n",
              "3251  https://a0.muscache.com/pictures/miso/Hosting-...  102523118  ...   \n",
              "3266  https://a0.muscache.com/pictures/8a2a56b4-d28d...  266083019  ...   \n",
              "3288  https://a0.muscache.com/pictures/miso/Hosting-...  103884979  ...   \n",
              "3295  https://a0.muscache.com/pictures/260539bb-99d6...  265029065  ...   \n",
              "3296  https://a0.muscache.com/pictures/9e14dc12-9489...  265029065  ...   \n",
              "3317  https://a0.muscache.com/pictures/2fbaf766-fcf9...  265029065  ...   \n",
              "3327  https://a0.muscache.com/pictures/eb12904e-7ac3...  103884979  ...   \n",
              "3355  https://a0.muscache.com/pictures/miso/Hosting-...  103884979  ...   \n",
              "3396  https://a0.muscache.com/pictures/280326d7-2ba0...   13058067  ...   \n",
              "3398  https://a0.muscache.com/pictures/880f6eca-8b5d...  160591574  ...   \n",
              "3399  https://a0.muscache.com/pictures/2ba9ca23-7bae...  160591574  ...   \n",
              "3400  https://a0.muscache.com/pictures/778ee8c1-2b7d...  160591574  ...   \n",
              "3401  https://a0.muscache.com/pictures/001617ef-1198...   13058067  ...   \n",
              "4519  https://a0.muscache.com/pictures/miso/Hosting-...  392829961  ...   \n",
              "4690  https://a0.muscache.com/pictures/miso/Hosting-...  394984266  ...   \n",
              "\n",
              "     review_scores_communication review_scores_location review_scores_value  \\\n",
              "711                         4.82                   4.88                4.63   \n",
              "787                         4.73                   4.84                4.39   \n",
              "938                         4.97                   5.00                4.91   \n",
              "1704                        4.59                   3.88                4.29   \n",
              "2229                        4.50                   4.75                4.13   \n",
              "2230                        5.00                   5.00                4.00   \n",
              "2246                        4.67                   5.00                4.58   \n",
              "2247                        4.62                   5.00                4.48   \n",
              "2248                        4.47                   5.00                4.16   \n",
              "2252                        4.88                   4.88                4.38   \n",
              "2287                        4.61                   4.83                4.35   \n",
              "2289                        4.46                   4.93                4.46   \n",
              "2292                        4.81                   5.00                4.63   \n",
              "2298                        4.75                   4.75                4.50   \n",
              "2301                        4.58                   4.79                4.21   \n",
              "2368                        4.86                   4.87                4.59   \n",
              "2982                        4.65                   4.11                4.53   \n",
              "3004                        5.00                   5.00                5.00   \n",
              "3005                        4.90                   4.80                4.70   \n",
              "3006                        5.00                   5.00                4.00   \n",
              "3007                        3.00                   5.00                1.00   \n",
              "3008                        4.90                   4.80                4.70   \n",
              "3081                        5.00                   4.83                4.67   \n",
              "3082                        4.33                   3.00                4.00   \n",
              "3083                        4.74                   4.07                4.67   \n",
              "3084                        4.75                   3.25                4.00   \n",
              "3085                        5.00                   4.00                5.00   \n",
              "3086                        5.00                   3.75                4.50   \n",
              "3087                        1.00                   2.00                2.00   \n",
              "3088                        4.70                   3.78                4.24   \n",
              "3089                        5.00                   3.50                4.00   \n",
              "3188                        4.76                   4.04                4.54   \n",
              "3219                        4.78                   4.26                4.43   \n",
              "3243                        4.75                   4.38                4.53   \n",
              "3244                        4.68                   3.77                4.55   \n",
              "3249                        4.81                   4.65                4.57   \n",
              "3250                        4.75                   4.88                4.50   \n",
              "3251                        4.78                   4.51                4.54   \n",
              "3266                        4.40                   4.90                4.90   \n",
              "3288                        4.72                   4.09                4.46   \n",
              "3295                        4.63                   4.74                4.33   \n",
              "3296                        4.58                   4.72                4.31   \n",
              "3317                        4.79                   4.86                4.36   \n",
              "3327                        4.73                   4.20                4.63   \n",
              "3355                        4.75                   4.04                4.46   \n",
              "3396                        5.00                   5.00                4.50   \n",
              "3398                        5.00                   5.00                5.00   \n",
              "3399                        5.00                   5.00                5.00   \n",
              "3400                        5.00                   5.00                4.50   \n",
              "3401                        4.90                   4.80                4.70   \n",
              "4519                        4.90                   4.80                4.70   \n",
              "4690                        4.40                   5.00                4.20   \n",
              "\n",
              "                          license instant_bookable  \\\n",
              "711                    FY 2017-18                t   \n",
              "787                    FY 2017-18                t   \n",
              "938   License not needed per OSTR                f   \n",
              "1704                       Exempt                f   \n",
              "2229                      1083521                t   \n",
              "2230                      1083521                t   \n",
              "2246                      1083521                t   \n",
              "2247                      1083521                t   \n",
              "2248                      1083521                t   \n",
              "2252                      1083521                t   \n",
              "2287                      1083521                t   \n",
              "2289                      1083521                t   \n",
              "2292                      1083521                t   \n",
              "2298                      1083521                t   \n",
              "2301                      1083521                t   \n",
              "2368                      1003249                t   \n",
              "2982  License not needed per OSTR                f   \n",
              "3004                 Sin registro                f   \n",
              "3005                 Sin registro                f   \n",
              "3006                 Sin registro                f   \n",
              "3007                 Sin registro                f   \n",
              "3008                 Sin registro                f   \n",
              "3081  License not needed per OSTR                t   \n",
              "3082  License not needed per OSTR                t   \n",
              "3083  License not needed per OSTR                t   \n",
              "3084  License not needed per OSTR                t   \n",
              "3085  License not needed per OSTR                t   \n",
              "3086  License not needed per OSTR                t   \n",
              "3087  License not needed per OSTR                t   \n",
              "3088  License not needed per OSTR                t   \n",
              "3089  License not needed per OSTR                t   \n",
              "3188  License not needed per OSTR                t   \n",
              "3219  License not needed per OSTR                f   \n",
              "3243                       Exempt                t   \n",
              "3244                       Exempt                t   \n",
              "3249                       Exempt                t   \n",
              "3250                       Exempt                t   \n",
              "3251                       Exempt                t   \n",
              "3266  License not needed per OSTR                t   \n",
              "3288  License not needed per OSTR                f   \n",
              "3295  License not needed per OSTR                t   \n",
              "3296  License not needed per OSTR                t   \n",
              "3317  License not needed per OSTR                t   \n",
              "3327  License not needed per OSTR                f   \n",
              "3355  License not needed per OSTR                f   \n",
              "3396  License not needed per OSTR                f   \n",
              "3398                       Exempt                t   \n",
              "3399                       Exempt                t   \n",
              "3400                       Exempt                t   \n",
              "3401                       Exempt                f   \n",
              "4519                 Sin registro                f   \n",
              "4690                 Sin registro                f   \n",
              "\n",
              "     calculated_host_listings_count  \\\n",
              "711                              16   \n",
              "787                              16   \n",
              "938                               1   \n",
              "1704                             14   \n",
              "2229                             61   \n",
              "2230                             61   \n",
              "2246                             61   \n",
              "2247                             61   \n",
              "2248                             61   \n",
              "2252                             61   \n",
              "2287                             61   \n",
              "2289                             61   \n",
              "2292                             61   \n",
              "2298                             61   \n",
              "2301                             61   \n",
              "2368                             43   \n",
              "2982                             14   \n",
              "3004                              5   \n",
              "3005                              5   \n",
              "3006                              5   \n",
              "3007                              5   \n",
              "3008                              5   \n",
              "3081                              9   \n",
              "3082                              9   \n",
              "3083                              9   \n",
              "3084                              9   \n",
              "3085                              9   \n",
              "3086                              9   \n",
              "3087                              9   \n",
              "3088                              9   \n",
              "3089                              9   \n",
              "3188                             14   \n",
              "3219                             14   \n",
              "3243                              8   \n",
              "3244                              8   \n",
              "3249                             12   \n",
              "3250                             12   \n",
              "3251                             12   \n",
              "3266                              9   \n",
              "3288                             14   \n",
              "3295                              4   \n",
              "3296                              4   \n",
              "3317                              4   \n",
              "3327                             14   \n",
              "3355                             14   \n",
              "3396                              2   \n",
              "3398                              5   \n",
              "3399                              5   \n",
              "3400                              5   \n",
              "3401                              2   \n",
              "4519                              1   \n",
              "4690                              1   \n",
              "\n",
              "      calculated_host_listings_count_entire_homes  \\\n",
              "711                                             0   \n",
              "787                                             0   \n",
              "938                                             0   \n",
              "1704                                            0   \n",
              "2229                                            0   \n",
              "2230                                            0   \n",
              "2246                                            0   \n",
              "2247                                            0   \n",
              "2248                                            0   \n",
              "2252                                            0   \n",
              "2287                                            0   \n",
              "2289                                            0   \n",
              "2292                                            0   \n",
              "2298                                            0   \n",
              "2301                                            0   \n",
              "2368                                            0   \n",
              "2982                                            0   \n",
              "3004                                            0   \n",
              "3005                                            0   \n",
              "3006                                            0   \n",
              "3007                                            0   \n",
              "3008                                            0   \n",
              "3081                                            0   \n",
              "3082                                            0   \n",
              "3083                                            0   \n",
              "3084                                            0   \n",
              "3085                                            0   \n",
              "3086                                            0   \n",
              "3087                                            0   \n",
              "3088                                            0   \n",
              "3089                                            0   \n",
              "3188                                            0   \n",
              "3219                                            0   \n",
              "3243                                            0   \n",
              "3244                                            0   \n",
              "3249                                            0   \n",
              "3250                                            0   \n",
              "3251                                            0   \n",
              "3266                                            0   \n",
              "3288                                            0   \n",
              "3295                                            0   \n",
              "3296                                            0   \n",
              "3317                                            0   \n",
              "3327                                            0   \n",
              "3355                                            0   \n",
              "3396                                            0   \n",
              "3398                                            0   \n",
              "3399                                            0   \n",
              "3400                                            0   \n",
              "3401                                            0   \n",
              "4519                                            0   \n",
              "4690                                            0   \n",
              "\n",
              "      calculated_host_listings_count_private_rooms  \\\n",
              "711                                             14   \n",
              "787                                             14   \n",
              "938                                              0   \n",
              "1704                                             7   \n",
              "2229                                            50   \n",
              "2230                                            50   \n",
              "2246                                            50   \n",
              "2247                                            50   \n",
              "2248                                            50   \n",
              "2252                                            50   \n",
              "2287                                            50   \n",
              "2289                                            50   \n",
              "2292                                            50   \n",
              "2298                                            50   \n",
              "2301                                            50   \n",
              "2368                                            16   \n",
              "2982                                             7   \n",
              "3004                                             0   \n",
              "3005                                             0   \n",
              "3006                                             0   \n",
              "3007                                             0   \n",
              "3008                                             0   \n",
              "3081                                             0   \n",
              "3082                                             0   \n",
              "3083                                             0   \n",
              "3084                                             0   \n",
              "3085                                             0   \n",
              "3086                                             0   \n",
              "3087                                             0   \n",
              "3088                                             0   \n",
              "3089                                             0   \n",
              "3188                                             7   \n",
              "3219                                             7   \n",
              "3243                                             6   \n",
              "3244                                             6   \n",
              "3249                                             3   \n",
              "3250                                             3   \n",
              "3251                                             3   \n",
              "3266                                             8   \n",
              "3288                                             7   \n",
              "3295                                             1   \n",
              "3296                                             1   \n",
              "3317                                             1   \n",
              "3327                                             7   \n",
              "3355                                             7   \n",
              "3396                                             0   \n",
              "3398                                             2   \n",
              "3399                                             2   \n",
              "3400                                             2   \n",
              "3401                                             0   \n",
              "4519                                             0   \n",
              "4690                                             0   \n",
              "\n",
              "     calculated_host_listings_count_shared_rooms reviews_per_month  \n",
              "711                                            0              3.51  \n",
              "787                                            0              2.78  \n",
              "938                                            0              0.37  \n",
              "1704                                           0              0.24  \n",
              "2229                                           0              0.17  \n",
              "2230                                           0              0.06  \n",
              "2246                                           0              0.54  \n",
              "2247                                           0              0.35  \n",
              "2248                                           0              0.31  \n",
              "2252                                           0              0.43  \n",
              "2287                                           0              0.39  \n",
              "2289                                           0              0.47  \n",
              "2292                                           0              0.27  \n",
              "2298                                           0              0.09  \n",
              "2301                                           0              0.31  \n",
              "2368                                          26              1.12  \n",
              "2982                                           0              1.18  \n",
              "3004                                           0              0.04  \n",
              "3005                                           0              1.30  \n",
              "3006                                           0              0.02  \n",
              "3007                                           0              0.02  \n",
              "3008                                           0              1.30  \n",
              "3081                                           0              0.47  \n",
              "3082                                           0              0.07  \n",
              "3083                                           0              2.37  \n",
              "3084                                           0              0.10  \n",
              "3085                                           0              0.26  \n",
              "3086                                           0              0.34  \n",
              "3087                                           0              0.02  \n",
              "3088                                           0              1.48  \n",
              "3089                                           0              0.16  \n",
              "3188                                           0              2.04  \n",
              "3219                                           0              2.26  \n",
              "3243                                           0              0.96  \n",
              "3244                                           0              0.56  \n",
              "3249                                           6              3.12  \n",
              "3250                                           6              0.19  \n",
              "3251                                           6              0.92  \n",
              "3266                                           0              0.25  \n",
              "3288                                           0              2.23  \n",
              "3295                                           0             20.80  \n",
              "3296                                           0              3.23  \n",
              "3317                                           0              0.38  \n",
              "3327                                           0              2.03  \n",
              "3355                                           0              2.87  \n",
              "3396                                           0              0.05  \n",
              "3398                                           0              0.05  \n",
              "3399                                           0              0.03  \n",
              "3400                                           0              0.08  \n",
              "3401                                           0              1.30  \n",
              "4519                                           0              1.30  \n",
              "4690                                           0              0.46  \n",
              "\n",
              "[52 rows x 75 columns]"
            ],
            "text/html": [
              "\n",
              "  <div id=\"df-311ff83a-843c-407c-9e2e-fc11f1babec7\">\n",
              "    <div class=\"colab-df-container\">\n",
              "      <div>\n",
              "<style scoped>\n",
              "    .dataframe tbody tr th:only-of-type {\n",
              "        vertical-align: middle;\n",
              "    }\n",
              "\n",
              "    .dataframe tbody tr th {\n",
              "        vertical-align: top;\n",
              "    }\n",
              "\n",
              "    .dataframe thead th {\n",
              "        text-align: right;\n",
              "    }\n",
              "</style>\n",
              "<table border=\"1\" class=\"dataframe\">\n",
              "  <thead>\n",
              "    <tr style=\"text-align: right;\">\n",
              "      <th></th>\n",
              "      <th>Unnamed: 0</th>\n",
              "      <th>listing_url</th>\n",
              "      <th>scrape_id</th>\n",
              "      <th>last_scraped</th>\n",
              "      <th>source</th>\n",
              "      <th>name</th>\n",
              "      <th>description</th>\n",
              "      <th>neighborhood_overview</th>\n",
              "      <th>picture_url</th>\n",
              "      <th>host_id</th>\n",
              "      <th>...</th>\n",
              "      <th>review_scores_communication</th>\n",
              "      <th>review_scores_location</th>\n",
              "      <th>review_scores_value</th>\n",
              "      <th>license</th>\n",
              "      <th>instant_bookable</th>\n",
              "      <th>calculated_host_listings_count</th>\n",
              "      <th>calculated_host_listings_count_entire_homes</th>\n",
              "      <th>calculated_host_listings_count_private_rooms</th>\n",
              "      <th>calculated_host_listings_count_shared_rooms</th>\n",
              "      <th>reviews_per_month</th>\n",
              "    </tr>\n",
              "  </thead>\n",
              "  <tbody>\n",
              "    <tr>\n",
              "      <th>711</th>\n",
              "      <td>711</td>\n",
              "      <td>https://www.airbnb.com/rooms/4631873</td>\n",
              "      <td>20200000000000</td>\n",
              "      <td>2023-03-06</td>\n",
              "      <td>city scrape</td>\n",
              "      <td>Hotel Pac Hgts Queen Free Car ParkB</td>\n",
              "      <td>Please Instant Book. Need Valid Photo ID.&lt;br /...</td>\n",
              "      <td>Sin registro</td>\n",
              "      <td>https://a0.muscache.com/pictures/81807138/12b3...</td>\n",
              "      <td>20850212</td>\n",
              "      <td>...</td>\n",
              "      <td>4.82</td>\n",
              "      <td>4.88</td>\n",
              "      <td>4.63</td>\n",
              "      <td>FY 2017-18</td>\n",
              "      <td>t</td>\n",
              "      <td>16</td>\n",
              "      <td>0</td>\n",
              "      <td>14</td>\n",
              "      <td>0</td>\n",
              "      <td>3.51</td>\n",
              "    </tr>\n",
              "    <tr>\n",
              "      <th>787</th>\n",
              "      <td>787</td>\n",
              "      <td>https://www.airbnb.com/rooms/6169292</td>\n",
              "      <td>20200000000000</td>\n",
              "      <td>2023-03-06</td>\n",
              "      <td>city scrape</td>\n",
              "      <td>Hotel Pac Hgts 2 Bed Free Car ParkA</td>\n",
              "      <td>Please Instant Book. Need Valid Photo ID to ch...</td>\n",
              "      <td>Sin registro</td>\n",
              "      <td>https://a0.muscache.com/pictures/76888501/8774...</td>\n",
              "      <td>20850212</td>\n",
              "      <td>...</td>\n",
              "      <td>4.73</td>\n",
              "      <td>4.84</td>\n",
              "      <td>4.39</td>\n",
              "      <td>FY 2017-18</td>\n",
              "      <td>t</td>\n",
              "      <td>16</td>\n",
              "      <td>0</td>\n",
              "      <td>14</td>\n",
              "      <td>0</td>\n",
              "      <td>2.78</td>\n",
              "    </tr>\n",
              "    <tr>\n",
              "      <th>938</th>\n",
              "      <td>938</td>\n",
              "      <td>https://www.airbnb.com/rooms/6883183</td>\n",
              "      <td>20200000000000</td>\n",
              "      <td>2023-03-06</td>\n",
              "      <td>city scrape</td>\n",
              "      <td>Elegant Union Square hotel room</td>\n",
              "      <td>The Club Donatello is a four-star, Gold Crown,...</td>\n",
              "      <td>The Donatello Hotel is perfectly located one b...</td>\n",
              "      <td>https://a0.muscache.com/pictures/87115624/a239...</td>\n",
              "      <td>23593310</td>\n",
              "      <td>...</td>\n",
              "      <td>4.97</td>\n",
              "      <td>5.00</td>\n",
              "      <td>4.91</td>\n",
              "      <td>License not needed per OSTR</td>\n",
              "      <td>f</td>\n",
              "      <td>1</td>\n",
              "      <td>0</td>\n",
              "      <td>0</td>\n",
              "      <td>0</td>\n",
              "      <td>0.37</td>\n",
              "    </tr>\n",
              "    <tr>\n",
              "      <th>1704</th>\n",
              "      <td>1704</td>\n",
              "      <td>https://www.airbnb.com/rooms/16001051</td>\n",
              "      <td>20200000000000</td>\n",
              "      <td>2023-03-06</td>\n",
              "      <td>city scrape</td>\n",
              "      <td>Cozy Private Room - Mini Fridge, Fast WiFi, TV</td>\n",
              "      <td>You√¢‚Ç¨‚Ñ¢ll love my place because of the loc...</td>\n",
              "      <td>My place is located conveniently in the middle...</td>\n",
              "      <td>https://a0.muscache.com/pictures/miso/Hosting-...</td>\n",
              "      <td>103884979</td>\n",
              "      <td>...</td>\n",
              "      <td>4.59</td>\n",
              "      <td>3.88</td>\n",
              "      <td>4.29</td>\n",
              "      <td>Exempt</td>\n",
              "      <td>f</td>\n",
              "      <td>14</td>\n",
              "      <td>0</td>\n",
              "      <td>7</td>\n",
              "      <td>0</td>\n",
              "      <td>0.24</td>\n",
              "    </tr>\n",
              "    <tr>\n",
              "      <th>2229</th>\n",
              "      <td>2229</td>\n",
              "      <td>https://www.airbnb.com/rooms/23271377</td>\n",
              "      <td>20200000000000</td>\n",
              "      <td>2023-03-06</td>\n",
              "      <td>city scrape</td>\n",
              "      <td>Stratford Cozy Queen</td>\n",
              "      <td>For our soft opening we have decided to give A...</td>\n",
              "      <td>In the Heart of Union Square Shopping district!</td>\n",
              "      <td>https://a0.muscache.com/pictures/miso/Hosting-...</td>\n",
              "      <td>173206762</td>\n",
              "      <td>...</td>\n",
              "      <td>4.50</td>\n",
              "      <td>4.75</td>\n",
              "      <td>4.13</td>\n",
              "      <td>1083521</td>\n",
              "      <td>t</td>\n",
              "      <td>61</td>\n",
              "      <td>0</td>\n",
              "      <td>50</td>\n",
              "      <td>0</td>\n",
              "      <td>0.17</td>\n",
              "    </tr>\n",
              "    <tr>\n",
              "      <th>2230</th>\n",
              "      <td>2230</td>\n",
              "      <td>https://www.airbnb.com/rooms/23271459</td>\n",
              "      <td>20200000000000</td>\n",
              "      <td>2023-03-06</td>\n",
              "      <td>city scrape</td>\n",
              "      <td>Stratford Cozy Cool Queen</td>\n",
              "      <td>For our soft opening we have decided to give A...</td>\n",
              "      <td>Sin registro</td>\n",
              "      <td>https://a0.muscache.com/pictures/miso/Hosting-...</td>\n",
              "      <td>173206762</td>\n",
              "      <td>...</td>\n",
              "      <td>5.00</td>\n",
              "      <td>5.00</td>\n",
              "      <td>4.00</td>\n",
              "      <td>1083521</td>\n",
              "      <td>t</td>\n",
              "      <td>61</td>\n",
              "      <td>0</td>\n",
              "      <td>50</td>\n",
              "      <td>0</td>\n",
              "      <td>0.06</td>\n",
              "    </tr>\n",
              "    <tr>\n",
              "      <th>2246</th>\n",
              "      <td>2246</td>\n",
              "      <td>https://www.airbnb.com/rooms/23551086</td>\n",
              "      <td>20200000000000</td>\n",
              "      <td>2023-03-06</td>\n",
              "      <td>city scrape</td>\n",
              "      <td>Stratford Cozy Queen</td>\n",
              "      <td>For our soft opening we have decided to give A...</td>\n",
              "      <td>In the Heart of Union Square Shopping district!</td>\n",
              "      <td>https://a0.muscache.com/pictures/miso/Hosting-...</td>\n",
              "      <td>173206762</td>\n",
              "      <td>...</td>\n",
              "      <td>4.67</td>\n",
              "      <td>5.00</td>\n",
              "      <td>4.58</td>\n",
              "      <td>1083521</td>\n",
              "      <td>t</td>\n",
              "      <td>61</td>\n",
              "      <td>0</td>\n",
              "      <td>50</td>\n",
              "      <td>0</td>\n",
              "      <td>0.54</td>\n",
              "    </tr>\n",
              "    <tr>\n",
              "      <th>2247</th>\n",
              "      <td>2247</td>\n",
              "      <td>https://www.airbnb.com/rooms/23551138</td>\n",
              "      <td>20200000000000</td>\n",
              "      <td>2023-03-06</td>\n",
              "      <td>city scrape</td>\n",
              "      <td>Stratford Cozy Queen</td>\n",
              "      <td>For our soft opening we have decided to give A...</td>\n",
              "      <td>In the Heart of Union Square Shopping district!</td>\n",
              "      <td>https://a0.muscache.com/pictures/miso/Hosting-...</td>\n",
              "      <td>173206762</td>\n",
              "      <td>...</td>\n",
              "      <td>4.62</td>\n",
              "      <td>5.00</td>\n",
              "      <td>4.48</td>\n",
              "      <td>1083521</td>\n",
              "      <td>t</td>\n",
              "      <td>61</td>\n",
              "      <td>0</td>\n",
              "      <td>50</td>\n",
              "      <td>0</td>\n",
              "      <td>0.35</td>\n",
              "    </tr>\n",
              "    <tr>\n",
              "      <th>2248</th>\n",
              "      <td>2248</td>\n",
              "      <td>https://www.airbnb.com/rooms/23551287</td>\n",
              "      <td>20200000000000</td>\n",
              "      <td>2023-03-06</td>\n",
              "      <td>city scrape</td>\n",
              "      <td>Stratford Cozy Cool Queen</td>\n",
              "      <td>For our soft opening we have decided to give A...</td>\n",
              "      <td>Sin registro</td>\n",
              "      <td>https://a0.muscache.com/pictures/miso/Hosting-...</td>\n",
              "      <td>173206762</td>\n",
              "      <td>...</td>\n",
              "      <td>4.47</td>\n",
              "      <td>5.00</td>\n",
              "      <td>4.16</td>\n",
              "      <td>1083521</td>\n",
              "      <td>t</td>\n",
              "      <td>61</td>\n",
              "      <td>0</td>\n",
              "      <td>50</td>\n",
              "      <td>0</td>\n",
              "      <td>0.31</td>\n",
              "    </tr>\n",
              "    <tr>\n",
              "      <th>2252</th>\n",
              "      <td>2252</td>\n",
              "      <td>https://www.airbnb.com/rooms/23551835</td>\n",
              "      <td>20200000000000</td>\n",
              "      <td>2023-03-06</td>\n",
              "      <td>city scrape</td>\n",
              "      <td>Stratford Cozy Cool Queen</td>\n",
              "      <td>For our soft opening we have decided to give A...</td>\n",
              "      <td>Sin registro</td>\n",
              "      <td>https://a0.muscache.com/pictures/miso/Hosting-...</td>\n",
              "      <td>173206762</td>\n",
              "      <td>...</td>\n",
              "      <td>4.88</td>\n",
              "      <td>4.88</td>\n",
              "      <td>4.38</td>\n",
              "      <td>1083521</td>\n",
              "      <td>t</td>\n",
              "      <td>61</td>\n",
              "      <td>0</td>\n",
              "      <td>50</td>\n",
              "      <td>0</td>\n",
              "      <td>0.43</td>\n",
              "    </tr>\n",
              "    <tr>\n",
              "      <th>2287</th>\n",
              "      <td>2287</td>\n",
              "      <td>https://www.airbnb.com/rooms/23312390</td>\n",
              "      <td>20200000000000</td>\n",
              "      <td>2023-03-06</td>\n",
              "      <td>city scrape</td>\n",
              "      <td>Stratford Cozy Queen</td>\n",
              "      <td>For our soft opening we have decided to give A...</td>\n",
              "      <td>In the Heart of Union Square Shopping district!</td>\n",
              "      <td>https://a0.muscache.com/pictures/miso/Hosting-...</td>\n",
              "      <td>173206762</td>\n",
              "      <td>...</td>\n",
              "      <td>4.61</td>\n",
              "      <td>4.83</td>\n",
              "      <td>4.35</td>\n",
              "      <td>1083521</td>\n",
              "      <td>t</td>\n",
              "      <td>61</td>\n",
              "      <td>0</td>\n",
              "      <td>50</td>\n",
              "      <td>0</td>\n",
              "      <td>0.39</td>\n",
              "    </tr>\n",
              "    <tr>\n",
              "      <th>2289</th>\n",
              "      <td>2289</td>\n",
              "      <td>https://www.airbnb.com/rooms/23312525</td>\n",
              "      <td>20200000000000</td>\n",
              "      <td>2023-03-06</td>\n",
              "      <td>city scrape</td>\n",
              "      <td>Stratford Cozy Cool Queen</td>\n",
              "      <td>For our soft opening we have decided to give A...</td>\n",
              "      <td>Sin registro</td>\n",
              "      <td>https://a0.muscache.com/pictures/miso/Hosting-...</td>\n",
              "      <td>173206762</td>\n",
              "      <td>...</td>\n",
              "      <td>4.46</td>\n",
              "      <td>4.93</td>\n",
              "      <td>4.46</td>\n",
              "      <td>1083521</td>\n",
              "      <td>t</td>\n",
              "      <td>61</td>\n",
              "      <td>0</td>\n",
              "      <td>50</td>\n",
              "      <td>0</td>\n",
              "      <td>0.47</td>\n",
              "    </tr>\n",
              "    <tr>\n",
              "      <th>2292</th>\n",
              "      <td>2292</td>\n",
              "      <td>https://www.airbnb.com/rooms/23312644</td>\n",
              "      <td>20200000000000</td>\n",
              "      <td>2023-03-06</td>\n",
              "      <td>city scrape</td>\n",
              "      <td>Stratford Cozy Queen</td>\n",
              "      <td>For our soft opening we have decided to give A...</td>\n",
              "      <td>n the Heart of Union Square Shopping district!</td>\n",
              "      <td>https://a0.muscache.com/pictures/miso/Hosting-...</td>\n",
              "      <td>173206762</td>\n",
              "      <td>...</td>\n",
              "      <td>4.81</td>\n",
              "      <td>5.00</td>\n",
              "      <td>4.63</td>\n",
              "      <td>1083521</td>\n",
              "      <td>t</td>\n",
              "      <td>61</td>\n",
              "      <td>0</td>\n",
              "      <td>50</td>\n",
              "      <td>0</td>\n",
              "      <td>0.27</td>\n",
              "    </tr>\n",
              "    <tr>\n",
              "      <th>2298</th>\n",
              "      <td>2298</td>\n",
              "      <td>https://www.airbnb.com/rooms/23312854</td>\n",
              "      <td>20200000000000</td>\n",
              "      <td>2023-03-06</td>\n",
              "      <td>city scrape</td>\n",
              "      <td>Stratford Cozy Queen</td>\n",
              "      <td>For our soft opening we have decided to give A...</td>\n",
              "      <td>Sin registro</td>\n",
              "      <td>https://a0.muscache.com/pictures/miso/Hosting-...</td>\n",
              "      <td>173206762</td>\n",
              "      <td>...</td>\n",
              "      <td>4.75</td>\n",
              "      <td>4.75</td>\n",
              "      <td>4.50</td>\n",
              "      <td>1083521</td>\n",
              "      <td>t</td>\n",
              "      <td>61</td>\n",
              "      <td>0</td>\n",
              "      <td>50</td>\n",
              "      <td>0</td>\n",
              "      <td>0.09</td>\n",
              "    </tr>\n",
              "    <tr>\n",
              "      <th>2301</th>\n",
              "      <td>2301</td>\n",
              "      <td>https://www.airbnb.com/rooms/23313045</td>\n",
              "      <td>20200000000000</td>\n",
              "      <td>2023-03-06</td>\n",
              "      <td>city scrape</td>\n",
              "      <td>Stratford Cozy Queen</td>\n",
              "      <td>For our soft opening we have decided to give A...</td>\n",
              "      <td>In the Heart of Union Square Shopping district!</td>\n",
              "      <td>https://a0.muscache.com/pictures/miso/Hosting-...</td>\n",
              "      <td>173206762</td>\n",
              "      <td>...</td>\n",
              "      <td>4.58</td>\n",
              "      <td>4.79</td>\n",
              "      <td>4.21</td>\n",
              "      <td>1083521</td>\n",
              "      <td>t</td>\n",
              "      <td>61</td>\n",
              "      <td>0</td>\n",
              "      <td>50</td>\n",
              "      <td>0</td>\n",
              "      <td>0.31</td>\n",
              "    </tr>\n",
              "    <tr>\n",
              "      <th>2368</th>\n",
              "      <td>2368</td>\n",
              "      <td>https://www.airbnb.com/rooms/23004935</td>\n",
              "      <td>20200000000000</td>\n",
              "      <td>2023-03-06</td>\n",
              "      <td>previous scrape</td>\n",
              "      <td>Red Victorian - Private room -  Rainbow Room</td>\n",
              "      <td>The Rainbow Room is a private bedroom for up t...</td>\n",
              "      <td>Haight-Ashbury is an incredible relic of San F...</td>\n",
              "      <td>https://a0.muscache.com/pictures/008f2fad-9eb3...</td>\n",
              "      <td>117141107</td>\n",
              "      <td>...</td>\n",
              "      <td>4.86</td>\n",
              "      <td>4.87</td>\n",
              "      <td>4.59</td>\n",
              "      <td>1003249</td>\n",
              "      <td>t</td>\n",
              "      <td>43</td>\n",
              "      <td>0</td>\n",
              "      <td>16</td>\n",
              "      <td>26</td>\n",
              "      <td>1.12</td>\n",
              "    </tr>\n",
              "    <tr>\n",
              "      <th>2982</th>\n",
              "      <td>2982</td>\n",
              "      <td>https://www.airbnb.com/rooms/32867573</td>\n",
              "      <td>20200000000000</td>\n",
              "      <td>2023-03-06</td>\n",
              "      <td>city scrape</td>\n",
              "      <td>Cute &amp; Cozy Room - near BART Station</td>\n",
              "      <td>We are small boutique property with newly remo...</td>\n",
              "      <td>We are conveniently located to SF's best spots...</td>\n",
              "      <td>https://a0.muscache.com/pictures/d8eebd1c-fa95...</td>\n",
              "      <td>103884979</td>\n",
              "      <td>...</td>\n",
              "      <td>4.65</td>\n",
              "      <td>4.11</td>\n",
              "      <td>4.53</td>\n",
              "      <td>License not needed per OSTR</td>\n",
              "      <td>f</td>\n",
              "      <td>14</td>\n",
              "      <td>0</td>\n",
              "      <td>7</td>\n",
              "      <td>0</td>\n",
              "      <td>1.18</td>\n",
              "    </tr>\n",
              "    <tr>\n",
              "      <th>3004</th>\n",
              "      <td>3004</td>\n",
              "      <td>https://www.airbnb.com/rooms/33368652</td>\n",
              "      <td>20200000000000</td>\n",
              "      <td>2023-03-06</td>\n",
              "      <td>previous scrape</td>\n",
              "      <td>Deluxe Room 2 Queen Beds</td>\n",
              "      <td>2 Queen Beds&lt;br /&gt;&lt;br /&gt;Internet - Free WiFi &lt;...</td>\n",
              "      <td>Sin registro</td>\n",
              "      <td>https://a0.muscache.com/pictures/43a58ca1-648d...</td>\n",
              "      <td>251141990</td>\n",
              "      <td>...</td>\n",
              "      <td>5.00</td>\n",
              "      <td>5.00</td>\n",
              "      <td>5.00</td>\n",
              "      <td>Sin registro</td>\n",
              "      <td>f</td>\n",
              "      <td>5</td>\n",
              "      <td>0</td>\n",
              "      <td>0</td>\n",
              "      <td>0</td>\n",
              "      <td>0.04</td>\n",
              "    </tr>\n",
              "    <tr>\n",
              "      <th>3005</th>\n",
              "      <td>3005</td>\n",
              "      <td>https://www.airbnb.com/rooms/33370186</td>\n",
              "      <td>20200000000000</td>\n",
              "      <td>2023-03-06</td>\n",
              "      <td>previous scrape</td>\n",
              "      <td>Signature Suite 1 Bedroom (Spa) 1 King Bed</td>\n",
              "      <td>1 King Bed&lt;br /&gt;&lt;br /&gt;625-sq-foot (58-sq-meter...</td>\n",
              "      <td>Sin registro</td>\n",
              "      <td>https://a0.muscache.com/pictures/b3e1062e-6c59...</td>\n",
              "      <td>251141990</td>\n",
              "      <td>...</td>\n",
              "      <td>4.90</td>\n",
              "      <td>4.80</td>\n",
              "      <td>4.70</td>\n",
              "      <td>Sin registro</td>\n",
              "      <td>f</td>\n",
              "      <td>5</td>\n",
              "      <td>0</td>\n",
              "      <td>0</td>\n",
              "      <td>0</td>\n",
              "      <td>1.30</td>\n",
              "    </tr>\n",
              "    <tr>\n",
              "      <th>3006</th>\n",
              "      <td>3006</td>\n",
              "      <td>https://www.airbnb.com/rooms/33370525</td>\n",
              "      <td>20200000000000</td>\n",
              "      <td>2023-03-06</td>\n",
              "      <td>previous scrape</td>\n",
              "      <td>Deluxe Room 2 Double Beds 2 Full Beds</td>\n",
              "      <td>2 Double Beds&lt;br /&gt;&lt;br /&gt;248-sq-foot (23-sq-me...</td>\n",
              "      <td>Sin registro</td>\n",
              "      <td>https://a0.muscache.com/pictures/d3241f34-4b3d...</td>\n",
              "      <td>251141990</td>\n",
              "      <td>...</td>\n",
              "      <td>5.00</td>\n",
              "      <td>5.00</td>\n",
              "      <td>4.00</td>\n",
              "      <td>Sin registro</td>\n",
              "      <td>f</td>\n",
              "      <td>5</td>\n",
              "      <td>0</td>\n",
              "      <td>0</td>\n",
              "      <td>0</td>\n",
              "      <td>0.02</td>\n",
              "    </tr>\n",
              "    <tr>\n",
              "      <th>3007</th>\n",
              "      <td>3007</td>\n",
              "      <td>https://www.airbnb.com/rooms/33370910</td>\n",
              "      <td>20200000000000</td>\n",
              "      <td>2023-03-06</td>\n",
              "      <td>previous scrape</td>\n",
              "      <td>Economy Petite 2 Double Beds</td>\n",
              "      <td>2 Double Beds&lt;br /&gt;&lt;br /&gt;180 sq feet (16 sq me...</td>\n",
              "      <td>Sin registro</td>\n",
              "      <td>https://a0.muscache.com/pictures/2809e80d-47fd...</td>\n",
              "      <td>251141990</td>\n",
              "      <td>...</td>\n",
              "      <td>3.00</td>\n",
              "      <td>5.00</td>\n",
              "      <td>1.00</td>\n",
              "      <td>Sin registro</td>\n",
              "      <td>f</td>\n",
              "      <td>5</td>\n",
              "      <td>0</td>\n",
              "      <td>0</td>\n",
              "      <td>0</td>\n",
              "      <td>0.02</td>\n",
              "    </tr>\n",
              "    <tr>\n",
              "      <th>3008</th>\n",
              "      <td>3008</td>\n",
              "      <td>https://www.airbnb.com/rooms/33386303</td>\n",
              "      <td>20200000000000</td>\n",
              "      <td>2023-03-06</td>\n",
              "      <td>previous scrape</td>\n",
              "      <td>Deluxe Room 1 Queen Bed</td>\n",
              "      <td>1 Queen Bed&lt;br /&gt;&lt;br /&gt;Internet - Free WiFi &lt;b...</td>\n",
              "      <td>Sin registro</td>\n",
              "      <td>https://a0.muscache.com/pictures/5efa1a9f-bc86...</td>\n",
              "      <td>251141990</td>\n",
              "      <td>...</td>\n",
              "      <td>4.90</td>\n",
              "      <td>4.80</td>\n",
              "      <td>4.70</td>\n",
              "      <td>Sin registro</td>\n",
              "      <td>f</td>\n",
              "      <td>5</td>\n",
              "      <td>0</td>\n",
              "      <td>0</td>\n",
              "      <td>0</td>\n",
              "      <td>1.30</td>\n",
              "    </tr>\n",
              "    <tr>\n",
              "      <th>3081</th>\n",
              "      <td>3081</td>\n",
              "      <td>https://www.airbnb.com/rooms/33969918</td>\n",
              "      <td>20200000000000</td>\n",
              "      <td>2023-03-06</td>\n",
              "      <td>city scrape</td>\n",
              "      <td>Premium Queen Room B</td>\n",
              "      <td>Your next trip to San Francisco starts with a ...</td>\n",
              "      <td>Sin registro</td>\n",
              "      <td>https://a0.muscache.com/pictures/prohost-api/H...</td>\n",
              "      <td>250109940</td>\n",
              "      <td>...</td>\n",
              "      <td>5.00</td>\n",
              "      <td>4.83</td>\n",
              "      <td>4.67</td>\n",
              "      <td>License not needed per OSTR</td>\n",
              "      <td>t</td>\n",
              "      <td>9</td>\n",
              "      <td>0</td>\n",
              "      <td>0</td>\n",
              "      <td>0</td>\n",
              "      <td>0.47</td>\n",
              "    </tr>\n",
              "    <tr>\n",
              "      <th>3082</th>\n",
              "      <td>3082</td>\n",
              "      <td>https://www.airbnb.com/rooms/33969945</td>\n",
              "      <td>20200000000000</td>\n",
              "      <td>2023-03-06</td>\n",
              "      <td>city scrape</td>\n",
              "      <td>Premium Queen Room C</td>\n",
              "      <td>Our smart-design space is perfect for anyone l...</td>\n",
              "      <td>Sin registro</td>\n",
              "      <td>https://a0.muscache.com/pictures/prohost-api/H...</td>\n",
              "      <td>250109940</td>\n",
              "      <td>...</td>\n",
              "      <td>4.33</td>\n",
              "      <td>3.00</td>\n",
              "      <td>4.00</td>\n",
              "      <td>License not needed per OSTR</td>\n",
              "      <td>t</td>\n",
              "      <td>9</td>\n",
              "      <td>0</td>\n",
              "      <td>0</td>\n",
              "      <td>0</td>\n",
              "      <td>0.07</td>\n",
              "    </tr>\n",
              "    <tr>\n",
              "      <th>3083</th>\n",
              "      <td>3083</td>\n",
              "      <td>https://www.airbnb.com/rooms/33969998</td>\n",
              "      <td>20200000000000</td>\n",
              "      <td>2023-03-06</td>\n",
              "      <td>city scrape</td>\n",
              "      <td>Premium Queen Room A</td>\n",
              "      <td>Our spacious First Class Queen Suite has beaut...</td>\n",
              "      <td>Sin registro</td>\n",
              "      <td>https://a0.muscache.com/pictures/prohost-api/H...</td>\n",
              "      <td>250109940</td>\n",
              "      <td>...</td>\n",
              "      <td>4.74</td>\n",
              "      <td>4.07</td>\n",
              "      <td>4.67</td>\n",
              "      <td>License not needed per OSTR</td>\n",
              "      <td>t</td>\n",
              "      <td>9</td>\n",
              "      <td>0</td>\n",
              "      <td>0</td>\n",
              "      <td>0</td>\n",
              "      <td>2.37</td>\n",
              "    </tr>\n",
              "    <tr>\n",
              "      <th>3084</th>\n",
              "      <td>3084</td>\n",
              "      <td>https://www.airbnb.com/rooms/33970015</td>\n",
              "      <td>20200000000000</td>\n",
              "      <td>2023-03-06</td>\n",
              "      <td>city scrape</td>\n",
              "      <td>Premium Queen with Bunk B</td>\n",
              "      <td>Our smart-design space is perfect for anyone l...</td>\n",
              "      <td>Sin registro</td>\n",
              "      <td>https://a0.muscache.com/pictures/prohost-api/H...</td>\n",
              "      <td>250109940</td>\n",
              "      <td>...</td>\n",
              "      <td>4.75</td>\n",
              "      <td>3.25</td>\n",
              "      <td>4.00</td>\n",
              "      <td>License not needed per OSTR</td>\n",
              "      <td>t</td>\n",
              "      <td>9</td>\n",
              "      <td>0</td>\n",
              "      <td>0</td>\n",
              "      <td>0</td>\n",
              "      <td>0.10</td>\n",
              "    </tr>\n",
              "    <tr>\n",
              "      <th>3085</th>\n",
              "      <td>3085</td>\n",
              "      <td>https://www.airbnb.com/rooms/33970040</td>\n",
              "      <td>20200000000000</td>\n",
              "      <td>2023-03-06</td>\n",
              "      <td>city scrape</td>\n",
              "      <td>Premium Queen with Bunk C</td>\n",
              "      <td>Your next trip to San Francisco starts with a ...</td>\n",
              "      <td>Sin registro</td>\n",
              "      <td>https://a0.muscache.com/pictures/prohost-api/H...</td>\n",
              "      <td>250109940</td>\n",
              "      <td>...</td>\n",
              "      <td>5.00</td>\n",
              "      <td>4.00</td>\n",
              "      <td>5.00</td>\n",
              "      <td>License not needed per OSTR</td>\n",
              "      <td>t</td>\n",
              "      <td>9</td>\n",
              "      <td>0</td>\n",
              "      <td>0</td>\n",
              "      <td>0</td>\n",
              "      <td>0.26</td>\n",
              "    </tr>\n",
              "    <tr>\n",
              "      <th>3086</th>\n",
              "      <td>3086</td>\n",
              "      <td>https://www.airbnb.com/rooms/33970056</td>\n",
              "      <td>20200000000000</td>\n",
              "      <td>2023-03-06</td>\n",
              "      <td>previous scrape</td>\n",
              "      <td>Interior Sky Room C</td>\n",
              "      <td>Our sleek, well-designed space is perfect for ...</td>\n",
              "      <td>Sin registro</td>\n",
              "      <td>https://a0.muscache.com/pictures/prohost-api/H...</td>\n",
              "      <td>250109940</td>\n",
              "      <td>...</td>\n",
              "      <td>5.00</td>\n",
              "      <td>3.75</td>\n",
              "      <td>4.50</td>\n",
              "      <td>License not needed per OSTR</td>\n",
              "      <td>t</td>\n",
              "      <td>9</td>\n",
              "      <td>0</td>\n",
              "      <td>0</td>\n",
              "      <td>0</td>\n",
              "      <td>0.34</td>\n",
              "    </tr>\n",
              "    <tr>\n",
              "      <th>3087</th>\n",
              "      <td>3087</td>\n",
              "      <td>https://www.airbnb.com/rooms/33970080</td>\n",
              "      <td>20200000000000</td>\n",
              "      <td>2023-03-06</td>\n",
              "      <td>city scrape</td>\n",
              "      <td>Premium Queen with Bunk A</td>\n",
              "      <td>Enjoy a beautiful view of City Hall when you s...</td>\n",
              "      <td>Sin registro</td>\n",
              "      <td>https://a0.muscache.com/pictures/prohost-api/H...</td>\n",
              "      <td>250109940</td>\n",
              "      <td>...</td>\n",
              "      <td>1.00</td>\n",
              "      <td>2.00</td>\n",
              "      <td>2.00</td>\n",
              "      <td>License not needed per OSTR</td>\n",
              "      <td>t</td>\n",
              "      <td>9</td>\n",
              "      <td>0</td>\n",
              "      <td>0</td>\n",
              "      <td>0</td>\n",
              "      <td>0.02</td>\n",
              "    </tr>\n",
              "    <tr>\n",
              "      <th>3088</th>\n",
              "      <td>3088</td>\n",
              "      <td>https://www.airbnb.com/rooms/33970108</td>\n",
              "      <td>20200000000000</td>\n",
              "      <td>2023-03-06</td>\n",
              "      <td>previous scrape</td>\n",
              "      <td>Interior Sky Room B</td>\n",
              "      <td>Interior Sky Cabin B&lt;br /&gt;&lt;br /&gt;&lt;b&gt;The space&lt;/...</td>\n",
              "      <td>Sin registro</td>\n",
              "      <td>https://a0.muscache.com/pictures/prohost-api/H...</td>\n",
              "      <td>250109940</td>\n",
              "      <td>...</td>\n",
              "      <td>4.70</td>\n",
              "      <td>3.78</td>\n",
              "      <td>4.24</td>\n",
              "      <td>License not needed per OSTR</td>\n",
              "      <td>t</td>\n",
              "      <td>9</td>\n",
              "      <td>0</td>\n",
              "      <td>0</td>\n",
              "      <td>0</td>\n",
              "      <td>1.48</td>\n",
              "    </tr>\n",
              "    <tr>\n",
              "      <th>3089</th>\n",
              "      <td>3089</td>\n",
              "      <td>https://www.airbnb.com/rooms/33970139</td>\n",
              "      <td>20200000000000</td>\n",
              "      <td>2023-03-06</td>\n",
              "      <td>previous scrape</td>\n",
              "      <td>Interior Sky Room A</td>\n",
              "      <td>VIP suite offers stunning views of SF and plen...</td>\n",
              "      <td>Sin registro</td>\n",
              "      <td>https://a0.muscache.com/pictures/prohost-api/H...</td>\n",
              "      <td>250109940</td>\n",
              "      <td>...</td>\n",
              "      <td>5.00</td>\n",
              "      <td>3.50</td>\n",
              "      <td>4.00</td>\n",
              "      <td>License not needed per OSTR</td>\n",
              "      <td>t</td>\n",
              "      <td>9</td>\n",
              "      <td>0</td>\n",
              "      <td>0</td>\n",
              "      <td>0</td>\n",
              "      <td>0.16</td>\n",
              "    </tr>\n",
              "    <tr>\n",
              "      <th>3188</th>\n",
              "      <td>3188</td>\n",
              "      <td>https://www.airbnb.com/rooms/34785290</td>\n",
              "      <td>20200000000000</td>\n",
              "      <td>2023-03-06</td>\n",
              "      <td>city scrape</td>\n",
              "      <td>Moscone Convention - BART - Room with Nice Tou...</td>\n",
              "      <td>You√¢‚Ç¨‚Ñ¢ll love my place because of the loc...</td>\n",
              "      <td>My place is located conveniently in the middle...</td>\n",
              "      <td>https://a0.muscache.com/pictures/miso/Hosting-...</td>\n",
              "      <td>103884979</td>\n",
              "      <td>...</td>\n",
              "      <td>4.76</td>\n",
              "      <td>4.04</td>\n",
              "      <td>4.54</td>\n",
              "      <td>License not needed per OSTR</td>\n",
              "      <td>t</td>\n",
              "      <td>14</td>\n",
              "      <td>0</td>\n",
              "      <td>7</td>\n",
              "      <td>0</td>\n",
              "      <td>2.04</td>\n",
              "    </tr>\n",
              "    <tr>\n",
              "      <th>3219</th>\n",
              "      <td>3219</td>\n",
              "      <td>https://www.airbnb.com/rooms/35376420</td>\n",
              "      <td>20200000000000</td>\n",
              "      <td>2023-03-06</td>\n",
              "      <td>city scrape</td>\n",
              "      <td>Upscale Dorm Style - Private Room + own Fridge</td>\n",
              "      <td>We are a small boutique property with newly re...</td>\n",
              "      <td>The neighborhood is right in the City Center, ...</td>\n",
              "      <td>https://a0.muscache.com/pictures/miso/Hosting-...</td>\n",
              "      <td>103884979</td>\n",
              "      <td>...</td>\n",
              "      <td>4.78</td>\n",
              "      <td>4.26</td>\n",
              "      <td>4.43</td>\n",
              "      <td>License not needed per OSTR</td>\n",
              "      <td>f</td>\n",
              "      <td>14</td>\n",
              "      <td>0</td>\n",
              "      <td>7</td>\n",
              "      <td>0</td>\n",
              "      <td>2.26</td>\n",
              "    </tr>\n",
              "    <tr>\n",
              "      <th>3243</th>\n",
              "      <td>3243</td>\n",
              "      <td>https://www.airbnb.com/rooms/35493661</td>\n",
              "      <td>20200000000000</td>\n",
              "      <td>2023-03-06</td>\n",
              "      <td>city scrape</td>\n",
              "      <td>Hotel Bijou, Superior Queen Bed</td>\n",
              "      <td>You won√¢‚Ç¨‚Ñ¢t find many other hotels near U...</td>\n",
              "      <td>Sin registro</td>\n",
              "      <td>https://a0.muscache.com/pictures/dbf76c5f-1bdf...</td>\n",
              "      <td>266321575</td>\n",
              "      <td>...</td>\n",
              "      <td>4.75</td>\n",
              "      <td>4.38</td>\n",
              "      <td>4.53</td>\n",
              "      <td>Exempt</td>\n",
              "      <td>t</td>\n",
              "      <td>8</td>\n",
              "      <td>0</td>\n",
              "      <td>6</td>\n",
              "      <td>0</td>\n",
              "      <td>0.96</td>\n",
              "    </tr>\n",
              "    <tr>\n",
              "      <th>3244</th>\n",
              "      <td>3244</td>\n",
              "      <td>https://www.airbnb.com/rooms/35493829</td>\n",
              "      <td>20200000000000</td>\n",
              "      <td>2023-03-06</td>\n",
              "      <td>previous scrape</td>\n",
              "      <td>Hotel Bijou, Superior King Bed</td>\n",
              "      <td>You won√¢‚Ç¨‚Ñ¢t find many other hotels near U...</td>\n",
              "      <td>Sin registro</td>\n",
              "      <td>https://a0.muscache.com/pictures/dbf76c5f-1bdf...</td>\n",
              "      <td>266321575</td>\n",
              "      <td>...</td>\n",
              "      <td>4.68</td>\n",
              "      <td>3.77</td>\n",
              "      <td>4.55</td>\n",
              "      <td>Exempt</td>\n",
              "      <td>t</td>\n",
              "      <td>8</td>\n",
              "      <td>0</td>\n",
              "      <td>6</td>\n",
              "      <td>0</td>\n",
              "      <td>0.56</td>\n",
              "    </tr>\n",
              "    <tr>\n",
              "      <th>3249</th>\n",
              "      <td>3249</td>\n",
              "      <td>https://www.airbnb.com/rooms/35494267</td>\n",
              "      <td>20200000000000</td>\n",
              "      <td>2023-03-06</td>\n",
              "      <td>city scrape</td>\n",
              "      <td>Music City Hotel, Queen Room with Shared Bathroom</td>\n",
              "      <td>Private room with Queen size bed and shared re...</td>\n",
              "      <td>Music City Hotel is located in the vibrant Pol...</td>\n",
              "      <td>https://a0.muscache.com/pictures/miso/Hosting-...</td>\n",
              "      <td>102523118</td>\n",
              "      <td>...</td>\n",
              "      <td>4.81</td>\n",
              "      <td>4.65</td>\n",
              "      <td>4.57</td>\n",
              "      <td>Exempt</td>\n",
              "      <td>t</td>\n",
              "      <td>12</td>\n",
              "      <td>0</td>\n",
              "      <td>3</td>\n",
              "      <td>6</td>\n",
              "      <td>3.12</td>\n",
              "    </tr>\n",
              "    <tr>\n",
              "      <th>3250</th>\n",
              "      <td>3250</td>\n",
              "      <td>https://www.airbnb.com/rooms/35494371</td>\n",
              "      <td>20200000000000</td>\n",
              "      <td>2023-03-06</td>\n",
              "      <td>city scrape</td>\n",
              "      <td>Janis Joplin Themed Room with Private Bathroom</td>\n",
              "      <td>Private room with King size bed and private ba...</td>\n",
              "      <td>Music City Hotel is located in the vibrant Pol...</td>\n",
              "      <td>https://a0.muscache.com/pictures/miso/Hosting-...</td>\n",
              "      <td>102523118</td>\n",
              "      <td>...</td>\n",
              "      <td>4.75</td>\n",
              "      <td>4.88</td>\n",
              "      <td>4.50</td>\n",
              "      <td>Exempt</td>\n",
              "      <td>t</td>\n",
              "      <td>12</td>\n",
              "      <td>0</td>\n",
              "      <td>3</td>\n",
              "      <td>6</td>\n",
              "      <td>0.19</td>\n",
              "    </tr>\n",
              "    <tr>\n",
              "      <th>3251</th>\n",
              "      <td>3251</td>\n",
              "      <td>https://www.airbnb.com/rooms/35494419</td>\n",
              "      <td>20200000000000</td>\n",
              "      <td>2023-03-06</td>\n",
              "      <td>city scrape</td>\n",
              "      <td>Music City Hotel, Summer of Love Suite</td>\n",
              "      <td>Summer of Love themed Suite with two Queen bed...</td>\n",
              "      <td>Music City Hotel is located in the vibrant Pol...</td>\n",
              "      <td>https://a0.muscache.com/pictures/miso/Hosting-...</td>\n",
              "      <td>102523118</td>\n",
              "      <td>...</td>\n",
              "      <td>4.78</td>\n",
              "      <td>4.51</td>\n",
              "      <td>4.54</td>\n",
              "      <td>Exempt</td>\n",
              "      <td>t</td>\n",
              "      <td>12</td>\n",
              "      <td>0</td>\n",
              "      <td>3</td>\n",
              "      <td>6</td>\n",
              "      <td>0.92</td>\n",
              "    </tr>\n",
              "    <tr>\n",
              "      <th>3266</th>\n",
              "      <td>3266</td>\n",
              "      <td>https://www.airbnb.com/rooms/36560687</td>\n",
              "      <td>20200000000000</td>\n",
              "      <td>2023-03-06</td>\n",
              "      <td>city scrape</td>\n",
              "      <td>Club Wyndham Canterbury One-Bedroom Suite</td>\n",
              "      <td>This spacious one-bedroom resort suite measure...</td>\n",
              "      <td>Wyndham Canterbury at San Francisco is your ge...</td>\n",
              "      <td>https://a0.muscache.com/pictures/8a2a56b4-d28d...</td>\n",
              "      <td>266083019</td>\n",
              "      <td>...</td>\n",
              "      <td>4.40</td>\n",
              "      <td>4.90</td>\n",
              "      <td>4.90</td>\n",
              "      <td>License not needed per OSTR</td>\n",
              "      <td>t</td>\n",
              "      <td>9</td>\n",
              "      <td>0</td>\n",
              "      <td>8</td>\n",
              "      <td>0</td>\n",
              "      <td>0.25</td>\n",
              "    </tr>\n",
              "    <tr>\n",
              "      <th>3288</th>\n",
              "      <td>3288</td>\n",
              "      <td>https://www.airbnb.com/rooms/35944209</td>\n",
              "      <td>20200000000000</td>\n",
              "      <td>2023-03-06</td>\n",
              "      <td>city scrape</td>\n",
              "      <td>Bed &amp; Breakfast - Charming Room - Cozy &amp; Clean</td>\n",
              "      <td>You√¢‚Ç¨‚Ñ¢ll love my place because of the loc...</td>\n",
              "      <td>Just a heads up, we are right in the middle of...</td>\n",
              "      <td>https://a0.muscache.com/pictures/miso/Hosting-...</td>\n",
              "      <td>103884979</td>\n",
              "      <td>...</td>\n",
              "      <td>4.72</td>\n",
              "      <td>4.09</td>\n",
              "      <td>4.46</td>\n",
              "      <td>License not needed per OSTR</td>\n",
              "      <td>f</td>\n",
              "      <td>14</td>\n",
              "      <td>0</td>\n",
              "      <td>7</td>\n",
              "      <td>0</td>\n",
              "      <td>2.23</td>\n",
              "    </tr>\n",
              "    <tr>\n",
              "      <th>3295</th>\n",
              "      <td>3295</td>\n",
              "      <td>https://www.airbnb.com/rooms/35642179</td>\n",
              "      <td>20200000000000</td>\n",
              "      <td>2023-03-06</td>\n",
              "      <td>city scrape</td>\n",
              "      <td>Grant Plaza Hotel, Standard Double</td>\n",
              "      <td>Rated the best hotel for your value, the Grant...</td>\n",
              "      <td>Gateway to Chinatown, 5 minutes walk, 3 blocks...</td>\n",
              "      <td>https://a0.muscache.com/pictures/260539bb-99d6...</td>\n",
              "      <td>265029065</td>\n",
              "      <td>...</td>\n",
              "      <td>4.63</td>\n",
              "      <td>4.74</td>\n",
              "      <td>4.33</td>\n",
              "      <td>License not needed per OSTR</td>\n",
              "      <td>t</td>\n",
              "      <td>4</td>\n",
              "      <td>0</td>\n",
              "      <td>1</td>\n",
              "      <td>0</td>\n",
              "      <td>20.80</td>\n",
              "    </tr>\n",
              "    <tr>\n",
              "      <th>3296</th>\n",
              "      <td>3296</td>\n",
              "      <td>https://www.airbnb.com/rooms/35642877</td>\n",
              "      <td>20200000000000</td>\n",
              "      <td>2023-03-06</td>\n",
              "      <td>city scrape</td>\n",
              "      <td>Grant Plaza Hotel, Standard Twin</td>\n",
              "      <td>Rated the best hotel for your value, Grant Pla...</td>\n",
              "      <td>Gateway to Chinatown, 5 minutes walk, 3 blocks...</td>\n",
              "      <td>https://a0.muscache.com/pictures/9e14dc12-9489...</td>\n",
              "      <td>265029065</td>\n",
              "      <td>...</td>\n",
              "      <td>4.58</td>\n",
              "      <td>4.72</td>\n",
              "      <td>4.31</td>\n",
              "      <td>License not needed per OSTR</td>\n",
              "      <td>t</td>\n",
              "      <td>4</td>\n",
              "      <td>0</td>\n",
              "      <td>1</td>\n",
              "      <td>0</td>\n",
              "      <td>3.23</td>\n",
              "    </tr>\n",
              "    <tr>\n",
              "      <th>3317</th>\n",
              "      <td>3317</td>\n",
              "      <td>https://www.airbnb.com/rooms/35643330</td>\n",
              "      <td>20200000000000</td>\n",
              "      <td>2023-03-06</td>\n",
              "      <td>city scrape</td>\n",
              "      <td>Grant Plaza Hotel, Deluxe Double-Double</td>\n",
              "      <td>Rated the best hotel for your value, the Grant...</td>\n",
              "      <td>Gateway to Chinatown, 5 minutes walk, 3 blocks...</td>\n",
              "      <td>https://a0.muscache.com/pictures/2fbaf766-fcf9...</td>\n",
              "      <td>265029065</td>\n",
              "      <td>...</td>\n",
              "      <td>4.79</td>\n",
              "      <td>4.86</td>\n",
              "      <td>4.36</td>\n",
              "      <td>License not needed per OSTR</td>\n",
              "      <td>t</td>\n",
              "      <td>4</td>\n",
              "      <td>0</td>\n",
              "      <td>1</td>\n",
              "      <td>0</td>\n",
              "      <td>0.38</td>\n",
              "    </tr>\n",
              "    <tr>\n",
              "      <th>3327</th>\n",
              "      <td>3327</td>\n",
              "      <td>https://www.airbnb.com/rooms/35691437</td>\n",
              "      <td>20200000000000</td>\n",
              "      <td>2023-03-06</td>\n",
              "      <td>city scrape</td>\n",
              "      <td>Contemporary &amp; Cozy Room - City Center</td>\n",
              "      <td>You√¢‚Ç¨‚Ñ¢ll love my place because of the loc...</td>\n",
              "      <td>Just a heads up, we are right in the middle of...</td>\n",
              "      <td>https://a0.muscache.com/pictures/eb12904e-7ac3...</td>\n",
              "      <td>103884979</td>\n",
              "      <td>...</td>\n",
              "      <td>4.73</td>\n",
              "      <td>4.20</td>\n",
              "      <td>4.63</td>\n",
              "      <td>License not needed per OSTR</td>\n",
              "      <td>f</td>\n",
              "      <td>14</td>\n",
              "      <td>0</td>\n",
              "      <td>7</td>\n",
              "      <td>0</td>\n",
              "      <td>2.03</td>\n",
              "    </tr>\n",
              "    <tr>\n",
              "      <th>3355</th>\n",
              "      <td>3355</td>\n",
              "      <td>https://www.airbnb.com/rooms/36139589</td>\n",
              "      <td>20200000000000</td>\n",
              "      <td>2023-03-06</td>\n",
              "      <td>city scrape</td>\n",
              "      <td>BART Civic Center - Moscone Convention Center</td>\n",
              "      <td>You√¢‚Ç¨‚Ñ¢ll love my place because of the loc...</td>\n",
              "      <td>Just a heads up, we are right in the middle of...</td>\n",
              "      <td>https://a0.muscache.com/pictures/miso/Hosting-...</td>\n",
              "      <td>103884979</td>\n",
              "      <td>...</td>\n",
              "      <td>4.75</td>\n",
              "      <td>4.04</td>\n",
              "      <td>4.46</td>\n",
              "      <td>License not needed per OSTR</td>\n",
              "      <td>f</td>\n",
              "      <td>14</td>\n",
              "      <td>0</td>\n",
              "      <td>7</td>\n",
              "      <td>0</td>\n",
              "      <td>2.87</td>\n",
              "    </tr>\n",
              "    <tr>\n",
              "      <th>3396</th>\n",
              "      <td>3396</td>\n",
              "      <td>https://www.airbnb.com/rooms/37295413</td>\n",
              "      <td>20200000000000</td>\n",
              "      <td>2023-03-06</td>\n",
              "      <td>previous scrape</td>\n",
              "      <td>Marriott Pulse SF for JP Morgan Conf. (2 Queen...</td>\n",
              "      <td>Hotel room at the \"City by the Bay\" at Marriot...</td>\n",
              "      <td>Explore legendary Fisherman's Wharf, PIER 39, ...</td>\n",
              "      <td>https://a0.muscache.com/pictures/280326d7-2ba0...</td>\n",
              "      <td>13058067</td>\n",
              "      <td>...</td>\n",
              "      <td>5.00</td>\n",
              "      <td>5.00</td>\n",
              "      <td>4.50</td>\n",
              "      <td>License not needed per OSTR</td>\n",
              "      <td>f</td>\n",
              "      <td>2</td>\n",
              "      <td>0</td>\n",
              "      <td>0</td>\n",
              "      <td>0</td>\n",
              "      <td>0.05</td>\n",
              "    </tr>\n",
              "    <tr>\n",
              "      <th>3398</th>\n",
              "      <td>3398</td>\n",
              "      <td>https://www.airbnb.com/rooms/36420256</td>\n",
              "      <td>20200000000000</td>\n",
              "      <td>2023-03-06</td>\n",
              "      <td>city scrape</td>\n",
              "      <td>Deluxe Queen Street Level</td>\n",
              "      <td>Monte Cristo is a classic San Francisco Bed an...</td>\n",
              "      <td>Low key residential location. Pacific Heights,...</td>\n",
              "      <td>https://a0.muscache.com/pictures/880f6eca-8b5d...</td>\n",
              "      <td>160591574</td>\n",
              "      <td>...</td>\n",
              "      <td>5.00</td>\n",
              "      <td>5.00</td>\n",
              "      <td>5.00</td>\n",
              "      <td>Exempt</td>\n",
              "      <td>t</td>\n",
              "      <td>5</td>\n",
              "      <td>0</td>\n",
              "      <td>2</td>\n",
              "      <td>0</td>\n",
              "      <td>0.05</td>\n",
              "    </tr>\n",
              "    <tr>\n",
              "      <th>3399</th>\n",
              "      <td>3399</td>\n",
              "      <td>https://www.airbnb.com/rooms/36420593</td>\n",
              "      <td>20200000000000</td>\n",
              "      <td>2023-03-06</td>\n",
              "      <td>city scrape</td>\n",
              "      <td>Street Level Tiny Room</td>\n",
              "      <td>if the walls of the Monte Cristo Bed &amp; Breakfa...</td>\n",
              "      <td>Low key residential location. Pacific Heights,...</td>\n",
              "      <td>https://a0.muscache.com/pictures/2ba9ca23-7bae...</td>\n",
              "      <td>160591574</td>\n",
              "      <td>...</td>\n",
              "      <td>5.00</td>\n",
              "      <td>5.00</td>\n",
              "      <td>5.00</td>\n",
              "      <td>Exempt</td>\n",
              "      <td>t</td>\n",
              "      <td>5</td>\n",
              "      <td>0</td>\n",
              "      <td>2</td>\n",
              "      <td>0</td>\n",
              "      <td>0.03</td>\n",
              "    </tr>\n",
              "    <tr>\n",
              "      <th>3400</th>\n",
              "      <td>3400</td>\n",
              "      <td>https://www.airbnb.com/rooms/36421114</td>\n",
              "      <td>20200000000000</td>\n",
              "      <td>2023-03-06</td>\n",
              "      <td>city scrape</td>\n",
              "      <td>Upstairs Corner Junior Suite</td>\n",
              "      <td>if the walls of the Monte Cristo Bed &amp; Breakfa...</td>\n",
              "      <td>Low key residential location. Pacific Heights,...</td>\n",
              "      <td>https://a0.muscache.com/pictures/778ee8c1-2b7d...</td>\n",
              "      <td>160591574</td>\n",
              "      <td>...</td>\n",
              "      <td>5.00</td>\n",
              "      <td>5.00</td>\n",
              "      <td>4.50</td>\n",
              "      <td>Exempt</td>\n",
              "      <td>t</td>\n",
              "      <td>5</td>\n",
              "      <td>0</td>\n",
              "      <td>2</td>\n",
              "      <td>0</td>\n",
              "      <td>0.08</td>\n",
              "    </tr>\n",
              "    <tr>\n",
              "      <th>3401</th>\n",
              "      <td>3401</td>\n",
              "      <td>https://www.airbnb.com/rooms/37296448</td>\n",
              "      <td>20200000000000</td>\n",
              "      <td>2023-03-06</td>\n",
              "      <td>city scrape</td>\n",
              "      <td>Marriott Pulse SF: JPMorgan/Dreamforce Conf- 1...</td>\n",
              "      <td>Hotel room at the \"City by the Bay\" at Marriot...</td>\n",
              "      <td>Explore legendary Fisherman's Wharf, PIER 39, ...</td>\n",
              "      <td>https://a0.muscache.com/pictures/001617ef-1198...</td>\n",
              "      <td>13058067</td>\n",
              "      <td>...</td>\n",
              "      <td>4.90</td>\n",
              "      <td>4.80</td>\n",
              "      <td>4.70</td>\n",
              "      <td>Exempt</td>\n",
              "      <td>f</td>\n",
              "      <td>2</td>\n",
              "      <td>0</td>\n",
              "      <td>0</td>\n",
              "      <td>0</td>\n",
              "      <td>1.30</td>\n",
              "    </tr>\n",
              "    <tr>\n",
              "      <th>4519</th>\n",
              "      <td>4519</td>\n",
              "      <td>https://www.airbnb.com/rooms/48693144</td>\n",
              "      <td>20200000000000</td>\n",
              "      <td>2023-03-06</td>\n",
              "      <td>previous scrape</td>\n",
              "      <td>Hotel Emblem San Francisco</td>\n",
              "      <td>Sin registro</td>\n",
              "      <td>Sin registro</td>\n",
              "      <td>https://a0.muscache.com/pictures/miso/Hosting-...</td>\n",
              "      <td>392829961</td>\n",
              "      <td>...</td>\n",
              "      <td>4.90</td>\n",
              "      <td>4.80</td>\n",
              "      <td>4.70</td>\n",
              "      <td>Sin registro</td>\n",
              "      <td>f</td>\n",
              "      <td>1</td>\n",
              "      <td>0</td>\n",
              "      <td>0</td>\n",
              "      <td>0</td>\n",
              "      <td>1.30</td>\n",
              "    </tr>\n",
              "    <tr>\n",
              "      <th>4690</th>\n",
              "      <td>4690</td>\n",
              "      <td>https://www.airbnb.com/rooms/48973911</td>\n",
              "      <td>20200000000000</td>\n",
              "      <td>2023-03-06</td>\n",
              "      <td>previous scrape</td>\n",
              "      <td>Hotel Triton San Francisco</td>\n",
              "      <td>Sin registro</td>\n",
              "      <td>Sin registro</td>\n",
              "      <td>https://a0.muscache.com/pictures/miso/Hosting-...</td>\n",
              "      <td>394984266</td>\n",
              "      <td>...</td>\n",
              "      <td>4.40</td>\n",
              "      <td>5.00</td>\n",
              "      <td>4.20</td>\n",
              "      <td>Sin registro</td>\n",
              "      <td>f</td>\n",
              "      <td>1</td>\n",
              "      <td>0</td>\n",
              "      <td>0</td>\n",
              "      <td>0</td>\n",
              "      <td>0.46</td>\n",
              "    </tr>\n",
              "  </tbody>\n",
              "</table>\n",
              "<p>52 rows × 75 columns</p>\n",
              "</div>\n",
              "      <button class=\"colab-df-convert\" onclick=\"convertToInteractive('df-311ff83a-843c-407c-9e2e-fc11f1babec7')\"\n",
              "              title=\"Convert this dataframe to an interactive table.\"\n",
              "              style=\"display:none;\">\n",
              "        \n",
              "  <svg xmlns=\"http://www.w3.org/2000/svg\" height=\"24px\"viewBox=\"0 0 24 24\"\n",
              "       width=\"24px\">\n",
              "    <path d=\"M0 0h24v24H0V0z\" fill=\"none\"/>\n",
              "    <path d=\"M18.56 5.44l.94 2.06.94-2.06 2.06-.94-2.06-.94-.94-2.06-.94 2.06-2.06.94zm-11 1L8.5 8.5l.94-2.06 2.06-.94-2.06-.94L8.5 2.5l-.94 2.06-2.06.94zm10 10l.94 2.06.94-2.06 2.06-.94-2.06-.94-.94-2.06-.94 2.06-2.06.94z\"/><path d=\"M17.41 7.96l-1.37-1.37c-.4-.4-.92-.59-1.43-.59-.52 0-1.04.2-1.43.59L10.3 9.45l-7.72 7.72c-.78.78-.78 2.05 0 2.83L4 21.41c.39.39.9.59 1.41.59.51 0 1.02-.2 1.41-.59l7.78-7.78 2.81-2.81c.8-.78.8-2.07 0-2.86zM5.41 20L4 18.59l7.72-7.72 1.47 1.35L5.41 20z\"/>\n",
              "  </svg>\n",
              "      </button>\n",
              "      \n",
              "  <style>\n",
              "    .colab-df-container {\n",
              "      display:flex;\n",
              "      flex-wrap:wrap;\n",
              "      gap: 12px;\n",
              "    }\n",
              "\n",
              "    .colab-df-convert {\n",
              "      background-color: #E8F0FE;\n",
              "      border: none;\n",
              "      border-radius: 50%;\n",
              "      cursor: pointer;\n",
              "      display: none;\n",
              "      fill: #1967D2;\n",
              "      height: 32px;\n",
              "      padding: 0 0 0 0;\n",
              "      width: 32px;\n",
              "    }\n",
              "\n",
              "    .colab-df-convert:hover {\n",
              "      background-color: #E2EBFA;\n",
              "      box-shadow: 0px 1px 2px rgba(60, 64, 67, 0.3), 0px 1px 3px 1px rgba(60, 64, 67, 0.15);\n",
              "      fill: #174EA6;\n",
              "    }\n",
              "\n",
              "    [theme=dark] .colab-df-convert {\n",
              "      background-color: #3B4455;\n",
              "      fill: #D2E3FC;\n",
              "    }\n",
              "\n",
              "    [theme=dark] .colab-df-convert:hover {\n",
              "      background-color: #434B5C;\n",
              "      box-shadow: 0px 1px 3px 1px rgba(0, 0, 0, 0.15);\n",
              "      filter: drop-shadow(0px 1px 2px rgba(0, 0, 0, 0.3));\n",
              "      fill: #FFFFFF;\n",
              "    }\n",
              "  </style>\n",
              "\n",
              "      <script>\n",
              "        const buttonEl =\n",
              "          document.querySelector('#df-311ff83a-843c-407c-9e2e-fc11f1babec7 button.colab-df-convert');\n",
              "        buttonEl.style.display =\n",
              "          google.colab.kernel.accessAllowed ? 'block' : 'none';\n",
              "\n",
              "        async function convertToInteractive(key) {\n",
              "          const element = document.querySelector('#df-311ff83a-843c-407c-9e2e-fc11f1babec7');\n",
              "          const dataTable =\n",
              "            await google.colab.kernel.invokeFunction('convertToInteractive',\n",
              "                                                     [key], {});\n",
              "          if (!dataTable) return;\n",
              "\n",
              "          const docLinkHtml = 'Like what you see? Visit the ' +\n",
              "            '<a target=\"_blank\" href=https://colab.research.google.com/notebooks/data_table.ipynb>data table notebook</a>'\n",
              "            + ' to learn more about interactive tables.';\n",
              "          element.innerHTML = '';\n",
              "          dataTable['output_type'] = 'display_data';\n",
              "          await google.colab.output.renderOutput(dataTable, element);\n",
              "          const docLink = document.createElement('div');\n",
              "          docLink.innerHTML = docLinkHtml;\n",
              "          element.appendChild(docLink);\n",
              "        }\n",
              "      </script>\n",
              "    </div>\n",
              "  </div>\n",
              "  "
            ]
          },
          "metadata": {},
          "execution_count": 3
        }
      ]
    },
    {
      "cell_type": "code",
      "source": [
        "#Imprimimos el scatter plot entre la variable dependiente (host_acceptance_rate) e independiente (host_response_rate) \n",
        "#para observar el comportamiento en su dispersión \n",
        "from turtle import color\n",
        "\n",
        "\n",
        "sns.scatterplot(x='host_response_rate', y='host_acceptance_rate', color=\"blue\", data=filtro1)\n",
        "#sns.scatterplot(X='speeding', y='total', color=\"red\", data=df)"
      ],
      "metadata": {
        "id": "KddGiGsrFDda",
        "colab": {
          "base_uri": "https://localhost:8080/",
          "height": 464
        },
        "outputId": "babb0837-296f-4015-b801-a5bb6bab2665"
      },
      "execution_count": 4,
      "outputs": [
        {
          "output_type": "execute_result",
          "data": {
            "text/plain": [
              "<Axes: xlabel='host_response_rate', ylabel='host_acceptance_rate'>"
            ]
          },
          "metadata": {},
          "execution_count": 4
        },
        {
          "output_type": "display_data",
          "data": {
            "text/plain": [
              "<Figure size 640x480 with 1 Axes>"
            ],
            "image/png": "[encoded data removed]"
          },
          "metadata": {}
        }
      ]
    },
    {
      "cell_type": "code",
      "source": [
        "#Declaramos las variables dependientes e independientes para la regresión lineal\n",
        "Vars_Indep= filtro1[['host_response_rate']]\n",
        "Var_Dep= filtro1['host_acceptance_rate']"
      ],
      "metadata": {
        "id": "CQ6pK0K7Fxhz"
      },
      "execution_count": 5,
      "outputs": []
    },
    {
      "cell_type": "code",
      "source": [
        "#Se define model como la función de regresión lineal\n",
        "from sklearn.linear_model import LinearRegression\n",
        "model= LinearRegression()"
      ],
      "metadata": {
        "id": "LcrEBgC7F0NG"
      },
      "execution_count": 6,
      "outputs": []
    },
    {
      "cell_type": "code",
      "source": [
        "#Verificamos la función relacionada al modelo\n",
        "type(model)"
      ],
      "metadata": {
        "colab": {
          "base_uri": "https://localhost:8080/"
        },
        "id": "OnjcGhIRG87V",
        "outputId": "776e9d66-a06c-4352-afe6-12069972ffcd"
      },
      "execution_count": 7,
      "outputs": [
        {
          "output_type": "execute_result",
          "data": {
            "text/plain": [
              "sklearn.linear_model._base.LinearRegression"
            ]
          },
          "metadata": {},
          "execution_count": 7
        }
      ]
    },
    {
      "cell_type": "code",
      "source": [
        "#Ajustamos el modelo con las variables antes declaradas\n",
        "model.fit(X=Vars_Indep, y=Var_Dep)"
      ],
      "metadata": {
        "id": "AbpkGkvOG--A",
        "colab": {
          "base_uri": "https://localhost:8080/",
          "height": 64
        },
        "outputId": "4e723b03-2a44-4f3c-f378-04326f58476f"
      },
      "execution_count": 8,
      "outputs": [
        {
          "output_type": "execute_result",
          "data": {
            "text/plain": [
              "LinearRegression()"
            ],
            "text/html": [
              "<style>#sk-container-id-1 {color: black;background-color: white;}#sk-container-id-1 pre{padding: 0;}#sk-container-id-1 div.sk-toggleable {background-color: white;}#sk-container-id-1 label.sk-toggleable__label {cursor: pointer;display: block;width: 100%;margin-bottom: 0;padding: 0.3em;box-sizing: border-box;text-align: center;}#sk-container-id-1 label.sk-toggleable__label-arrow:before {content: \"▸\";float: left;margin-right: 0.25em;color: #696969;}#sk-container-id-1 label.sk-toggleable__label-arrow:hover:before {color: black;}#sk-container-id-1 div.sk-estimator:hover label.sk-toggleable__label-arrow:before {color: black;}#sk-container-id-1 div.sk-toggleable__content {max-height: 0;max-width: 0;overflow: hidden;text-align: left;background-color: #f0f8ff;}#sk-container-id-1 div.sk-toggleable__content pre {margin: 0.2em;color: black;border-radius: 0.25em;background-color: #f0f8ff;}#sk-container-id-1 input.sk-toggleable__control:checked~div.sk-toggleable__content {max-height: 200px;max-width: 100%;overflow: auto;}#sk-container-id-1 input.sk-toggleable__control:checked~label.sk-toggleable__label-arrow:before {content: \"▾\";}#sk-container-id-1 div.sk-estimator input.sk-toggleable__control:checked~label.sk-toggleable__label {background-color: #d4ebff;}#sk-container-id-1 div.sk-label input.sk-toggleable__control:checked~label.sk-toggleable__label {background-color: #d4ebff;}#sk-container-id-1 input.sk-hidden--visually {border: 0;clip: rect(1px 1px 1px 1px);clip: rect(1px, 1px, 1px, 1px);height: 1px;margin: -1px;overflow: hidden;padding: 0;position: absolute;width: 1px;}#sk-container-id-1 div.sk-estimator {font-family: monospace;background-color: #f0f8ff;border: 1px dotted black;border-radius: 0.25em;box-sizing: border-box;margin-bottom: 0.5em;}#sk-container-id-1 div.sk-estimator:hover {background-color: #d4ebff;}#sk-container-id-1 div.sk-parallel-item::after {content: \"\";width: 100%;border-bottom: 1px solid gray;flex-grow: 1;}#sk-container-id-1 div.sk-label:hover label.sk-toggleable__label {background-color: #d4ebff;}#sk-container-id-1 div.sk-serial::before {content: \"\";position: absolute;border-left: 1px solid gray;box-sizing: border-box;top: 0;bottom: 0;left: 50%;z-index: 0;}#sk-container-id-1 div.sk-serial {display: flex;flex-direction: column;align-items: center;background-color: white;padding-right: 0.2em;padding-left: 0.2em;position: relative;}#sk-container-id-1 div.sk-item {position: relative;z-index: 1;}#sk-container-id-1 div.sk-parallel {display: flex;align-items: stretch;justify-content: center;background-color: white;position: relative;}#sk-container-id-1 div.sk-item::before, #sk-container-id-1 div.sk-parallel-item::before {content: \"\";position: absolute;border-left: 1px solid gray;box-sizing: border-box;top: 0;bottom: 0;left: 50%;z-index: -1;}#sk-container-id-1 div.sk-parallel-item {display: flex;flex-direction: column;z-index: 1;position: relative;background-color: white;}#sk-container-id-1 div.sk-parallel-item:first-child::after {align-self: flex-end;width: 50%;}#sk-container-id-1 div.sk-parallel-item:last-child::after {align-self: flex-start;width: 50%;}#sk-container-id-1 div.sk-parallel-item:only-child::after {width: 0;}#sk-container-id-1 div.sk-dashed-wrapped {border: 1px dashed gray;margin: 0 0.4em 0.5em 0.4em;box-sizing: border-box;padding-bottom: 0.4em;background-color: white;}#sk-container-id-1 div.sk-label label {font-family: monospace;font-weight: bold;display: inline-block;line-height: 1.2em;}#sk-container-id-1 div.sk-label-container {text-align: center;}#sk-container-id-1 div.sk-container {/* jupyter's `normalize.less` sets `[hidden] { display: none; }` but bootstrap.min.css set `[hidden] { display: none !important; }` so we also need the `!important` here to be able to override the default hidden behavior on the sphinx rendered scikit-learn.org. See: https://github.com/scikit-learn/scikit-learn/issues/21755 */display: inline-block !important;position: relative;}#sk-container-id-1 div.sk-text-repr-fallback {display: none;}</style><div id=\"sk-container-id-1\" class=\"sk-top-container\"><div class=\"sk-text-repr-fallback\"><pre>LinearRegression()</pre><b>In a Jupyter environment, please rerun this cell to show the HTML representation or trust the notebook. <br />On GitHub, the HTML representation is unable to render, please try loading this page with nbviewer.org.</b></div><div class=\"sk-container\" hidden><div class=\"sk-item\"><div class=\"sk-estimator sk-toggleable\"><input class=\"sk-toggleable__control sk-hidden--visually\" id=\"sk-estimator-id-1\" type=\"checkbox\" checked><label for=\"sk-estimator-id-1\" class=\"sk-toggleable__label sk-toggleable__label-arrow\">LinearRegression</label><div class=\"sk-toggleable__content\"><pre>LinearRegression()</pre></div></div></div></div></div>"
            ]
          },
          "metadata": {},
          "execution_count": 8
        }
      ]
    },
    {
      "cell_type": "code",
      "source": [
        "#Verificamos los coeficientes obtenidos para el modelo ajustado\n",
        "model.__dict__"
      ],
      "metadata": {
        "colab": {
          "base_uri": "https://localhost:8080/"
        },
        "id": "IlFIDaxlHFqa",
        "outputId": "4c057b39-a40f-4f4b-8237-ba9f28922d28"
      },
      "execution_count": 10,
      "outputs": [
        {
          "output_type": "execute_result",
          "data": {
            "text/plain": [
              "{'fit_intercept': True,\n",
              " 'copy_X': True,\n",
              " 'n_jobs': None,\n",
              " 'positive': False,\n",
              " 'feature_names_in_': array(['host_response_rate'], dtype=object),\n",
              " 'n_features_in_': 1,\n",
              " 'coef_': array([1.02523785]),\n",
              " 'rank_': 1,\n",
              " 'singular_': array([2.58350537]),\n",
              " 'intercept_': 0.0381930481684023}"
            ]
          },
          "metadata": {},
          "execution_count": 10
        }
      ]
    },
    {
      "cell_type": "markdown",
      "source": [
        "**Modelo matemático: y= 1.02523785x + 0.0381930481684023**\n",
        "\n",
        "---\n",
        "\n",
        "\n"
      ],
      "metadata": {
        "id": "b1Z-ob3UKjTF"
      }
    },
    {
      "cell_type": "code",
      "source": [
        "#Evaluamos la eficiencia del modelo obtenido por medio del coeficiente R Determinación\n",
        "model.score(Vars_Indep,Var_Dep)"
      ],
      "metadata": {
        "colab": {
          "base_uri": "https://localhost:8080/"
        },
        "id": "4I8OaBFUHLmc",
        "outputId": "0554b600-b186-4746-fc10-5e3946e07e64"
      },
      "execution_count": 11,
      "outputs": [
        {
          "output_type": "execute_result",
          "data": {
            "text/plain": [
              "0.951897521440099"
            ]
          },
          "metadata": {},
          "execution_count": 11
        }
      ]
    },
    {
      "cell_type": "code",
      "source": [
        "#Predecimos los valores de total de accidentes a partir de la variable \"host_response_rate\"\n",
        "y_pred= model.predict(X=filtro1[['host_response_rate']])\n",
        "y_pred"
      ],
      "metadata": {
        "id": "v3NBdGwnIR06",
        "colab": {
          "base_uri": "https://localhost:8080/"
        },
        "outputId": "07041d29-bd46-4dd4-eae3-5dac77d0c244"
      },
      "execution_count": 12,
      "outputs": [
        {
          "output_type": "execute_result",
          "data": {
            "text/plain": [
              "array([1.05317852, 1.05317852, 1.06343089, 1.05317852, 0.85838332,\n",
              "       0.85838332, 0.85838332, 0.85838332, 0.85838332, 0.85838332,\n",
              "       0.85838332, 0.85838332, 0.85838332, 0.85838332, 0.85838332,\n",
              "       0.03819305, 1.05317852, 0.03819305, 0.03819305, 0.03819305,\n",
              "       0.03819305, 0.03819305, 1.012169  , 1.012169  , 1.012169  ,\n",
              "       1.012169  , 1.012169  , 1.012169  , 1.012169  , 1.012169  ,\n",
              "       1.012169  , 1.05317852, 1.05317852, 0.96090711, 0.96090711,\n",
              "       1.06343089, 1.06343089, 1.06343089, 0.80712143, 1.05317852,\n",
              "       1.05317852, 1.05317852, 1.05317852, 1.05317852, 1.05317852,\n",
              "       0.03819305, 1.06343089, 1.06343089, 1.06343089, 0.03819305,\n",
              "       0.03819305, 1.06343089])"
            ]
          },
          "metadata": {},
          "execution_count": 12
        }
      ]
    },
    {
      "cell_type": "code",
      "source": [
        "#Corroboramos cual es el coeficiente de Determinación de nuestro modelo\n",
        "coef_Deter=model.score(X=Vars_Indep, y=Var_Dep)\n",
        "coef_Deter"
      ],
      "metadata": {
        "id": "Fhv3CfiOIjoC",
        "colab": {
          "base_uri": "https://localhost:8080/"
        },
        "outputId": "0d52337b-bac4-4825-e9c3-718125b06951"
      },
      "execution_count": 13,
      "outputs": [
        {
          "output_type": "execute_result",
          "data": {
            "text/plain": [
              "0.951897521440099"
            ]
          },
          "metadata": {},
          "execution_count": 13
        }
      ]
    },
    {
      "cell_type": "code",
      "source": [
        "#Corroboramos cual es el coeficiente de Correlación de nuestro modelo\n",
        "coef_Correl=np.sqrt(coef_Deter)\n",
        "coef_Correl"
      ],
      "metadata": {
        "id": "menvAyZZIl0D",
        "colab": {
          "base_uri": "https://localhost:8080/"
        },
        "outputId": "b0c4c158-5535-42fc-a110-4a882a8d5a34"
      },
      "execution_count": 14,
      "outputs": [
        {
          "output_type": "execute_result",
          "data": {
            "text/plain": [
              "0.9756523568567336"
            ]
          },
          "metadata": {},
          "execution_count": 14
        }
      ]
    },
    {
      "cell_type": "markdown",
      "source": [
        "Entire home/apt"
      ],
      "metadata": {
        "id": "RaNGiFm8_aKW"
      }
    },
    {
      "cell_type": "code",
      "source": [
        "filtro2=df[df[\"room_type\"] == \"Entire home/apt\"]\n",
        "filtro2"
      ],
      "metadata": {
        "id": "U3tl2cE6_eXH",
        "colab": {
          "base_uri": "https://localhost:8080/",
          "height": 920
        },
        "outputId": "fd496094-d98c-410a-dddd-7d7a12170f4e"
      },
      "execution_count": 15,
      "outputs": [
        {
          "output_type": "execute_result",
          "data": {
            "text/plain": [
              "      Unnamed: 0                                      listing_url  \\\n",
              "0              0                 https://www.airbnb.com/rooms/958   \n",
              "1              1                https://www.airbnb.com/rooms/5858   \n",
              "3              3                https://www.airbnb.com/rooms/8339   \n",
              "5              5              https://www.airbnb.com/rooms/142177   \n",
              "8              8              https://www.airbnb.com/rooms/491867   \n",
              "...          ...                                              ...   \n",
              "6923        6923  https://www.airbnb.com/rooms/816998498709351546   \n",
              "6928        6928  https://www.airbnb.com/rooms/817535225433481370   \n",
              "6931        6931  https://www.airbnb.com/rooms/818195233784141985   \n",
              "6932        6932  https://www.airbnb.com/rooms/818231243893035313   \n",
              "6935        6935  https://www.airbnb.com/rooms/818887060432463897   \n",
              "\n",
              "           scrape_id last_scraped           source  \\\n",
              "0     20200000000000   2023-03-06      city scrape   \n",
              "1     20200000000000   2023-03-06      city scrape   \n",
              "3     20200000000000   2023-03-06      city scrape   \n",
              "5     20200000000000   2023-03-06      city scrape   \n",
              "8     20200000000000   2023-03-06      city scrape   \n",
              "...              ...          ...              ...   \n",
              "6923  20200000000000   2023-03-06  previous scrape   \n",
              "6928  20200000000000   2023-03-06      city scrape   \n",
              "6931  20200000000000   2023-03-06      city scrape   \n",
              "6932  20200000000000   2023-03-06      city scrape   \n",
              "6935  20200000000000   2023-03-06      city scrape   \n",
              "\n",
              "                                                   name  \\\n",
              "0                 Bright, Modern Garden Unit - 1BR/1BTH   \n",
              "1                                    Creative Sanctuary   \n",
              "3                       Historic Alamo Square Victorian   \n",
              "5                     Stylish, Spacious and Quiet Flat!   \n",
              "8                     Central San Francisco Urban Dream   \n",
              "...                                                 ...   \n",
              "6923              Live-Work Downtown San Francisco Loft   \n",
              "6928                   Unique custom loft - South Beach   \n",
              "6931                    Powell Place Studio on Nob Hill   \n",
              "6932  √¢‚Ç¨¬¢ Cozy & Comfortable Castro Artist's Stu...   \n",
              "6935                             Sunny Garden Apartment   \n",
              "\n",
              "                                            description  \\\n",
              "0     Our bright garden unit overlooks a lovely back...   \n",
              "1     We live in a large Victorian house on a quiet ...   \n",
              "3     Pls email before booking. <br />Interior featu...   \n",
              "5     ***Will consider small pets.  One pet per stay...   \n",
              "8     3 BR/2 BA Victorian flat beautifully restored ...   \n",
              "...                                                 ...   \n",
              "6923  Furnished Live-Work NY-style loft with exposed...   \n",
              "6928  Historical loft building in safe+clean South B...   \n",
              "6931  Situated in the prestigious Nob Hill section o...   \n",
              "6932  You'll be in the perfect location to explore a...   \n",
              "6935  This sunny garden apartment is located in Laur...   \n",
              "\n",
              "                                  neighborhood_overview  \\\n",
              "0     Quiet cul de sac in friendly neighborhood<br /...   \n",
              "1     I love how our neighborhood feels quiet but is...   \n",
              "3                                          Sin registro   \n",
              "5     Experience the real San Francisco and stay whe...   \n",
              "8     Nearby market:  Right out the front door, righ...   \n",
              "...                                                 ...   \n",
              "6923                                       Sin registro   \n",
              "6928                                       Sin registro   \n",
              "6931  Powell Place is surrounded by everything that ...   \n",
              "6932  Lively and safe neighborhood, with a local lib...   \n",
              "6935  Laurel Heights is a quiet, refined neighborhoo...   \n",
              "\n",
              "                                            picture_url    host_id  ...  \\\n",
              "0     https://a0.muscache.com/pictures/b7c2a199-4c17...       1169  ...   \n",
              "1     https://a0.muscache.com/pictures/17714/3a7aea1...       8904  ...   \n",
              "3     https://a0.muscache.com/pictures/miso/Hosting-...      24215  ...   \n",
              "5     https://a0.muscache.com/pictures/miso/Hosting-...     656263  ...   \n",
              "8     https://a0.muscache.com/pictures/miso/Hosting-...     969518  ...   \n",
              "...                                                 ...        ...  ...   \n",
              "6923  https://a0.muscache.com/pictures/miso/Hosting-...    4452428  ...   \n",
              "6928  https://a0.muscache.com/pictures/miso/Hosting-...    9835117  ...   \n",
              "6931  https://a0.muscache.com/pictures/miso/Hosting-...  495900269  ...   \n",
              "6932  https://a0.muscache.com/pictures/miso/Hosting-...  499392537  ...   \n",
              "6935  https://a0.muscache.com/pictures/miso/Hosting-...    4836128  ...   \n",
              "\n",
              "     review_scores_communication review_scores_location review_scores_value  \\\n",
              "0                           4.88                   4.98                4.76   \n",
              "1                           4.85                   4.77                4.68   \n",
              "3                           5.00                   4.94                4.75   \n",
              "5                           4.97                   4.78                4.80   \n",
              "8                           4.91                   4.91                4.75   \n",
              "...                          ...                    ...                 ...   \n",
              "6923                        4.90                   4.80                4.70   \n",
              "6928                        4.90                   4.80                4.70   \n",
              "6931                        4.90                   4.80                4.70   \n",
              "6932                        5.00                   5.00                5.00   \n",
              "6935                        4.90                   4.80                4.70   \n",
              "\n",
              "                        license instant_bookable  \\\n",
              "0     City Registration Pending                f   \n",
              "1                  Sin registro                f   \n",
              "3                   STR-0000264                f   \n",
              "5                   STR-0002192                f   \n",
              "8                   STR-0000192                f   \n",
              "...                         ...              ...   \n",
              "6923               Sin registro                f   \n",
              "6928               Sin registro                f   \n",
              "6931                     147904                t   \n",
              "6932             2023-001477STR                f   \n",
              "6935               Sin registro                t   \n",
              "\n",
              "     calculated_host_listings_count  \\\n",
              "0                                 1   \n",
              "1                                 1   \n",
              "3                                 2   \n",
              "5                                 1   \n",
              "8                                 1   \n",
              "...                             ...   \n",
              "6923                              1   \n",
              "6928                              1   \n",
              "6931                              5   \n",
              "6932                              1   \n",
              "6935                              2   \n",
              "\n",
              "      calculated_host_listings_count_entire_homes  \\\n",
              "0                                               1   \n",
              "1                                               1   \n",
              "3                                               2   \n",
              "5                                               1   \n",
              "8                                               1   \n",
              "...                                           ...   \n",
              "6923                                            1   \n",
              "6928                                            1   \n",
              "6931                                            5   \n",
              "6932                                            1   \n",
              "6935                                            1   \n",
              "\n",
              "      calculated_host_listings_count_private_rooms  \\\n",
              "0                                                0   \n",
              "1                                                0   \n",
              "3                                                0   \n",
              "5                                                0   \n",
              "8                                                0   \n",
              "...                                            ...   \n",
              "6923                                             0   \n",
              "6928                                             0   \n",
              "6931                                             0   \n",
              "6932                                             0   \n",
              "6935                                             1   \n",
              "\n",
              "     calculated_host_listings_count_shared_rooms reviews_per_month  \n",
              "0                                              0              2.31  \n",
              "1                                              0              0.66  \n",
              "3                                              0              0.17  \n",
              "5                                              0              1.69  \n",
              "8                                              0              0.44  \n",
              "...                                          ...               ...  \n",
              "6923                                           0              1.30  \n",
              "6928                                           0              1.30  \n",
              "6931                                           0              1.30  \n",
              "6932                                           0              1.00  \n",
              "6935                                           0              1.30  \n",
              "\n",
              "[4458 rows x 75 columns]"
            ],
            "text/html": [
              "\n",
              "  <div id=\"df-932cd4c9-ca57-4326-aff5-85094c491092\">\n",
              "    <div class=\"colab-df-container\">\n",
              "      <div>\n",
              "<style scoped>\n",
              "    .dataframe tbody tr th:only-of-type {\n",
              "        vertical-align: middle;\n",
              "    }\n",
              "\n",
              "    .dataframe tbody tr th {\n",
              "        vertical-align: top;\n",
              "    }\n",
              "\n",
              "    .dataframe thead th {\n",
              "        text-align: right;\n",
              "    }\n",
              "</style>\n",
              "<table border=\"1\" class=\"dataframe\">\n",
              "  <thead>\n",
              "    <tr style=\"text-align: right;\">\n",
              "      <th></th>\n",
              "      <th>Unnamed: 0</th>\n",
              "      <th>listing_url</th>\n",
              "      <th>scrape_id</th>\n",
              "      <th>last_scraped</th>\n",
              "      <th>source</th>\n",
              "      <th>name</th>\n",
              "      <th>description</th>\n",
              "      <th>neighborhood_overview</th>\n",
              "      <th>picture_url</th>\n",
              "      <th>host_id</th>\n",
              "      <th>...</th>\n",
              "      <th>review_scores_communication</th>\n",
              "      <th>review_scores_location</th>\n",
              "      <th>review_scores_value</th>\n",
              "      <th>license</th>\n",
              "      <th>instant_bookable</th>\n",
              "      <th>calculated_host_listings_count</th>\n",
              "      <th>calculated_host_listings_count_entire_homes</th>\n",
              "      <th>calculated_host_listings_count_private_rooms</th>\n",
              "      <th>calculated_host_listings_count_shared_rooms</th>\n",
              "      <th>reviews_per_month</th>\n",
              "    </tr>\n",
              "  </thead>\n",
              "  <tbody>\n",
              "    <tr>\n",
              "      <th>0</th>\n",
              "      <td>0</td>\n",
              "      <td>https://www.airbnb.com/rooms/958</td>\n",
              "      <td>20200000000000</td>\n",
              "      <td>2023-03-06</td>\n",
              "      <td>city scrape</td>\n",
              "      <td>Bright, Modern Garden Unit - 1BR/1BTH</td>\n",
              "      <td>Our bright garden unit overlooks a lovely back...</td>\n",
              "      <td>Quiet cul de sac in friendly neighborhood&lt;br /...</td>\n",
              "      <td>https://a0.muscache.com/pictures/b7c2a199-4c17...</td>\n",
              "      <td>1169</td>\n",
              "      <td>...</td>\n",
              "      <td>4.88</td>\n",
              "      <td>4.98</td>\n",
              "      <td>4.76</td>\n",
              "      <td>City Registration Pending</td>\n",
              "      <td>f</td>\n",
              "      <td>1</td>\n",
              "      <td>1</td>\n",
              "      <td>0</td>\n",
              "      <td>0</td>\n",
              "      <td>2.31</td>\n",
              "    </tr>\n",
              "    <tr>\n",
              "      <th>1</th>\n",
              "      <td>1</td>\n",
              "      <td>https://www.airbnb.com/rooms/5858</td>\n",
              "      <td>20200000000000</td>\n",
              "      <td>2023-03-06</td>\n",
              "      <td>city scrape</td>\n",
              "      <td>Creative Sanctuary</td>\n",
              "      <td>We live in a large Victorian house on a quiet ...</td>\n",
              "      <td>I love how our neighborhood feels quiet but is...</td>\n",
              "      <td>https://a0.muscache.com/pictures/17714/3a7aea1...</td>\n",
              "      <td>8904</td>\n",
              "      <td>...</td>\n",
              "      <td>4.85</td>\n",
              "      <td>4.77</td>\n",
              "      <td>4.68</td>\n",
              "      <td>Sin registro</td>\n",
              "      <td>f</td>\n",
              "      <td>1</td>\n",
              "      <td>1</td>\n",
              "      <td>0</td>\n",
              "      <td>0</td>\n",
              "      <td>0.66</td>\n",
              "    </tr>\n",
              "    <tr>\n",
              "      <th>3</th>\n",
              "      <td>3</td>\n",
              "      <td>https://www.airbnb.com/rooms/8339</td>\n",
              "      <td>20200000000000</td>\n",
              "      <td>2023-03-06</td>\n",
              "      <td>city scrape</td>\n",
              "      <td>Historic Alamo Square Victorian</td>\n",
              "      <td>Pls email before booking. &lt;br /&gt;Interior featu...</td>\n",
              "      <td>Sin registro</td>\n",
              "      <td>https://a0.muscache.com/pictures/miso/Hosting-...</td>\n",
              "      <td>24215</td>\n",
              "      <td>...</td>\n",
              "      <td>5.00</td>\n",
              "      <td>4.94</td>\n",
              "      <td>4.75</td>\n",
              "      <td>STR-0000264</td>\n",
              "      <td>f</td>\n",
              "      <td>2</td>\n",
              "      <td>2</td>\n",
              "      <td>0</td>\n",
              "      <td>0</td>\n",
              "      <td>0.17</td>\n",
              "    </tr>\n",
              "    <tr>\n",
              "      <th>5</th>\n",
              "      <td>5</td>\n",
              "      <td>https://www.airbnb.com/rooms/142177</td>\n",
              "      <td>20200000000000</td>\n",
              "      <td>2023-03-06</td>\n",
              "      <td>city scrape</td>\n",
              "      <td>Stylish, Spacious and Quiet Flat!</td>\n",
              "      <td>***Will consider small pets.  One pet per stay...</td>\n",
              "      <td>Experience the real San Francisco and stay whe...</td>\n",
              "      <td>https://a0.muscache.com/pictures/miso/Hosting-...</td>\n",
              "      <td>656263</td>\n",
              "      <td>...</td>\n",
              "      <td>4.97</td>\n",
              "      <td>4.78</td>\n",
              "      <td>4.80</td>\n",
              "      <td>STR-0002192</td>\n",
              "      <td>f</td>\n",
              "      <td>1</td>\n",
              "      <td>1</td>\n",
              "      <td>0</td>\n",
              "      <td>0</td>\n",
              "      <td>1.69</td>\n",
              "    </tr>\n",
              "    <tr>\n",
              "      <th>8</th>\n",
              "      <td>8</td>\n",
              "      <td>https://www.airbnb.com/rooms/491867</td>\n",
              "      <td>20200000000000</td>\n",
              "      <td>2023-03-06</td>\n",
              "      <td>city scrape</td>\n",
              "      <td>Central San Francisco Urban Dream</td>\n",
              "      <td>3 BR/2 BA Victorian flat beautifully restored ...</td>\n",
              "      <td>Nearby market:  Right out the front door, righ...</td>\n",
              "      <td>https://a0.muscache.com/pictures/miso/Hosting-...</td>\n",
              "      <td>969518</td>\n",
              "      <td>...</td>\n",
              "      <td>4.91</td>\n",
              "      <td>4.91</td>\n",
              "      <td>4.75</td>\n",
              "      <td>STR-0000192</td>\n",
              "      <td>f</td>\n",
              "      <td>1</td>\n",
              "      <td>1</td>\n",
              "      <td>0</td>\n",
              "      <td>0</td>\n",
              "      <td>0.44</td>\n",
              "    </tr>\n",
              "    <tr>\n",
              "      <th>...</th>\n",
              "      <td>...</td>\n",
              "      <td>...</td>\n",
              "      <td>...</td>\n",
              "      <td>...</td>\n",
              "      <td>...</td>\n",
              "      <td>...</td>\n",
              "      <td>...</td>\n",
              "      <td>...</td>\n",
              "      <td>...</td>\n",
              "      <td>...</td>\n",
              "      <td>...</td>\n",
              "      <td>...</td>\n",
              "      <td>...</td>\n",
              "      <td>...</td>\n",
              "      <td>...</td>\n",
              "      <td>...</td>\n",
              "      <td>...</td>\n",
              "      <td>...</td>\n",
              "      <td>...</td>\n",
              "      <td>...</td>\n",
              "      <td>...</td>\n",
              "    </tr>\n",
              "    <tr>\n",
              "      <th>6923</th>\n",
              "      <td>6923</td>\n",
              "      <td>https://www.airbnb.com/rooms/816998498709351546</td>\n",
              "      <td>20200000000000</td>\n",
              "      <td>2023-03-06</td>\n",
              "      <td>previous scrape</td>\n",
              "      <td>Live-Work Downtown San Francisco Loft</td>\n",
              "      <td>Furnished Live-Work NY-style loft with exposed...</td>\n",
              "      <td>Sin registro</td>\n",
              "      <td>https://a0.muscache.com/pictures/miso/Hosting-...</td>\n",
              "      <td>4452428</td>\n",
              "      <td>...</td>\n",
              "      <td>4.90</td>\n",
              "      <td>4.80</td>\n",
              "      <td>4.70</td>\n",
              "      <td>Sin registro</td>\n",
              "      <td>f</td>\n",
              "      <td>1</td>\n",
              "      <td>1</td>\n",
              "      <td>0</td>\n",
              "      <td>0</td>\n",
              "      <td>1.30</td>\n",
              "    </tr>\n",
              "    <tr>\n",
              "      <th>6928</th>\n",
              "      <td>6928</td>\n",
              "      <td>https://www.airbnb.com/rooms/817535225433481370</td>\n",
              "      <td>20200000000000</td>\n",
              "      <td>2023-03-06</td>\n",
              "      <td>city scrape</td>\n",
              "      <td>Unique custom loft - South Beach</td>\n",
              "      <td>Historical loft building in safe+clean South B...</td>\n",
              "      <td>Sin registro</td>\n",
              "      <td>https://a0.muscache.com/pictures/miso/Hosting-...</td>\n",
              "      <td>9835117</td>\n",
              "      <td>...</td>\n",
              "      <td>4.90</td>\n",
              "      <td>4.80</td>\n",
              "      <td>4.70</td>\n",
              "      <td>Sin registro</td>\n",
              "      <td>f</td>\n",
              "      <td>1</td>\n",
              "      <td>1</td>\n",
              "      <td>0</td>\n",
              "      <td>0</td>\n",
              "      <td>1.30</td>\n",
              "    </tr>\n",
              "    <tr>\n",
              "      <th>6931</th>\n",
              "      <td>6931</td>\n",
              "      <td>https://www.airbnb.com/rooms/818195233784141985</td>\n",
              "      <td>20200000000000</td>\n",
              "      <td>2023-03-06</td>\n",
              "      <td>city scrape</td>\n",
              "      <td>Powell Place Studio on Nob Hill</td>\n",
              "      <td>Situated in the prestigious Nob Hill section o...</td>\n",
              "      <td>Powell Place is surrounded by everything that ...</td>\n",
              "      <td>https://a0.muscache.com/pictures/miso/Hosting-...</td>\n",
              "      <td>495900269</td>\n",
              "      <td>...</td>\n",
              "      <td>4.90</td>\n",
              "      <td>4.80</td>\n",
              "      <td>4.70</td>\n",
              "      <td>147904</td>\n",
              "      <td>t</td>\n",
              "      <td>5</td>\n",
              "      <td>5</td>\n",
              "      <td>0</td>\n",
              "      <td>0</td>\n",
              "      <td>1.30</td>\n",
              "    </tr>\n",
              "    <tr>\n",
              "      <th>6932</th>\n",
              "      <td>6932</td>\n",
              "      <td>https://www.airbnb.com/rooms/818231243893035313</td>\n",
              "      <td>20200000000000</td>\n",
              "      <td>2023-03-06</td>\n",
              "      <td>city scrape</td>\n",
              "      <td>√¢‚Ç¨¬¢ Cozy &amp; Comfortable Castro Artist's Stu...</td>\n",
              "      <td>You'll be in the perfect location to explore a...</td>\n",
              "      <td>Lively and safe neighborhood, with a local lib...</td>\n",
              "      <td>https://a0.muscache.com/pictures/miso/Hosting-...</td>\n",
              "      <td>499392537</td>\n",
              "      <td>...</td>\n",
              "      <td>5.00</td>\n",
              "      <td>5.00</td>\n",
              "      <td>5.00</td>\n",
              "      <td>2023-001477STR</td>\n",
              "      <td>f</td>\n",
              "      <td>1</td>\n",
              "      <td>1</td>\n",
              "      <td>0</td>\n",
              "      <td>0</td>\n",
              "      <td>1.00</td>\n",
              "    </tr>\n",
              "    <tr>\n",
              "      <th>6935</th>\n",
              "      <td>6935</td>\n",
              "      <td>https://www.airbnb.com/rooms/818887060432463897</td>\n",
              "      <td>20200000000000</td>\n",
              "      <td>2023-03-06</td>\n",
              "      <td>city scrape</td>\n",
              "      <td>Sunny Garden Apartment</td>\n",
              "      <td>This sunny garden apartment is located in Laur...</td>\n",
              "      <td>Laurel Heights is a quiet, refined neighborhoo...</td>\n",
              "      <td>https://a0.muscache.com/pictures/miso/Hosting-...</td>\n",
              "      <td>4836128</td>\n",
              "      <td>...</td>\n",
              "      <td>4.90</td>\n",
              "      <td>4.80</td>\n",
              "      <td>4.70</td>\n",
              "      <td>Sin registro</td>\n",
              "      <td>t</td>\n",
              "      <td>2</td>\n",
              "      <td>1</td>\n",
              "      <td>1</td>\n",
              "      <td>0</td>\n",
              "      <td>1.30</td>\n",
              "    </tr>\n",
              "  </tbody>\n",
              "</table>\n",
              "<p>4458 rows × 75 columns</p>\n",
              "</div>\n",
              "      <button class=\"colab-df-convert\" onclick=\"convertToInteractive('df-932cd4c9-ca57-4326-aff5-85094c491092')\"\n",
              "              title=\"Convert this dataframe to an interactive table.\"\n",
              "              style=\"display:none;\">\n",
              "        \n",
              "  <svg xmlns=\"http://www.w3.org/2000/svg\" height=\"24px\"viewBox=\"0 0 24 24\"\n",
              "       width=\"24px\">\n",
              "    <path d=\"M0 0h24v24H0V0z\" fill=\"none\"/>\n",
              "    <path d=\"M18.56 5.44l.94 2.06.94-2.06 2.06-.94-2.06-.94-.94-2.06-.94 2.06-2.06.94zm-11 1L8.5 8.5l.94-2.06 2.06-.94-2.06-.94L8.5 2.5l-.94 2.06-2.06.94zm10 10l.94 2.06.94-2.06 2.06-.94-2.06-.94-.94-2.06-.94 2.06-2.06.94z\"/><path d=\"M17.41 7.96l-1.37-1.37c-.4-.4-.92-.59-1.43-.59-.52 0-1.04.2-1.43.59L10.3 9.45l-7.72 7.72c-.78.78-.78 2.05 0 2.83L4 21.41c.39.39.9.59 1.41.59.51 0 1.02-.2 1.41-.59l7.78-7.78 2.81-2.81c.8-.78.8-2.07 0-2.86zM5.41 20L4 18.59l7.72-7.72 1.47 1.35L5.41 20z\"/>\n",
              "  </svg>\n",
              "      </button>\n",
              "      \n",
              "  <style>\n",
              "    .colab-df-container {\n",
              "      display:flex;\n",
              "      flex-wrap:wrap;\n",
              "      gap: 12px;\n",
              "    }\n",
              "\n",
              "    .colab-df-convert {\n",
              "      background-color: #E8F0FE;\n",
              "      border: none;\n",
              "      border-radius: 50%;\n",
              "      cursor: pointer;\n",
              "      display: none;\n",
              "      fill: #1967D2;\n",
              "      height: 32px;\n",
              "      padding: 0 0 0 0;\n",
              "      width: 32px;\n",
              "    }\n",
              "\n",
              "    .colab-df-convert:hover {\n",
              "      background-color: #E2EBFA;\n",
              "      box-shadow: 0px 1px 2px rgba(60, 64, 67, 0.3), 0px 1px 3px 1px rgba(60, 64, 67, 0.15);\n",
              "      fill: #174EA6;\n",
              "    }\n",
              "\n",
              "    [theme=dark] .colab-df-convert {\n",
              "      background-color: #3B4455;\n",
              "      fill: #D2E3FC;\n",
              "    }\n",
              "\n",
              "    [theme=dark] .colab-df-convert:hover {\n",
              "      background-color: #434B5C;\n",
              "      box-shadow: 0px 1px 3px 1px rgba(0, 0, 0, 0.15);\n",
              "      filter: drop-shadow(0px 1px 2px rgba(0, 0, 0, 0.3));\n",
              "      fill: #FFFFFF;\n",
              "    }\n",
              "  </style>\n",
              "\n",
              "      <script>\n",
              "        const buttonEl =\n",
              "          document.querySelector('#df-932cd4c9-ca57-4326-aff5-85094c491092 button.colab-df-convert');\n",
              "        buttonEl.style.display =\n",
              "          google.colab.kernel.accessAllowed ? 'block' : 'none';\n",
              "\n",
              "        async function convertToInteractive(key) {\n",
              "          const element = document.querySelector('#df-932cd4c9-ca57-4326-aff5-85094c491092');\n",
              "          const dataTable =\n",
              "            await google.colab.kernel.invokeFunction('convertToInteractive',\n",
              "                                                     [key], {});\n",
              "          if (!dataTable) return;\n",
              "\n",
              "          const docLinkHtml = 'Like what you see? Visit the ' +\n",
              "            '<a target=\"_blank\" href=https://colab.research.google.com/notebooks/data_table.ipynb>data table notebook</a>'\n",
              "            + ' to learn more about interactive tables.';\n",
              "          element.innerHTML = '';\n",
              "          dataTable['output_type'] = 'display_data';\n",
              "          await google.colab.output.renderOutput(dataTable, element);\n",
              "          const docLink = document.createElement('div');\n",
              "          docLink.innerHTML = docLinkHtml;\n",
              "          element.appendChild(docLink);\n",
              "        }\n",
              "      </script>\n",
              "    </div>\n",
              "  </div>\n",
              "  "
            ]
          },
          "metadata": {},
          "execution_count": 15
        }
      ]
    },
    {
      "cell_type": "code",
      "source": [
        "#Imprimimos el scatter plot entre la variable dependiente (host_acceptance_rate) e independiente (host_response_rate) \n",
        "#para observar el comportamiento en su dispersión \n",
        "from turtle import color\n",
        "\n",
        "\n",
        "sns.scatterplot(x='host_response_rate', y='host_acceptance_rate', color=\"blue\", data=filtro2)\n",
        "#sns.scatterplot(X='speeding', y='total', color=\"red\", data=df)"
      ],
      "metadata": {
        "colab": {
          "base_uri": "https://localhost:8080/",
          "height": 464
        },
        "id": "STtl3w4EA7OE",
        "outputId": "725c09ed-f032-476b-c4c3-f38563152bf6"
      },
      "execution_count": 16,
      "outputs": [
        {
          "output_type": "execute_result",
          "data": {
            "text/plain": [
              "<Axes: xlabel='host_response_rate', ylabel='host_acceptance_rate'>"
            ]
          },
          "metadata": {},
          "execution_count": 16
        },
        {
          "output_type": "display_data",
          "data": {
            "text/plain": [
              "<Figure size 640x480 with 1 Axes>"
            ],
            "image/png": "[encoded data removed]"
          },
          "metadata": {}
        }
      ]
    },
    {
      "cell_type": "code",
      "source": [
        "#Declaramos las variables dependientes e independientes para la regresión lineal\n",
        "Vars_Indep= filtro2[['host_response_rate']]\n",
        "Var_Dep= filtro2['host_acceptance_rate']"
      ],
      "metadata": {
        "id": "exIAMf4iA-ef"
      },
      "execution_count": 17,
      "outputs": []
    },
    {
      "cell_type": "code",
      "source": [
        "#Se define model como la función de regresión lineal\n",
        "from sklearn.linear_model import LinearRegression\n",
        "model= LinearRegression()"
      ],
      "metadata": {
        "id": "fSvb4nzQA-al"
      },
      "execution_count": 18,
      "outputs": []
    },
    {
      "cell_type": "code",
      "source": [
        "#Verificamos la función relacionada al modelo\n",
        "type(model)"
      ],
      "metadata": {
        "colab": {
          "base_uri": "https://localhost:8080/"
        },
        "id": "v004jsj6A-XP",
        "outputId": "804bee44-c470-44f3-e7b8-c74e0a03f180"
      },
      "execution_count": 19,
      "outputs": [
        {
          "output_type": "execute_result",
          "data": {
            "text/plain": [
              "sklearn.linear_model._base.LinearRegression"
            ]
          },
          "metadata": {},
          "execution_count": 19
        }
      ]
    },
    {
      "cell_type": "code",
      "source": [
        "#Ajustamos el modelo con las variables antes declaradas\n",
        "model.fit(X=Vars_Indep, y=Var_Dep)"
      ],
      "metadata": {
        "colab": {
          "base_uri": "https://localhost:8080/",
          "height": 64
        },
        "id": "jlLGn0r-DJoP",
        "outputId": "69ea9456-98ba-4114-a121-095a05f66565"
      },
      "execution_count": 21,
      "outputs": [
        {
          "output_type": "execute_result",
          "data": {
            "text/plain": [
              "LinearRegression()"
            ],
            "text/html": [
              "<style>#sk-container-id-2 {color: black;background-color: white;}#sk-container-id-2 pre{padding: 0;}#sk-container-id-2 div.sk-toggleable {background-color: white;}#sk-container-id-2 label.sk-toggleable__label {cursor: pointer;display: block;width: 100%;margin-bottom: 0;padding: 0.3em;box-sizing: border-box;text-align: center;}#sk-container-id-2 label.sk-toggleable__label-arrow:before {content: \"▸\";float: left;margin-right: 0.25em;color: #696969;}#sk-container-id-2 label.sk-toggleable__label-arrow:hover:before {color: black;}#sk-container-id-2 div.sk-estimator:hover label.sk-toggleable__label-arrow:before {color: black;}#sk-container-id-2 div.sk-toggleable__content {max-height: 0;max-width: 0;overflow: hidden;text-align: left;background-color: #f0f8ff;}#sk-container-id-2 div.sk-toggleable__content pre {margin: 0.2em;color: black;border-radius: 0.25em;background-color: #f0f8ff;}#sk-container-id-2 input.sk-toggleable__control:checked~div.sk-toggleable__content {max-height: 200px;max-width: 100%;overflow: auto;}#sk-container-id-2 input.sk-toggleable__control:checked~label.sk-toggleable__label-arrow:before {content: \"▾\";}#sk-container-id-2 div.sk-estimator input.sk-toggleable__control:checked~label.sk-toggleable__label {background-color: #d4ebff;}#sk-container-id-2 div.sk-label input.sk-toggleable__control:checked~label.sk-toggleable__label {background-color: #d4ebff;}#sk-container-id-2 input.sk-hidden--visually {border: 0;clip: rect(1px 1px 1px 1px);clip: rect(1px, 1px, 1px, 1px);height: 1px;margin: -1px;overflow: hidden;padding: 0;position: absolute;width: 1px;}#sk-container-id-2 div.sk-estimator {font-family: monospace;background-color: #f0f8ff;border: 1px dotted black;border-radius: 0.25em;box-sizing: border-box;margin-bottom: 0.5em;}#sk-container-id-2 div.sk-estimator:hover {background-color: #d4ebff;}#sk-container-id-2 div.sk-parallel-item::after {content: \"\";width: 100%;border-bottom: 1px solid gray;flex-grow: 1;}#sk-container-id-2 div.sk-label:hover label.sk-toggleable__label {background-color: #d4ebff;}#sk-container-id-2 div.sk-serial::before {content: \"\";position: absolute;border-left: 1px solid gray;box-sizing: border-box;top: 0;bottom: 0;left: 50%;z-index: 0;}#sk-container-id-2 div.sk-serial {display: flex;flex-direction: column;align-items: center;background-color: white;padding-right: 0.2em;padding-left: 0.2em;position: relative;}#sk-container-id-2 div.sk-item {position: relative;z-index: 1;}#sk-container-id-2 div.sk-parallel {display: flex;align-items: stretch;justify-content: center;background-color: white;position: relative;}#sk-container-id-2 div.sk-item::before, #sk-container-id-2 div.sk-parallel-item::before {content: \"\";position: absolute;border-left: 1px solid gray;box-sizing: border-box;top: 0;bottom: 0;left: 50%;z-index: -1;}#sk-container-id-2 div.sk-parallel-item {display: flex;flex-direction: column;z-index: 1;position: relative;background-color: white;}#sk-container-id-2 div.sk-parallel-item:first-child::after {align-self: flex-end;width: 50%;}#sk-container-id-2 div.sk-parallel-item:last-child::after {align-self: flex-start;width: 50%;}#sk-container-id-2 div.sk-parallel-item:only-child::after {width: 0;}#sk-container-id-2 div.sk-dashed-wrapped {border: 1px dashed gray;margin: 0 0.4em 0.5em 0.4em;box-sizing: border-box;padding-bottom: 0.4em;background-color: white;}#sk-container-id-2 div.sk-label label {font-family: monospace;font-weight: bold;display: inline-block;line-height: 1.2em;}#sk-container-id-2 div.sk-label-container {text-align: center;}#sk-container-id-2 div.sk-container {/* jupyter's `normalize.less` sets `[hidden] { display: none; }` but bootstrap.min.css set `[hidden] { display: none !important; }` so we also need the `!important` here to be able to override the default hidden behavior on the sphinx rendered scikit-learn.org. See: https://github.com/scikit-learn/scikit-learn/issues/21755 */display: inline-block !important;position: relative;}#sk-container-id-2 div.sk-text-repr-fallback {display: none;}</style><div id=\"sk-container-id-2\" class=\"sk-top-container\"><div class=\"sk-text-repr-fallback\"><pre>LinearRegression()</pre><b>In a Jupyter environment, please rerun this cell to show the HTML representation or trust the notebook. <br />On GitHub, the HTML representation is unable to render, please try loading this page with nbviewer.org.</b></div><div class=\"sk-container\" hidden><div class=\"sk-item\"><div class=\"sk-estimator sk-toggleable\"><input class=\"sk-toggleable__control sk-hidden--visually\" id=\"sk-estimator-id-2\" type=\"checkbox\" checked><label for=\"sk-estimator-id-2\" class=\"sk-toggleable__label sk-toggleable__label-arrow\">LinearRegression</label><div class=\"sk-toggleable__content\"><pre>LinearRegression()</pre></div></div></div></div></div>"
            ]
          },
          "metadata": {},
          "execution_count": 21
        }
      ]
    },
    {
      "cell_type": "code",
      "source": [
        "#Verificamos los coeficientes obtenidos para el modelo ajustado\n",
        "model.__dict__"
      ],
      "metadata": {
        "colab": {
          "base_uri": "https://localhost:8080/"
        },
        "id": "lA9NCwuotGsJ",
        "outputId": "efd57e41-8cd1-455d-92e6-68631465a9c8"
      },
      "execution_count": 126,
      "outputs": [
        {
          "output_type": "execute_result",
          "data": {
            "text/plain": [
              "{'fit_intercept': True,\n",
              " 'copy_X': True,\n",
              " 'n_jobs': None,\n",
              " 'positive': False,\n",
              " 'feature_names_in_': array(['review_scores_communication'], dtype=object),\n",
              " 'n_features_in_': 1,\n",
              " 'coef_': array([0.55689264]),\n",
              " 'rank_': 1,\n",
              " 'singular_': array([20.03799278]),\n",
              " 'intercept_': -1.4832788258780762}"
            ]
          },
          "metadata": {},
          "execution_count": 126
        }
      ]
    },
    {
      "cell_type": "markdown",
      "source": [
        "Modelo matemático: 0.55689264x + -1.4832788258780762"
      ],
      "metadata": {
        "id": "uZh6Y_kytKPB"
      }
    },
    {
      "cell_type": "code",
      "source": [
        "#Evaluamos la eficiencia del modelo obtenido por medio del coeficiente R Determinación\n",
        "model.score(Vars_Indep,Var_Dep)"
      ],
      "metadata": {
        "colab": {
          "base_uri": "https://localhost:8080/"
        },
        "id": "Q_6vHvWcA-LG",
        "outputId": "6f87e90f-b64f-49c5-8ae5-471012d7a25f"
      },
      "execution_count": 127,
      "outputs": [
        {
          "output_type": "execute_result",
          "data": {
            "text/plain": [
              "0.011944222106396452"
            ]
          },
          "metadata": {},
          "execution_count": 127
        }
      ]
    },
    {
      "cell_type": "code",
      "source": [
        "#Predecimos los valores de total de accidentes a partir de la variable \"review_scores_communication\"\n",
        "y_pred= model.predict(X=filtro2[['review_scores_communication']])\n",
        "y_pred"
      ],
      "metadata": {
        "colab": {
          "base_uri": "https://localhost:8080/"
        },
        "id": "XKKfvfcKBPkZ",
        "outputId": "3ca0619f-444a-4c2e-bf4e-b7e1c32b7161"
      },
      "execution_count": 129,
      "outputs": [
        {
          "output_type": "execute_result",
          "data": {
            "text/plain": [
              "array([1.23435728, 1.2176505 , 1.3011844 , ..., 1.24549513, 1.3011844 ,\n",
              "       1.24549513])"
            ]
          },
          "metadata": {},
          "execution_count": 129
        }
      ]
    },
    {
      "cell_type": "code",
      "source": [
        "#Corroboramos cual es el coeficiente de Determinación de nuestro modelo\n",
        "coef_Deter=model.score(X=Vars_Indep, y=Var_Dep)\n",
        "coef_Deter"
      ],
      "metadata": {
        "colab": {
          "base_uri": "https://localhost:8080/"
        },
        "id": "v0siUmbdBTow",
        "outputId": "dba7972b-a1ba-44a0-964d-a7fd46c7ab86"
      },
      "execution_count": 130,
      "outputs": [
        {
          "output_type": "execute_result",
          "data": {
            "text/plain": [
              "0.011944222106396452"
            ]
          },
          "metadata": {},
          "execution_count": 130
        }
      ]
    },
    {
      "cell_type": "code",
      "source": [
        "#Corroboramos cual es el coeficiente de Correlación de nuestro modelo\n",
        "coef_Correl=np.sqrt(coef_Deter)\n",
        "coef_Correl"
      ],
      "metadata": {
        "colab": {
          "base_uri": "https://localhost:8080/"
        },
        "id": "onbnAddHBbob",
        "outputId": "ff62e5e6-d4e2-44eb-8624-06603313bebe"
      },
      "execution_count": 131,
      "outputs": [
        {
          "output_type": "execute_result",
          "data": {
            "text/plain": [
              "0.10928962487993292"
            ]
          },
          "metadata": {},
          "execution_count": 131
        }
      ]
    },
    {
      "cell_type": "markdown",
      "source": [
        "# **host_acceptance_rate vs price**"
      ],
      "metadata": {
        "id": "xwuoVC2EDdAQ"
      }
    },
    {
      "cell_type": "markdown",
      "source": [
        "hotel room"
      ],
      "metadata": {
        "id": "pKcNfZGbDnCG"
      }
    },
    {
      "cell_type": "code",
      "source": [
        "#Imprimimos el scatter plot entre la variable dependiente (host_acceptance_rate) e independiente (price) \n",
        "#para observar el comportamiento en su dispersión \n",
        "from turtle import color\n",
        "\n",
        "\n",
        "sns.scatterplot(x='host_acceptance_rate', y='price', color=\"blue\", data=filtro1)\n",
        "#sns.scatterplot(X='speeding', y='total', color=\"red\", data=df)"
      ],
      "metadata": {
        "colab": {
          "base_uri": "https://localhost:8080/",
          "height": 464
        },
        "id": "r8xBK3aSDja2",
        "outputId": "070c636a-5454-46c8-cd3f-f843fcc9c198"
      },
      "execution_count": 26,
      "outputs": [
        {
          "output_type": "execute_result",
          "data": {
            "text/plain": [
              "<Axes: xlabel='host_acceptance_rate', ylabel='price'>"
            ]
          },
          "metadata": {},
          "execution_count": 26
        },
        {
          "output_type": "display_data",
          "data": {
            "text/plain": [
              "<Figure size 640x480 with 1 Axes>"
            ],
            "image/png": "[encoded data removed]"
          },
          "metadata": {}
        }
      ]
    },
    {
      "cell_type": "code",
      "source": [
        "#Declaramos las variables dependientes e independientes para la regresión lineal\n",
        "Vars_Indep= filtro1[['price']]\n",
        "Var_Dep= filtro1['host_acceptance_rate']"
      ],
      "metadata": {
        "id": "2RLy9MrKDciZ"
      },
      "execution_count": 27,
      "outputs": []
    },
    {
      "cell_type": "code",
      "source": [
        "#Se define model como la función de regresión lineal\n",
        "from sklearn.linear_model import LinearRegression\n",
        "model= LinearRegression()"
      ],
      "metadata": {
        "id": "xTBqXoFMDqoY"
      },
      "execution_count": 28,
      "outputs": []
    },
    {
      "cell_type": "code",
      "source": [
        "#Verificamos la función relacionada al modelo\n",
        "type(model)"
      ],
      "metadata": {
        "colab": {
          "base_uri": "https://localhost:8080/"
        },
        "id": "fTqg3PtfDqld",
        "outputId": "24a4598a-a747-498d-b1bf-d3d14c38056a"
      },
      "execution_count": 29,
      "outputs": [
        {
          "output_type": "execute_result",
          "data": {
            "text/plain": [
              "sklearn.linear_model._base.LinearRegression"
            ]
          },
          "metadata": {},
          "execution_count": 29
        }
      ]
    },
    {
      "cell_type": "code",
      "source": [
        "#Ajustamos el modelo con las variables antes declaradas\n",
        "model.fit(X=Vars_Indep, y=Var_Dep)"
      ],
      "metadata": {
        "colab": {
          "base_uri": "https://localhost:8080/",
          "height": 64
        },
        "id": "jzs6ifg3Dqid",
        "outputId": "9796b796-5e96-4c4c-c353-301cb90dcfaf"
      },
      "execution_count": 30,
      "outputs": [
        {
          "output_type": "execute_result",
          "data": {
            "text/plain": [
              "LinearRegression()"
            ],
            "text/html": [
              "<style>#sk-container-id-3 {color: black;background-color: white;}#sk-container-id-3 pre{padding: 0;}#sk-container-id-3 div.sk-toggleable {background-color: white;}#sk-container-id-3 label.sk-toggleable__label {cursor: pointer;display: block;width: 100%;margin-bottom: 0;padding: 0.3em;box-sizing: border-box;text-align: center;}#sk-container-id-3 label.sk-toggleable__label-arrow:before {content: \"▸\";float: left;margin-right: 0.25em;color: #696969;}#sk-container-id-3 label.sk-toggleable__label-arrow:hover:before {color: black;}#sk-container-id-3 div.sk-estimator:hover label.sk-toggleable__label-arrow:before {color: black;}#sk-container-id-3 div.sk-toggleable__content {max-height: 0;max-width: 0;overflow: hidden;text-align: left;background-color: #f0f8ff;}#sk-container-id-3 div.sk-toggleable__content pre {margin: 0.2em;color: black;border-radius: 0.25em;background-color: #f0f8ff;}#sk-container-id-3 input.sk-toggleable__control:checked~div.sk-toggleable__content {max-height: 200px;max-width: 100%;overflow: auto;}#sk-container-id-3 input.sk-toggleable__control:checked~label.sk-toggleable__label-arrow:before {content: \"▾\";}#sk-container-id-3 div.sk-estimator input.sk-toggleable__control:checked~label.sk-toggleable__label {background-color: #d4ebff;}#sk-container-id-3 div.sk-label input.sk-toggleable__control:checked~label.sk-toggleable__label {background-color: #d4ebff;}#sk-container-id-3 input.sk-hidden--visually {border: 0;clip: rect(1px 1px 1px 1px);clip: rect(1px, 1px, 1px, 1px);height: 1px;margin: -1px;overflow: hidden;padding: 0;position: absolute;width: 1px;}#sk-container-id-3 div.sk-estimator {font-family: monospace;background-color: #f0f8ff;border: 1px dotted black;border-radius: 0.25em;box-sizing: border-box;margin-bottom: 0.5em;}#sk-container-id-3 div.sk-estimator:hover {background-color: #d4ebff;}#sk-container-id-3 div.sk-parallel-item::after {content: \"\";width: 100%;border-bottom: 1px solid gray;flex-grow: 1;}#sk-container-id-3 div.sk-label:hover label.sk-toggleable__label {background-color: #d4ebff;}#sk-container-id-3 div.sk-serial::before {content: \"\";position: absolute;border-left: 1px solid gray;box-sizing: border-box;top: 0;bottom: 0;left: 50%;z-index: 0;}#sk-container-id-3 div.sk-serial {display: flex;flex-direction: column;align-items: center;background-color: white;padding-right: 0.2em;padding-left: 0.2em;position: relative;}#sk-container-id-3 div.sk-item {position: relative;z-index: 1;}#sk-container-id-3 div.sk-parallel {display: flex;align-items: stretch;justify-content: center;background-color: white;position: relative;}#sk-container-id-3 div.sk-item::before, #sk-container-id-3 div.sk-parallel-item::before {content: \"\";position: absolute;border-left: 1px solid gray;box-sizing: border-box;top: 0;bottom: 0;left: 50%;z-index: -1;}#sk-container-id-3 div.sk-parallel-item {display: flex;flex-direction: column;z-index: 1;position: relative;background-color: white;}#sk-container-id-3 div.sk-parallel-item:first-child::after {align-self: flex-end;width: 50%;}#sk-container-id-3 div.sk-parallel-item:last-child::after {align-self: flex-start;width: 50%;}#sk-container-id-3 div.sk-parallel-item:only-child::after {width: 0;}#sk-container-id-3 div.sk-dashed-wrapped {border: 1px dashed gray;margin: 0 0.4em 0.5em 0.4em;box-sizing: border-box;padding-bottom: 0.4em;background-color: white;}#sk-container-id-3 div.sk-label label {font-family: monospace;font-weight: bold;display: inline-block;line-height: 1.2em;}#sk-container-id-3 div.sk-label-container {text-align: center;}#sk-container-id-3 div.sk-container {/* jupyter's `normalize.less` sets `[hidden] { display: none; }` but bootstrap.min.css set `[hidden] { display: none !important; }` so we also need the `!important` here to be able to override the default hidden behavior on the sphinx rendered scikit-learn.org. See: https://github.com/scikit-learn/scikit-learn/issues/21755 */display: inline-block !important;position: relative;}#sk-container-id-3 div.sk-text-repr-fallback {display: none;}</style><div id=\"sk-container-id-3\" class=\"sk-top-container\"><div class=\"sk-text-repr-fallback\"><pre>LinearRegression()</pre><b>In a Jupyter environment, please rerun this cell to show the HTML representation or trust the notebook. <br />On GitHub, the HTML representation is unable to render, please try loading this page with nbviewer.org.</b></div><div class=\"sk-container\" hidden><div class=\"sk-item\"><div class=\"sk-estimator sk-toggleable\"><input class=\"sk-toggleable__control sk-hidden--visually\" id=\"sk-estimator-id-3\" type=\"checkbox\" checked><label for=\"sk-estimator-id-3\" class=\"sk-toggleable__label sk-toggleable__label-arrow\">LinearRegression</label><div class=\"sk-toggleable__content\"><pre>LinearRegression()</pre></div></div></div></div></div>"
            ]
          },
          "metadata": {},
          "execution_count": 30
        }
      ]
    },
    {
      "cell_type": "code",
      "source": [
        "#Verificamos los coeficientes obtenidos para el modelo ajustado\n",
        "model.__dict__"
      ],
      "metadata": {
        "colab": {
          "base_uri": "https://localhost:8080/"
        },
        "id": "kfkvbDvqDqfl",
        "outputId": "1a201e74-c99e-43c2-e19d-f22bb52de200"
      },
      "execution_count": 31,
      "outputs": [
        {
          "output_type": "execute_result",
          "data": {
            "text/plain": [
              "{'fit_intercept': True,\n",
              " 'copy_X': True,\n",
              " 'n_jobs': None,\n",
              " 'positive': False,\n",
              " 'feature_names_in_': array(['price'], dtype=object),\n",
              " 'n_features_in_': 1,\n",
              " 'coef_': array([1.37986599e-05]),\n",
              " 'rank_': 1,\n",
              " 'singular_': array([18888.09646464]),\n",
              " 'intercept_': 0.8094552245787601}"
            ]
          },
          "metadata": {},
          "execution_count": 31
        }
      ]
    },
    {
      "cell_type": "markdown",
      "source": [
        "Modelo matemático y= 1.37986599e-05x + 0.8094552245787601"
      ],
      "metadata": {
        "id": "PMQiFH8iEVMU"
      }
    },
    {
      "cell_type": "code",
      "source": [
        "#Evaluamos la eficiencia del modelo obtenido por medio del coeficiente R Determinación\n",
        "model.score(Vars_Indep,Var_Dep)"
      ],
      "metadata": {
        "colab": {
          "base_uri": "https://localhost:8080/"
        },
        "id": "-WyS52k_Dqcb",
        "outputId": "db5c1471-851f-4649-c891-abaf6492cd5c"
      },
      "execution_count": 32,
      "outputs": [
        {
          "output_type": "execute_result",
          "data": {
            "text/plain": [
              "0.009216635348141544"
            ]
          },
          "metadata": {},
          "execution_count": 32
        }
      ]
    },
    {
      "cell_type": "code",
      "source": [
        "#Predecimos los valores de total de accidentes a partir de la variable \"host_acceptance_rate\"\n",
        "y_pred= model.predict(X=filtro1[['price']])\n",
        "y_pred"
      ],
      "metadata": {
        "colab": {
          "base_uri": "https://localhost:8080/"
        },
        "id": "ecqCRf5LDqX1",
        "outputId": "fd5a7222-32bc-4e6b-886f-85447051aca6"
      },
      "execution_count": 33,
      "outputs": [
        {
          "output_type": "execute_result",
          "data": {
            "text/plain": [
              "array([0.81080749, 0.81123525, 0.81290489, 0.8107109 , 0.81109727,\n",
              "       0.94742802, 0.81109727, 0.81109727, 0.94742802, 0.94742802,\n",
              "       0.81109727, 0.94742802, 0.81109727, 0.81109727, 0.81109727,\n",
              "       0.81083509, 0.8107109 , 0.81289109, 0.8169203 , 0.81421576,\n",
              "       0.81410537, 0.8148091 , 0.81109727, 0.81109727, 0.81109727,\n",
              "       0.81127665, 0.81127665, 0.81087649, 0.81127665, 0.81087649,\n",
              "       0.81087649, 0.8107109 , 0.8106971 , 0.81123525, 0.81137324,\n",
              "       0.81098688, 0.81204937, 0.81235294, 0.8127669 , 0.81106967,\n",
              "       0.81115246, 0.81101447, 0.81138704, 0.81046253, 0.8107247 ,\n",
              "       0.82187402, 0.81418816, 0.81301528, 0.8148643 , 0.82187402,\n",
              "       0.80945522, 0.80945522])"
            ]
          },
          "metadata": {},
          "execution_count": 33
        }
      ]
    },
    {
      "cell_type": "code",
      "source": [
        "#Corroboramos cual es el coeficiente de Determinación de nuestro modelo\n",
        "coef_Deter=model.score(X=Vars_Indep, y=Var_Dep)\n",
        "coef_Deter"
      ],
      "metadata": {
        "colab": {
          "base_uri": "https://localhost:8080/"
        },
        "id": "4H1INAd5DqSO",
        "outputId": "8061ea6d-9183-48b7-fe2f-e953bf4c399f"
      },
      "execution_count": 34,
      "outputs": [
        {
          "output_type": "execute_result",
          "data": {
            "text/plain": [
              "0.009216635348141544"
            ]
          },
          "metadata": {},
          "execution_count": 34
        }
      ]
    },
    {
      "cell_type": "code",
      "source": [
        "#Corroboramos cual es el coeficiente de Correlación de nuestro modelo\n",
        "coef_Correl=np.sqrt(coef_Deter)\n",
        "coef_Correl"
      ],
      "metadata": {
        "colab": {
          "base_uri": "https://localhost:8080/"
        },
        "id": "Rr8SxUn4ETAc",
        "outputId": "801f09bc-ff75-464b-e5e2-418f8b36be7b"
      },
      "execution_count": 35,
      "outputs": [
        {
          "output_type": "execute_result",
          "data": {
            "text/plain": [
              "0.09600330904787367"
            ]
          },
          "metadata": {},
          "execution_count": 35
        }
      ]
    },
    {
      "cell_type": "markdown",
      "source": [
        "Entire home/apt"
      ],
      "metadata": {
        "id": "HfLcn0pAJ688"
      }
    },
    {
      "cell_type": "code",
      "source": [
        "#Imprimimos el scatter plot entre la variable dependiente (host_acceptance_rate) e independiente (price) \n",
        "#para observar el comportamiento en su dispersión \n",
        "from turtle import color\n",
        "\n",
        "\n",
        "sns.scatterplot(x='host_acceptance_rate', y='price', color=\"blue\", data=filtro2)\n",
        "#sns.scatterplot(X='speeding', y='total', color=\"red\", data=df)"
      ],
      "metadata": {
        "colab": {
          "base_uri": "https://localhost:8080/",
          "height": 464
        },
        "id": "V15V634RKEY_",
        "outputId": "bc1b7dfd-1b4c-4e9c-cb38-743f1445ad52"
      },
      "execution_count": 36,
      "outputs": [
        {
          "output_type": "execute_result",
          "data": {
            "text/plain": [
              "<Axes: xlabel='host_acceptance_rate', ylabel='price'>"
            ]
          },
          "metadata": {},
          "execution_count": 36
        },
        {
          "output_type": "display_data",
          "data": {
            "text/plain": [
              "<Figure size 640x480 with 1 Axes>"
            ],
            "image/png": "[encoded data removed]"
          },
          "metadata": {}
        }
      ]
    },
    {
      "cell_type": "code",
      "source": [
        "Vars_Indep= filtro2[['price']]\n",
        "Var_Dep= filtro2['host_acceptance_rate']"
      ],
      "metadata": {
        "id": "-7KA56r1KFRi"
      },
      "execution_count": 37,
      "outputs": []
    },
    {
      "cell_type": "code",
      "source": [
        "#Se define model como la función de regresión lineal\n",
        "from sklearn.linear_model import LinearRegression\n",
        "model= LinearRegression()"
      ],
      "metadata": {
        "id": "osFMxyS6KFNe"
      },
      "execution_count": 38,
      "outputs": []
    },
    {
      "cell_type": "code",
      "source": [
        "#Verificamos la función relacionada al modelo\n",
        "type(model)"
      ],
      "metadata": {
        "colab": {
          "base_uri": "https://localhost:8080/"
        },
        "id": "aLVpUKJxKFJe",
        "outputId": "a9c8cd21-47b5-4523-a813-7915bed6620a"
      },
      "execution_count": 39,
      "outputs": [
        {
          "output_type": "execute_result",
          "data": {
            "text/plain": [
              "sklearn.linear_model._base.LinearRegression"
            ]
          },
          "metadata": {},
          "execution_count": 39
        }
      ]
    },
    {
      "cell_type": "code",
      "source": [
        "#Ajustamos el modelo con las variables antes declaradas\n",
        "model.fit(X=Vars_Indep, y=Var_Dep)"
      ],
      "metadata": {
        "colab": {
          "base_uri": "https://localhost:8080/",
          "height": 64
        },
        "id": "8Bg-vfrHKFFX",
        "outputId": "781bb07b-83f6-4ab6-af09-c54a45de080b"
      },
      "execution_count": 40,
      "outputs": [
        {
          "output_type": "execute_result",
          "data": {
            "text/plain": [
              "LinearRegression()"
            ],
            "text/html": [
              "<style>#sk-container-id-4 {color: black;background-color: white;}#sk-container-id-4 pre{padding: 0;}#sk-container-id-4 div.sk-toggleable {background-color: white;}#sk-container-id-4 label.sk-toggleable__label {cursor: pointer;display: block;width: 100%;margin-bottom: 0;padding: 0.3em;box-sizing: border-box;text-align: center;}#sk-container-id-4 label.sk-toggleable__label-arrow:before {content: \"▸\";float: left;margin-right: 0.25em;color: #696969;}#sk-container-id-4 label.sk-toggleable__label-arrow:hover:before {color: black;}#sk-container-id-4 div.sk-estimator:hover label.sk-toggleable__label-arrow:before {color: black;}#sk-container-id-4 div.sk-toggleable__content {max-height: 0;max-width: 0;overflow: hidden;text-align: left;background-color: #f0f8ff;}#sk-container-id-4 div.sk-toggleable__content pre {margin: 0.2em;color: black;border-radius: 0.25em;background-color: #f0f8ff;}#sk-container-id-4 input.sk-toggleable__control:checked~div.sk-toggleable__content {max-height: 200px;max-width: 100%;overflow: auto;}#sk-container-id-4 input.sk-toggleable__control:checked~label.sk-toggleable__label-arrow:before {content: \"▾\";}#sk-container-id-4 div.sk-estimator input.sk-toggleable__control:checked~label.sk-toggleable__label {background-color: #d4ebff;}#sk-container-id-4 div.sk-label input.sk-toggleable__control:checked~label.sk-toggleable__label {background-color: #d4ebff;}#sk-container-id-4 input.sk-hidden--visually {border: 0;clip: rect(1px 1px 1px 1px);clip: rect(1px, 1px, 1px, 1px);height: 1px;margin: -1px;overflow: hidden;padding: 0;position: absolute;width: 1px;}#sk-container-id-4 div.sk-estimator {font-family: monospace;background-color: #f0f8ff;border: 1px dotted black;border-radius: 0.25em;box-sizing: border-box;margin-bottom: 0.5em;}#sk-container-id-4 div.sk-estimator:hover {background-color: #d4ebff;}#sk-container-id-4 div.sk-parallel-item::after {content: \"\";width: 100%;border-bottom: 1px solid gray;flex-grow: 1;}#sk-container-id-4 div.sk-label:hover label.sk-toggleable__label {background-color: #d4ebff;}#sk-container-id-4 div.sk-serial::before {content: \"\";position: absolute;border-left: 1px solid gray;box-sizing: border-box;top: 0;bottom: 0;left: 50%;z-index: 0;}#sk-container-id-4 div.sk-serial {display: flex;flex-direction: column;align-items: center;background-color: white;padding-right: 0.2em;padding-left: 0.2em;position: relative;}#sk-container-id-4 div.sk-item {position: relative;z-index: 1;}#sk-container-id-4 div.sk-parallel {display: flex;align-items: stretch;justify-content: center;background-color: white;position: relative;}#sk-container-id-4 div.sk-item::before, #sk-container-id-4 div.sk-parallel-item::before {content: \"\";position: absolute;border-left: 1px solid gray;box-sizing: border-box;top: 0;bottom: 0;left: 50%;z-index: -1;}#sk-container-id-4 div.sk-parallel-item {display: flex;flex-direction: column;z-index: 1;position: relative;background-color: white;}#sk-container-id-4 div.sk-parallel-item:first-child::after {align-self: flex-end;width: 50%;}#sk-container-id-4 div.sk-parallel-item:last-child::after {align-self: flex-start;width: 50%;}#sk-container-id-4 div.sk-parallel-item:only-child::after {width: 0;}#sk-container-id-4 div.sk-dashed-wrapped {border: 1px dashed gray;margin: 0 0.4em 0.5em 0.4em;box-sizing: border-box;padding-bottom: 0.4em;background-color: white;}#sk-container-id-4 div.sk-label label {font-family: monospace;font-weight: bold;display: inline-block;line-height: 1.2em;}#sk-container-id-4 div.sk-label-container {text-align: center;}#sk-container-id-4 div.sk-container {/* jupyter's `normalize.less` sets `[hidden] { display: none; }` but bootstrap.min.css set `[hidden] { display: none !important; }` so we also need the `!important` here to be able to override the default hidden behavior on the sphinx rendered scikit-learn.org. See: https://github.com/scikit-learn/scikit-learn/issues/21755 */display: inline-block !important;position: relative;}#sk-container-id-4 div.sk-text-repr-fallback {display: none;}</style><div id=\"sk-container-id-4\" class=\"sk-top-container\"><div class=\"sk-text-repr-fallback\"><pre>LinearRegression()</pre><b>In a Jupyter environment, please rerun this cell to show the HTML representation or trust the notebook. <br />On GitHub, the HTML representation is unable to render, please try loading this page with nbviewer.org.</b></div><div class=\"sk-container\" hidden><div class=\"sk-item\"><div class=\"sk-estimator sk-toggleable\"><input class=\"sk-toggleable__control sk-hidden--visually\" id=\"sk-estimator-id-4\" type=\"checkbox\" checked><label for=\"sk-estimator-id-4\" class=\"sk-toggleable__label sk-toggleable__label-arrow\">LinearRegression</label><div class=\"sk-toggleable__content\"><pre>LinearRegression()</pre></div></div></div></div></div>"
            ]
          },
          "metadata": {},
          "execution_count": 40
        }
      ]
    },
    {
      "cell_type": "code",
      "source": [
        "#Verificamos los coeficientes obtenidos para el modelo ajustado\n",
        "model.__dict__"
      ],
      "metadata": {
        "colab": {
          "base_uri": "https://localhost:8080/"
        },
        "id": "2sYn67tWKFBe",
        "outputId": "fe75f25e-f153-4d5e-fe39-505ce4499078"
      },
      "execution_count": 41,
      "outputs": [
        {
          "output_type": "execute_result",
          "data": {
            "text/plain": [
              "{'fit_intercept': True,\n",
              " 'copy_X': True,\n",
              " 'n_jobs': None,\n",
              " 'positive': False,\n",
              " 'feature_names_in_': array(['price'], dtype=object),\n",
              " 'n_features_in_': 1,\n",
              " 'coef_': array([-2.29750443e-05]),\n",
              " 'rank_': 1,\n",
              " 'singular_': array([35440.1013724]),\n",
              " 'intercept_': 0.7918208554587263}"
            ]
          },
          "metadata": {},
          "execution_count": 41
        }
      ]
    },
    {
      "cell_type": "markdown",
      "source": [
        "Modelo matemático y= -2.29750443e-05x + 0.7918208554587263\n",
        "\n",
        "\n"
      ],
      "metadata": {
        "id": "ZwUkkXVMKfWJ"
      }
    },
    {
      "cell_type": "code",
      "source": [
        "#Evaluamos la eficiencia del modelo obtenido por medio del coeficiente R Determinación\n",
        "model.score(Vars_Indep,Var_Dep)"
      ],
      "metadata": {
        "colab": {
          "base_uri": "https://localhost:8080/"
        },
        "id": "pqMps9oBKE9t",
        "outputId": "2d978edf-7096-4392-9e70-499d986ed095"
      },
      "execution_count": 42,
      "outputs": [
        {
          "output_type": "execute_result",
          "data": {
            "text/plain": [
              "0.0014117967321803926"
            ]
          },
          "metadata": {},
          "execution_count": 42
        }
      ]
    },
    {
      "cell_type": "code",
      "source": [
        "#Predecimos los valores de total de accidentes a partir de la variable \"price\"\n",
        "y_pred= model.predict(X=filtro2[['price']])\n",
        "y_pred"
      ],
      "metadata": {
        "colab": {
          "base_uri": "https://localhost:8080/"
        },
        "id": "hJ4ecOdWKE5p",
        "outputId": "51213768-699a-4bae-fed4-bca773330971"
      },
      "execution_count": 43,
      "outputs": [
        {
          "output_type": "execute_result",
          "data": {
            "text/plain": [
              "array([0.7871799 , 0.78642172, 0.7786102 , ..., 0.78805295, 0.78658255,\n",
              "       0.78320521])"
            ]
          },
          "metadata": {},
          "execution_count": 43
        }
      ]
    },
    {
      "cell_type": "code",
      "source": [
        "#Corroboramos cual es el coeficiente de Determinación de nuestro modelo\n",
        "coef_Deter=model.score(X=Vars_Indep, y=Var_Dep)\n",
        "coef_Deter"
      ],
      "metadata": {
        "colab": {
          "base_uri": "https://localhost:8080/"
        },
        "id": "T1n0F3t3KE0s",
        "outputId": "45d512fe-3e7d-420e-cf44-1d45e70bbf76"
      },
      "execution_count": 44,
      "outputs": [
        {
          "output_type": "execute_result",
          "data": {
            "text/plain": [
              "0.0014117967321803926"
            ]
          },
          "metadata": {},
          "execution_count": 44
        }
      ]
    },
    {
      "cell_type": "code",
      "source": [
        "#Corroboramos cual es el coeficiente de Correlación de nuestro modelo\n",
        "coef_Correl=np.sqrt(coef_Deter)\n",
        "coef_Correl"
      ],
      "metadata": {
        "colab": {
          "base_uri": "https://localhost:8080/"
        },
        "id": "SnT-Cn3qKlst",
        "outputId": "2c5730e5-a91f-4411-cb93-b7d29fa528e7"
      },
      "execution_count": 45,
      "outputs": [
        {
          "output_type": "execute_result",
          "data": {
            "text/plain": [
              "0.03757388364516493"
            ]
          },
          "metadata": {},
          "execution_count": 45
        }
      ]
    },
    {
      "cell_type": "markdown",
      "source": [
        "# **host_acceptance_rate vs number_of_reviews**"
      ],
      "metadata": {
        "id": "04l9O9DZFre8"
      }
    },
    {
      "cell_type": "markdown",
      "source": [
        "hotel room"
      ],
      "metadata": {
        "id": "Ede_a1iUK8b8"
      }
    },
    {
      "cell_type": "code",
      "source": [
        "#Imprimimos el scatter plot entre la variable dependiente (host_acceptance_rate) e independiente (number_of_reviews) \n",
        "#para observar el comportamiento en su dispersión \n",
        "from turtle import color\n",
        "\n",
        "\n",
        "sns.scatterplot(x='number_of_reviews', y='host_acceptance_rate', color=\"blue\", data=filtro1)\n"
      ],
      "metadata": {
        "colab": {
          "base_uri": "https://localhost:8080/",
          "height": 464
        },
        "id": "4LPYyCvzK8NO",
        "outputId": "e5fcac79-da89-4531-8ecf-2804bde6b23a"
      },
      "execution_count": 46,
      "outputs": [
        {
          "output_type": "execute_result",
          "data": {
            "text/plain": [
              "<Axes: xlabel='number_of_reviews', ylabel='host_acceptance_rate'>"
            ]
          },
          "metadata": {},
          "execution_count": 46
        },
        {
          "output_type": "display_data",
          "data": {
            "text/plain": [
              "<Figure size 640x480 with 1 Axes>"
            ],
            "image/png": "[encoded data removed]"
          },
          "metadata": {}
        }
      ]
    },
    {
      "cell_type": "code",
      "source": [
        "Vars_Indep= filtro1[['number_of_reviews']]\n",
        "Var_Dep= filtro1['host_acceptance_rate']"
      ],
      "metadata": {
        "id": "25hLJCc-K8Go"
      },
      "execution_count": 47,
      "outputs": []
    },
    {
      "cell_type": "code",
      "source": [
        "#Se define model como la función de regresión lineal\n",
        "from sklearn.linear_model import LinearRegression\n",
        "model= LinearRegression()"
      ],
      "metadata": {
        "id": "2XEeXZzIK8Ao"
      },
      "execution_count": 48,
      "outputs": []
    },
    {
      "cell_type": "code",
      "source": [
        "#Verificamos la función relacionada al modelo\n",
        "type(model)"
      ],
      "metadata": {
        "colab": {
          "base_uri": "https://localhost:8080/"
        },
        "id": "TdXjXqt0K76S",
        "outputId": "e6c0f313-e6de-42b3-fa3d-8ed2a79d5c3d"
      },
      "execution_count": 49,
      "outputs": [
        {
          "output_type": "execute_result",
          "data": {
            "text/plain": [
              "sklearn.linear_model._base.LinearRegression"
            ]
          },
          "metadata": {},
          "execution_count": 49
        }
      ]
    },
    {
      "cell_type": "code",
      "source": [
        "#Ajustamos el modelo con las variables antes declaradas\n",
        "model.fit(X=Vars_Indep, y=Var_Dep)"
      ],
      "metadata": {
        "colab": {
          "base_uri": "https://localhost:8080/",
          "height": 64
        },
        "id": "rFOqAQDcK7zg",
        "outputId": "620a6255-5a24-4d78-8191-944dfbdc27b8"
      },
      "execution_count": 50,
      "outputs": [
        {
          "output_type": "execute_result",
          "data": {
            "text/plain": [
              "LinearRegression()"
            ],
            "text/html": [
              "<style>#sk-container-id-5 {color: black;background-color: white;}#sk-container-id-5 pre{padding: 0;}#sk-container-id-5 div.sk-toggleable {background-color: white;}#sk-container-id-5 label.sk-toggleable__label {cursor: pointer;display: block;width: 100%;margin-bottom: 0;padding: 0.3em;box-sizing: border-box;text-align: center;}#sk-container-id-5 label.sk-toggleable__label-arrow:before {content: \"▸\";float: left;margin-right: 0.25em;color: #696969;}#sk-container-id-5 label.sk-toggleable__label-arrow:hover:before {color: black;}#sk-container-id-5 div.sk-estimator:hover label.sk-toggleable__label-arrow:before {color: black;}#sk-container-id-5 div.sk-toggleable__content {max-height: 0;max-width: 0;overflow: hidden;text-align: left;background-color: #f0f8ff;}#sk-container-id-5 div.sk-toggleable__content pre {margin: 0.2em;color: black;border-radius: 0.25em;background-color: #f0f8ff;}#sk-container-id-5 input.sk-toggleable__control:checked~div.sk-toggleable__content {max-height: 200px;max-width: 100%;overflow: auto;}#sk-container-id-5 input.sk-toggleable__control:checked~label.sk-toggleable__label-arrow:before {content: \"▾\";}#sk-container-id-5 div.sk-estimator input.sk-toggleable__control:checked~label.sk-toggleable__label {background-color: #d4ebff;}#sk-container-id-5 div.sk-label input.sk-toggleable__control:checked~label.sk-toggleable__label {background-color: #d4ebff;}#sk-container-id-5 input.sk-hidden--visually {border: 0;clip: rect(1px 1px 1px 1px);clip: rect(1px, 1px, 1px, 1px);height: 1px;margin: -1px;overflow: hidden;padding: 0;position: absolute;width: 1px;}#sk-container-id-5 div.sk-estimator {font-family: monospace;background-color: #f0f8ff;border: 1px dotted black;border-radius: 0.25em;box-sizing: border-box;margin-bottom: 0.5em;}#sk-container-id-5 div.sk-estimator:hover {background-color: #d4ebff;}#sk-container-id-5 div.sk-parallel-item::after {content: \"\";width: 100%;border-bottom: 1px solid gray;flex-grow: 1;}#sk-container-id-5 div.sk-label:hover label.sk-toggleable__label {background-color: #d4ebff;}#sk-container-id-5 div.sk-serial::before {content: \"\";position: absolute;border-left: 1px solid gray;box-sizing: border-box;top: 0;bottom: 0;left: 50%;z-index: 0;}#sk-container-id-5 div.sk-serial {display: flex;flex-direction: column;align-items: center;background-color: white;padding-right: 0.2em;padding-left: 0.2em;position: relative;}#sk-container-id-5 div.sk-item {position: relative;z-index: 1;}#sk-container-id-5 div.sk-parallel {display: flex;align-items: stretch;justify-content: center;background-color: white;position: relative;}#sk-container-id-5 div.sk-item::before, #sk-container-id-5 div.sk-parallel-item::before {content: \"\";position: absolute;border-left: 1px solid gray;box-sizing: border-box;top: 0;bottom: 0;left: 50%;z-index: -1;}#sk-container-id-5 div.sk-parallel-item {display: flex;flex-direction: column;z-index: 1;position: relative;background-color: white;}#sk-container-id-5 div.sk-parallel-item:first-child::after {align-self: flex-end;width: 50%;}#sk-container-id-5 div.sk-parallel-item:last-child::after {align-self: flex-start;width: 50%;}#sk-container-id-5 div.sk-parallel-item:only-child::after {width: 0;}#sk-container-id-5 div.sk-dashed-wrapped {border: 1px dashed gray;margin: 0 0.4em 0.5em 0.4em;box-sizing: border-box;padding-bottom: 0.4em;background-color: white;}#sk-container-id-5 div.sk-label label {font-family: monospace;font-weight: bold;display: inline-block;line-height: 1.2em;}#sk-container-id-5 div.sk-label-container {text-align: center;}#sk-container-id-5 div.sk-container {/* jupyter's `normalize.less` sets `[hidden] { display: none; }` but bootstrap.min.css set `[hidden] { display: none !important; }` so we also need the `!important` here to be able to override the default hidden behavior on the sphinx rendered scikit-learn.org. See: https://github.com/scikit-learn/scikit-learn/issues/21755 */display: inline-block !important;position: relative;}#sk-container-id-5 div.sk-text-repr-fallback {display: none;}</style><div id=\"sk-container-id-5\" class=\"sk-top-container\"><div class=\"sk-text-repr-fallback\"><pre>LinearRegression()</pre><b>In a Jupyter environment, please rerun this cell to show the HTML representation or trust the notebook. <br />On GitHub, the HTML representation is unable to render, please try loading this page with nbviewer.org.</b></div><div class=\"sk-container\" hidden><div class=\"sk-item\"><div class=\"sk-estimator sk-toggleable\"><input class=\"sk-toggleable__control sk-hidden--visually\" id=\"sk-estimator-id-5\" type=\"checkbox\" checked><label for=\"sk-estimator-id-5\" class=\"sk-toggleable__label sk-toggleable__label-arrow\">LinearRegression</label><div class=\"sk-toggleable__content\"><pre>LinearRegression()</pre></div></div></div></div></div>"
            ]
          },
          "metadata": {},
          "execution_count": 50
        }
      ]
    },
    {
      "cell_type": "code",
      "source": [
        "#Verificamos los coeficientes obtenidos para el modelo ajustado\n",
        "model.__dict__"
      ],
      "metadata": {
        "colab": {
          "base_uri": "https://localhost:8080/"
        },
        "id": "-ttDmogfK7vX",
        "outputId": "c12e411b-9530-4fd9-d6dd-c285904b4bca"
      },
      "execution_count": 51,
      "outputs": [
        {
          "output_type": "execute_result",
          "data": {
            "text/plain": [
              "{'fit_intercept': True,\n",
              " 'copy_X': True,\n",
              " 'n_jobs': None,\n",
              " 'positive': False,\n",
              " 'feature_names_in_': array(['number_of_reviews'], dtype=object),\n",
              " 'n_features_in_': 1,\n",
              " 'coef_': array([0.00046365]),\n",
              " 'rank_': 1,\n",
              " 'singular_': array([975.14251424]),\n",
              " 'intercept_': 0.7962857128180519}"
            ]
          },
          "metadata": {},
          "execution_count": 51
        }
      ]
    },
    {
      "cell_type": "markdown",
      "source": [
        "Modelo matemático y= 0.00046365x + 0.7962857128180519"
      ],
      "metadata": {
        "id": "v2B_2K1uiNYc"
      }
    },
    {
      "cell_type": "code",
      "source": [
        "#Evaluamos la eficiencia del modelo obtenido por medio del coeficiente R Determinación\n",
        "model.score(Vars_Indep,Var_Dep)"
      ],
      "metadata": {
        "colab": {
          "base_uri": "https://localhost:8080/"
        },
        "id": "gsCwUOHoK7rf",
        "outputId": "f8b081eb-ee62-40d4-ec02-982393375f30"
      },
      "execution_count": 52,
      "outputs": [
        {
          "output_type": "execute_result",
          "data": {
            "text/plain": [
              "0.027736171539034737"
            ]
          },
          "metadata": {},
          "execution_count": 52
        }
      ]
    },
    {
      "cell_type": "code",
      "source": [
        "#Predecimos los valores de total de accidentes a partir de la variable \"number_of_reviews\"\n",
        "y_pred= model.predict(X=filtro1[['number_of_reviews']])\n",
        "y_pred"
      ],
      "metadata": {
        "colab": {
          "base_uri": "https://localhost:8080/"
        },
        "id": "idpeEwN6K7na",
        "outputId": "96e2ec79-abce-4423-c7cb-b1a80defc770"
      },
      "execution_count": 53,
      "outputs": [
        {
          "output_type": "execute_result",
          "data": {
            "text/plain": [
              "array([0.96041925, 0.91822673, 0.81204995, 0.80463149, 0.79999495,\n",
              "       0.79767667, 0.8115863 , 0.80602245, 0.80509514, 0.80834072,\n",
              "       0.80694976, 0.80926803, 0.80370418, 0.79814033, 0.80509514,\n",
              "       0.82827784, 0.82178669, 0.79721302, 0.79628571, 0.79674937,\n",
              "       0.79674937, 0.79628571, 0.79906764, 0.79767667, 0.80880437,\n",
              "       0.79814033, 0.79674937, 0.79814033, 0.79674937, 0.82735053,\n",
              "       0.79721302, 0.83894189, 0.84218746, 0.81483188, 0.8064861 ,\n",
              "       0.85841536, 0.79999495, 0.81344091, 0.80092225, 0.84172381,\n",
              "       1.21357437, 0.86073363, 0.80277687, 0.83847823, 0.85516978,\n",
              "       0.79721302, 0.79721302, 0.79674937, 0.79721302, 0.79628571,\n",
              "       0.79628571, 0.80092225])"
            ]
          },
          "metadata": {},
          "execution_count": 53
        }
      ]
    },
    {
      "cell_type": "code",
      "source": [
        "#Corroboramos cual es el coeficiente de Determinación de nuestro modelo\n",
        "coef_Deter=model.score(X=Vars_Indep, y=Var_Dep)\n",
        "coef_Deter"
      ],
      "metadata": {
        "colab": {
          "base_uri": "https://localhost:8080/"
        },
        "id": "iMwyBBlfK7jS",
        "outputId": "806a6a12-a318-4584-f267-6e36a6364de2"
      },
      "execution_count": 54,
      "outputs": [
        {
          "output_type": "execute_result",
          "data": {
            "text/plain": [
              "0.027736171539034737"
            ]
          },
          "metadata": {},
          "execution_count": 54
        }
      ]
    },
    {
      "cell_type": "code",
      "source": [
        "#Corroboramos cual es el coeficiente de Correlación de nuestro modelo\n",
        "coef_Correl=np.sqrt(coef_Deter)\n",
        "coef_Correl"
      ],
      "metadata": {
        "colab": {
          "base_uri": "https://localhost:8080/"
        },
        "id": "ymZXpHl8K7e-",
        "outputId": "76f59d31-7325-4f1f-8419-43da1e5545b3"
      },
      "execution_count": 55,
      "outputs": [
        {
          "output_type": "execute_result",
          "data": {
            "text/plain": [
              "0.16654180117626546"
            ]
          },
          "metadata": {},
          "execution_count": 55
        }
      ]
    },
    {
      "cell_type": "markdown",
      "source": [
        "Entire home/apt"
      ],
      "metadata": {
        "id": "aIrlLMKdOoAZ"
      }
    },
    {
      "cell_type": "code",
      "source": [
        "#Imprimimos el scatter plot entre la variable dependiente (host_acceptance_rate) e independiente (number_of_reviews) \n",
        "#para observar el comportamiento en su dispersión \n",
        "from turtle import color\n",
        "\n",
        "\n",
        "sns.scatterplot(x='number_of_reviews', y='host_acceptance_rate', color=\"blue\", data=filtro2)\n"
      ],
      "metadata": {
        "colab": {
          "base_uri": "https://localhost:8080/",
          "height": 464
        },
        "id": "FOb89zSwOsJs",
        "outputId": "decf85ea-ef5f-4517-fe84-73233c81e555"
      },
      "execution_count": 56,
      "outputs": [
        {
          "output_type": "execute_result",
          "data": {
            "text/plain": [
              "<Axes: xlabel='number_of_reviews', ylabel='host_acceptance_rate'>"
            ]
          },
          "metadata": {},
          "execution_count": 56
        },
        {
          "output_type": "display_data",
          "data": {
            "text/plain": [
              "<Figure size 640x480 with 1 Axes>"
            ],
            "image/png": "[encoded data removed]"
          },
          "metadata": {}
        }
      ]
    },
    {
      "cell_type": "code",
      "source": [
        "Vars_Indep= filtro2[['number_of_reviews']]\n",
        "Var_Dep= filtro2['host_acceptance_rate']"
      ],
      "metadata": {
        "id": "-pcMaMqaOxmb"
      },
      "execution_count": 57,
      "outputs": []
    },
    {
      "cell_type": "code",
      "source": [
        "#Se define model como la función de regresión lineal\n",
        "from sklearn.linear_model import LinearRegression\n",
        "model= LinearRegression()"
      ],
      "metadata": {
        "id": "srIfs2O0OxUF"
      },
      "execution_count": 58,
      "outputs": []
    },
    {
      "cell_type": "code",
      "source": [
        "#Verificamos la función relacionada al modelo\n",
        "type(model)"
      ],
      "metadata": {
        "colab": {
          "base_uri": "https://localhost:8080/"
        },
        "id": "A5ryOXF2OxIt",
        "outputId": "b7edf266-40a3-4f8f-8c57-6c39fd56f694"
      },
      "execution_count": 59,
      "outputs": [
        {
          "output_type": "execute_result",
          "data": {
            "text/plain": [
              "sklearn.linear_model._base.LinearRegression"
            ]
          },
          "metadata": {},
          "execution_count": 59
        }
      ]
    },
    {
      "cell_type": "code",
      "source": [
        "#Ajustamos el modelo con las variables antes declaradas\n",
        "model.fit(X=Vars_Indep, y=Var_Dep)"
      ],
      "metadata": {
        "colab": {
          "base_uri": "https://localhost:8080/",
          "height": 64
        },
        "id": "gE6HLjk0Ow_c",
        "outputId": "5ef8b2ca-e2b7-4608-8e3c-d8e1c9ce3633"
      },
      "execution_count": 60,
      "outputs": [
        {
          "output_type": "execute_result",
          "data": {
            "text/plain": [
              "LinearRegression()"
            ],
            "text/html": [
              "<style>#sk-container-id-6 {color: black;background-color: white;}#sk-container-id-6 pre{padding: 0;}#sk-container-id-6 div.sk-toggleable {background-color: white;}#sk-container-id-6 label.sk-toggleable__label {cursor: pointer;display: block;width: 100%;margin-bottom: 0;padding: 0.3em;box-sizing: border-box;text-align: center;}#sk-container-id-6 label.sk-toggleable__label-arrow:before {content: \"▸\";float: left;margin-right: 0.25em;color: #696969;}#sk-container-id-6 label.sk-toggleable__label-arrow:hover:before {color: black;}#sk-container-id-6 div.sk-estimator:hover label.sk-toggleable__label-arrow:before {color: black;}#sk-container-id-6 div.sk-toggleable__content {max-height: 0;max-width: 0;overflow: hidden;text-align: left;background-color: #f0f8ff;}#sk-container-id-6 div.sk-toggleable__content pre {margin: 0.2em;color: black;border-radius: 0.25em;background-color: #f0f8ff;}#sk-container-id-6 input.sk-toggleable__control:checked~div.sk-toggleable__content {max-height: 200px;max-width: 100%;overflow: auto;}#sk-container-id-6 input.sk-toggleable__control:checked~label.sk-toggleable__label-arrow:before {content: \"▾\";}#sk-container-id-6 div.sk-estimator input.sk-toggleable__control:checked~label.sk-toggleable__label {background-color: #d4ebff;}#sk-container-id-6 div.sk-label input.sk-toggleable__control:checked~label.sk-toggleable__label {background-color: #d4ebff;}#sk-container-id-6 input.sk-hidden--visually {border: 0;clip: rect(1px 1px 1px 1px);clip: rect(1px, 1px, 1px, 1px);height: 1px;margin: -1px;overflow: hidden;padding: 0;position: absolute;width: 1px;}#sk-container-id-6 div.sk-estimator {font-family: monospace;background-color: #f0f8ff;border: 1px dotted black;border-radius: 0.25em;box-sizing: border-box;margin-bottom: 0.5em;}#sk-container-id-6 div.sk-estimator:hover {background-color: #d4ebff;}#sk-container-id-6 div.sk-parallel-item::after {content: \"\";width: 100%;border-bottom: 1px solid gray;flex-grow: 1;}#sk-container-id-6 div.sk-label:hover label.sk-toggleable__label {background-color: #d4ebff;}#sk-container-id-6 div.sk-serial::before {content: \"\";position: absolute;border-left: 1px solid gray;box-sizing: border-box;top: 0;bottom: 0;left: 50%;z-index: 0;}#sk-container-id-6 div.sk-serial {display: flex;flex-direction: column;align-items: center;background-color: white;padding-right: 0.2em;padding-left: 0.2em;position: relative;}#sk-container-id-6 div.sk-item {position: relative;z-index: 1;}#sk-container-id-6 div.sk-parallel {display: flex;align-items: stretch;justify-content: center;background-color: white;position: relative;}#sk-container-id-6 div.sk-item::before, #sk-container-id-6 div.sk-parallel-item::before {content: \"\";position: absolute;border-left: 1px solid gray;box-sizing: border-box;top: 0;bottom: 0;left: 50%;z-index: -1;}#sk-container-id-6 div.sk-parallel-item {display: flex;flex-direction: column;z-index: 1;position: relative;background-color: white;}#sk-container-id-6 div.sk-parallel-item:first-child::after {align-self: flex-end;width: 50%;}#sk-container-id-6 div.sk-parallel-item:last-child::after {align-self: flex-start;width: 50%;}#sk-container-id-6 div.sk-parallel-item:only-child::after {width: 0;}#sk-container-id-6 div.sk-dashed-wrapped {border: 1px dashed gray;margin: 0 0.4em 0.5em 0.4em;box-sizing: border-box;padding-bottom: 0.4em;background-color: white;}#sk-container-id-6 div.sk-label label {font-family: monospace;font-weight: bold;display: inline-block;line-height: 1.2em;}#sk-container-id-6 div.sk-label-container {text-align: center;}#sk-container-id-6 div.sk-container {/* jupyter's `normalize.less` sets `[hidden] { display: none; }` but bootstrap.min.css set `[hidden] { display: none !important; }` so we also need the `!important` here to be able to override the default hidden behavior on the sphinx rendered scikit-learn.org. See: https://github.com/scikit-learn/scikit-learn/issues/21755 */display: inline-block !important;position: relative;}#sk-container-id-6 div.sk-text-repr-fallback {display: none;}</style><div id=\"sk-container-id-6\" class=\"sk-top-container\"><div class=\"sk-text-repr-fallback\"><pre>LinearRegression()</pre><b>In a Jupyter environment, please rerun this cell to show the HTML representation or trust the notebook. <br />On GitHub, the HTML representation is unable to render, please try loading this page with nbviewer.org.</b></div><div class=\"sk-container\" hidden><div class=\"sk-item\"><div class=\"sk-estimator sk-toggleable\"><input class=\"sk-toggleable__control sk-hidden--visually\" id=\"sk-estimator-id-6\" type=\"checkbox\" checked><label for=\"sk-estimator-id-6\" class=\"sk-toggleable__label sk-toggleable__label-arrow\">LinearRegression</label><div class=\"sk-toggleable__content\"><pre>LinearRegression()</pre></div></div></div></div></div>"
            ]
          },
          "metadata": {},
          "execution_count": 60
        }
      ]
    },
    {
      "cell_type": "code",
      "source": [
        "#Verificamos los coeficientes obtenidos para el modelo ajustado\n",
        "model.__dict__"
      ],
      "metadata": {
        "colab": {
          "base_uri": "https://localhost:8080/"
        },
        "id": "XTPMEShCO9gY",
        "outputId": "fedc2645-6649-4e1b-b352-39b011f47473"
      },
      "execution_count": 61,
      "outputs": [
        {
          "output_type": "execute_result",
          "data": {
            "text/plain": [
              "{'fit_intercept': True,\n",
              " 'copy_X': True,\n",
              " 'n_jobs': None,\n",
              " 'positive': False,\n",
              " 'feature_names_in_': array(['number_of_reviews'], dtype=object),\n",
              " 'n_features_in_': 1,\n",
              " 'coef_': array([0.00064089]),\n",
              " 'rank_': 1,\n",
              " 'singular_': array([5963.17730053]),\n",
              " 'intercept_': 0.757769852849461}"
            ]
          },
          "metadata": {},
          "execution_count": 61
        }
      ]
    },
    {
      "cell_type": "markdown",
      "source": [
        "Modelo matemático y= 0.00064089x + 0.757769852849461"
      ],
      "metadata": {
        "id": "cBL3w9hJPbgH"
      }
    },
    {
      "cell_type": "code",
      "source": [
        "#Evaluamos la eficiencia del modelo obtenido por medio del coeficiente R Determinación\n",
        "model.score(Vars_Indep,Var_Dep)"
      ],
      "metadata": {
        "colab": {
          "base_uri": "https://localhost:8080/"
        },
        "id": "srH19UlVOw2a",
        "outputId": "b73fa41e-0aac-41f3-faff-756fbd19feec"
      },
      "execution_count": 62,
      "outputs": [
        {
          "output_type": "execute_result",
          "data": {
            "text/plain": [
              "0.03110234127819611"
            ]
          },
          "metadata": {},
          "execution_count": 62
        }
      ]
    },
    {
      "cell_type": "code",
      "source": [
        "#Predecimos los valores de total de accidentes a partir de la variable \"number_of_reviews\"\n",
        "y_pred= model.predict(X=filtro2[['number_of_reviews']])\n",
        "y_pred"
      ],
      "metadata": {
        "colab": {
          "base_uri": "https://localhost:8080/"
        },
        "id": "3N0DTziQOwqy",
        "outputId": "80b88b84-5d11-4aaa-a68a-4466651da176"
      },
      "execution_count": 63,
      "outputs": [
        {
          "output_type": "execute_result",
          "data": {
            "text/plain": [
              "array([1.00323103, 0.82890873, 0.7757148 , ..., 0.75776985, 0.75841074,\n",
              "       0.75776985])"
            ]
          },
          "metadata": {},
          "execution_count": 63
        }
      ]
    },
    {
      "cell_type": "code",
      "source": [
        "#Corroboramos cual es el coeficiente de Determinación de nuestro modelo\n",
        "coef_Deter=model.score(X=Vars_Indep, y=Var_Dep)\n",
        "coef_Deter"
      ],
      "metadata": {
        "colab": {
          "base_uri": "https://localhost:8080/"
        },
        "id": "dZBANs81PGRF",
        "outputId": "11c2f17f-316d-41fb-fc78-40bdc54a02ab"
      },
      "execution_count": 64,
      "outputs": [
        {
          "output_type": "execute_result",
          "data": {
            "text/plain": [
              "0.03110234127819611"
            ]
          },
          "metadata": {},
          "execution_count": 64
        }
      ]
    },
    {
      "cell_type": "code",
      "source": [
        "#Corroboramos cual es el coeficiente de Correlación de nuestro modelo\n",
        "coef_Correl=np.sqrt(coef_Deter)\n",
        "coef_Correl"
      ],
      "metadata": {
        "colab": {
          "base_uri": "https://localhost:8080/"
        },
        "id": "zHsyNR7FPMWV",
        "outputId": "0f730fe8-9342-4655-e7ad-854604c5d04b"
      },
      "execution_count": 65,
      "outputs": [
        {
          "output_type": "execute_result",
          "data": {
            "text/plain": [
              "0.1763585588458811"
            ]
          },
          "metadata": {},
          "execution_count": 65
        }
      ]
    },
    {
      "cell_type": "markdown",
      "source": [
        "# **review_scores_location vs review_scores_cleanliness**"
      ],
      "metadata": {
        "id": "dDV3uRgSORuY"
      }
    },
    {
      "cell_type": "markdown",
      "source": [
        "hotel room "
      ],
      "metadata": {
        "id": "EKq_BEYzOZN-"
      }
    },
    {
      "cell_type": "code",
      "source": [
        "#Imprimimos el scatter plot entre la variable dependiente (review_scores_location) e independiente (review_scores_cleanliness) \n",
        "#para observar el comportamiento en su dispersión \n",
        "from turtle import color\n",
        "\n",
        "\n",
        "sns.scatterplot(x='review_scores_cleanliness', y='review_scores_location', color=\"blue\", data=filtro1)"
      ],
      "metadata": {
        "colab": {
          "base_uri": "https://localhost:8080/",
          "height": 464
        },
        "id": "V67hESI_OVfm",
        "outputId": "b7832bd8-b3f5-47aa-8f66-16bd8b5f462c"
      },
      "execution_count": 66,
      "outputs": [
        {
          "output_type": "execute_result",
          "data": {
            "text/plain": [
              "<Axes: xlabel='review_scores_cleanliness', ylabel='review_scores_location'>"
            ]
          },
          "metadata": {},
          "execution_count": 66
        },
        {
          "output_type": "display_data",
          "data": {
            "text/plain": [
              "<Figure size 640x480 with 1 Axes>"
            ],
            "image/png": "[encoded data removed]"
          },
          "metadata": {}
        }
      ]
    },
    {
      "cell_type": "code",
      "source": [
        "Vars_Indep= filtro1[['review_scores_cleanliness']]\n",
        "Var_Dep= filtro1['review_scores_location']"
      ],
      "metadata": {
        "id": "LHnrRFn0PmzC"
      },
      "execution_count": 67,
      "outputs": []
    },
    {
      "cell_type": "code",
      "source": [
        "#Se define model como la función de regresión lineal\n",
        "from sklearn.linear_model import LinearRegression\n",
        "model= LinearRegression()"
      ],
      "metadata": {
        "id": "0QjlGbN6Pmod"
      },
      "execution_count": 68,
      "outputs": []
    },
    {
      "cell_type": "code",
      "source": [
        "#Verificamos la función relacionada al modelo\n",
        "type(model)"
      ],
      "metadata": {
        "colab": {
          "base_uri": "https://localhost:8080/"
        },
        "id": "7rH1rAkKPmcx",
        "outputId": "70a5ea57-bd2f-4354-9355-00cd73a4dcb8"
      },
      "execution_count": 69,
      "outputs": [
        {
          "output_type": "execute_result",
          "data": {
            "text/plain": [
              "sklearn.linear_model._base.LinearRegression"
            ]
          },
          "metadata": {},
          "execution_count": 69
        }
      ]
    },
    {
      "cell_type": "code",
      "source": [
        "#Ajustamos el modelo con las variables antes declaradas\n",
        "model.fit(X=Vars_Indep, y=Var_Dep)"
      ],
      "metadata": {
        "colab": {
          "base_uri": "https://localhost:8080/",
          "height": 64
        },
        "id": "_8RkJXiPPmSu",
        "outputId": "463af48a-0c7e-4d4c-9238-b4ae364635d7"
      },
      "execution_count": 70,
      "outputs": [
        {
          "output_type": "execute_result",
          "data": {
            "text/plain": [
              "LinearRegression()"
            ],
            "text/html": [
              "<style>#sk-container-id-7 {color: black;background-color: white;}#sk-container-id-7 pre{padding: 0;}#sk-container-id-7 div.sk-toggleable {background-color: white;}#sk-container-id-7 label.sk-toggleable__label {cursor: pointer;display: block;width: 100%;margin-bottom: 0;padding: 0.3em;box-sizing: border-box;text-align: center;}#sk-container-id-7 label.sk-toggleable__label-arrow:before {content: \"▸\";float: left;margin-right: 0.25em;color: #696969;}#sk-container-id-7 label.sk-toggleable__label-arrow:hover:before {color: black;}#sk-container-id-7 div.sk-estimator:hover label.sk-toggleable__label-arrow:before {color: black;}#sk-container-id-7 div.sk-toggleable__content {max-height: 0;max-width: 0;overflow: hidden;text-align: left;background-color: #f0f8ff;}#sk-container-id-7 div.sk-toggleable__content pre {margin: 0.2em;color: black;border-radius: 0.25em;background-color: #f0f8ff;}#sk-container-id-7 input.sk-toggleable__control:checked~div.sk-toggleable__content {max-height: 200px;max-width: 100%;overflow: auto;}#sk-container-id-7 input.sk-toggleable__control:checked~label.sk-toggleable__label-arrow:before {content: \"▾\";}#sk-container-id-7 div.sk-estimator input.sk-toggleable__control:checked~label.sk-toggleable__label {background-color: #d4ebff;}#sk-container-id-7 div.sk-label input.sk-toggleable__control:checked~label.sk-toggleable__label {background-color: #d4ebff;}#sk-container-id-7 input.sk-hidden--visually {border: 0;clip: rect(1px 1px 1px 1px);clip: rect(1px, 1px, 1px, 1px);height: 1px;margin: -1px;overflow: hidden;padding: 0;position: absolute;width: 1px;}#sk-container-id-7 div.sk-estimator {font-family: monospace;background-color: #f0f8ff;border: 1px dotted black;border-radius: 0.25em;box-sizing: border-box;margin-bottom: 0.5em;}#sk-container-id-7 div.sk-estimator:hover {background-color: #d4ebff;}#sk-container-id-7 div.sk-parallel-item::after {content: \"\";width: 100%;border-bottom: 1px solid gray;flex-grow: 1;}#sk-container-id-7 div.sk-label:hover label.sk-toggleable__label {background-color: #d4ebff;}#sk-container-id-7 div.sk-serial::before {content: \"\";position: absolute;border-left: 1px solid gray;box-sizing: border-box;top: 0;bottom: 0;left: 50%;z-index: 0;}#sk-container-id-7 div.sk-serial {display: flex;flex-direction: column;align-items: center;background-color: white;padding-right: 0.2em;padding-left: 0.2em;position: relative;}#sk-container-id-7 div.sk-item {position: relative;z-index: 1;}#sk-container-id-7 div.sk-parallel {display: flex;align-items: stretch;justify-content: center;background-color: white;position: relative;}#sk-container-id-7 div.sk-item::before, #sk-container-id-7 div.sk-parallel-item::before {content: \"\";position: absolute;border-left: 1px solid gray;box-sizing: border-box;top: 0;bottom: 0;left: 50%;z-index: -1;}#sk-container-id-7 div.sk-parallel-item {display: flex;flex-direction: column;z-index: 1;position: relative;background-color: white;}#sk-container-id-7 div.sk-parallel-item:first-child::after {align-self: flex-end;width: 50%;}#sk-container-id-7 div.sk-parallel-item:last-child::after {align-self: flex-start;width: 50%;}#sk-container-id-7 div.sk-parallel-item:only-child::after {width: 0;}#sk-container-id-7 div.sk-dashed-wrapped {border: 1px dashed gray;margin: 0 0.4em 0.5em 0.4em;box-sizing: border-box;padding-bottom: 0.4em;background-color: white;}#sk-container-id-7 div.sk-label label {font-family: monospace;font-weight: bold;display: inline-block;line-height: 1.2em;}#sk-container-id-7 div.sk-label-container {text-align: center;}#sk-container-id-7 div.sk-container {/* jupyter's `normalize.less` sets `[hidden] { display: none; }` but bootstrap.min.css set `[hidden] { display: none !important; }` so we also need the `!important` here to be able to override the default hidden behavior on the sphinx rendered scikit-learn.org. See: https://github.com/scikit-learn/scikit-learn/issues/21755 */display: inline-block !important;position: relative;}#sk-container-id-7 div.sk-text-repr-fallback {display: none;}</style><div id=\"sk-container-id-7\" class=\"sk-top-container\"><div class=\"sk-text-repr-fallback\"><pre>LinearRegression()</pre><b>In a Jupyter environment, please rerun this cell to show the HTML representation or trust the notebook. <br />On GitHub, the HTML representation is unable to render, please try loading this page with nbviewer.org.</b></div><div class=\"sk-container\" hidden><div class=\"sk-item\"><div class=\"sk-estimator sk-toggleable\"><input class=\"sk-toggleable__control sk-hidden--visually\" id=\"sk-estimator-id-7\" type=\"checkbox\" checked><label for=\"sk-estimator-id-7\" class=\"sk-toggleable__label sk-toggleable__label-arrow\">LinearRegression</label><div class=\"sk-toggleable__content\"><pre>LinearRegression()</pre></div></div></div></div></div>"
            ]
          },
          "metadata": {},
          "execution_count": 70
        }
      ]
    },
    {
      "cell_type": "code",
      "source": [
        "#Verificamos los coeficientes obtenidos para el modelo ajustado\n",
        "model.__dict__"
      ],
      "metadata": {
        "colab": {
          "base_uri": "https://localhost:8080/"
        },
        "id": "S7rPSwPJPmH4",
        "outputId": "17757828-3bc0-405a-fb50-0cda3ff016ad"
      },
      "execution_count": 71,
      "outputs": [
        {
          "output_type": "execute_result",
          "data": {
            "text/plain": [
              "{'fit_intercept': True,\n",
              " 'copy_X': True,\n",
              " 'n_jobs': None,\n",
              " 'positive': False,\n",
              " 'feature_names_in_': array(['review_scores_cleanliness'], dtype=object),\n",
              " 'n_features_in_': 1,\n",
              " 'coef_': array([-0.4289354]),\n",
              " 'rank_': 1,\n",
              " 'singular_': array([2.44622276]),\n",
              " 'intercept_': 6.51301164996563}"
            ]
          },
          "metadata": {},
          "execution_count": 71
        }
      ]
    },
    {
      "cell_type": "markdown",
      "source": [
        "Modelo matemático y= -0.4289354x + 6.51301164996563"
      ],
      "metadata": {
        "id": "XbQBS7I3QAK8"
      }
    },
    {
      "cell_type": "code",
      "source": [
        "#Evaluamos la eficiencia del modelo obtenido por medio del coeficiente R Determinación\n",
        "model.score(Vars_Indep,Var_Dep)"
      ],
      "metadata": {
        "colab": {
          "base_uri": "https://localhost:8080/"
        },
        "id": "eCcRWAlUPmAj",
        "outputId": "06103994-5ad8-43c1-cc1d-79e7eb8658d1"
      },
      "execution_count": 72,
      "outputs": [
        {
          "output_type": "execute_result",
          "data": {
            "text/plain": [
              "0.05515867016996512"
            ]
          },
          "metadata": {},
          "execution_count": 72
        }
      ]
    },
    {
      "cell_type": "code",
      "source": [
        "#Predecimos los valores de total de accidentes a partir de la variable \"number_of_reviews\"\n",
        "y_pred= model.predict(X=filtro1[['review_scores_cleanliness']])\n",
        "y_pred"
      ],
      "metadata": {
        "colab": {
          "base_uri": "https://localhost:8080/"
        },
        "id": "0m6u5o4tPl4t",
        "outputId": "e78fb1bf-ea19-477f-cbc8-68933bc06651"
      },
      "execution_count": 73,
      "outputs": [
        {
          "output_type": "execute_result",
          "data": {
            "text/plain": [
              "array([4.54419815, 4.55706621, 4.36833464, 4.56993428, 4.63427459,\n",
              "       4.50988332, 4.61711717, 4.69432554, 4.56993428, 4.59995975,\n",
              "       4.59138105, 4.61282782, 4.55706621, 4.36833464, 4.63856394,\n",
              "       4.59995975, 4.5956704 , 4.58280234, 4.45412172, 4.36833464,\n",
              "       5.22620544, 4.45412172, 4.36833464, 4.50988332, 4.39836012,\n",
              "       4.47556849, 4.36833464, 4.36833464, 4.36833464, 4.40693882,\n",
              "       4.36833464, 4.54848751, 4.56993428, 4.39836012, 4.46698978,\n",
              "       4.56993428, 4.63427459, 4.57851298, 4.36833464, 4.54848751,\n",
              "       4.64714265, 4.63856394, 4.76724456, 4.50559397, 4.54848751,\n",
              "       4.36833464, 4.36833464, 4.36833464, 4.36833464, 4.45412172,\n",
              "       4.45412172, 4.41122818])"
            ]
          },
          "metadata": {},
          "execution_count": 73
        }
      ]
    },
    {
      "cell_type": "code",
      "source": [
        "#Corroboramos cual es el coeficiente de Determinación de nuestro modelo\n",
        "coef_Deter=model.score(X=Vars_Indep, y=Var_Dep)\n",
        "coef_Deter"
      ],
      "metadata": {
        "colab": {
          "base_uri": "https://localhost:8080/"
        },
        "id": "HfOrx4fOPlxU",
        "outputId": "663a430f-bb2b-4e14-e3ae-4dd9557d9785"
      },
      "execution_count": 74,
      "outputs": [
        {
          "output_type": "execute_result",
          "data": {
            "text/plain": [
              "0.05515867016996512"
            ]
          },
          "metadata": {},
          "execution_count": 74
        }
      ]
    },
    {
      "cell_type": "code",
      "source": [
        "#Corroboramos cual es el coeficiente de Correlación de nuestro modelo\n",
        "coef_Correl=np.sqrt(coef_Deter)\n",
        "coef_Correl"
      ],
      "metadata": {
        "colab": {
          "base_uri": "https://localhost:8080/"
        },
        "id": "lJgDf8uHPlp4",
        "outputId": "ca98becb-7398-4a8d-d94e-3a0b109c2401"
      },
      "execution_count": 75,
      "outputs": [
        {
          "output_type": "execute_result",
          "data": {
            "text/plain": [
              "0.23485883030017227"
            ]
          },
          "metadata": {},
          "execution_count": 75
        }
      ]
    },
    {
      "cell_type": "markdown",
      "source": [
        "Entire home/apt"
      ],
      "metadata": {
        "id": "_Wv0TQ-7QIma"
      }
    },
    {
      "cell_type": "code",
      "source": [
        "#Imprimimos el scatter plot entre la variable dependiente (review_scores_location) e independiente (review_scores_cleanliness) \n",
        "#para observar el comportamiento en su dispersión \n",
        "from turtle import color\n",
        "\n",
        "\n",
        "sns.scatterplot(x='review_scores_cleanliness', y='review_scores_location', color=\"blue\", data=filtro2)"
      ],
      "metadata": {
        "colab": {
          "base_uri": "https://localhost:8080/",
          "height": 464
        },
        "id": "iIQBCXyFQNE6",
        "outputId": "3b506e0e-c09c-4c54-d02d-a2e267c86614"
      },
      "execution_count": 76,
      "outputs": [
        {
          "output_type": "execute_result",
          "data": {
            "text/plain": [
              "<Axes: xlabel='review_scores_cleanliness', ylabel='review_scores_location'>"
            ]
          },
          "metadata": {},
          "execution_count": 76
        },
        {
          "output_type": "display_data",
          "data": {
            "text/plain": [
              "<Figure size 640x480 with 1 Axes>"
            ],
            "image/png": "[encoded data removed]"
          },
          "metadata": {}
        }
      ]
    },
    {
      "cell_type": "code",
      "source": [
        "Vars_Indep= filtro2[['review_scores_cleanliness']]\n",
        "Var_Dep= filtro2['review_scores_location']"
      ],
      "metadata": {
        "id": "XLx3BsNJQOZd"
      },
      "execution_count": 77,
      "outputs": []
    },
    {
      "cell_type": "code",
      "source": [
        "#Se define model como la función de regresión lineal\n",
        "from sklearn.linear_model import LinearRegression\n",
        "model= LinearRegression()"
      ],
      "metadata": {
        "id": "4PoUGYdsQOOQ"
      },
      "execution_count": 78,
      "outputs": []
    },
    {
      "cell_type": "code",
      "source": [
        "#Verificamos la función relacionada al modelo\n",
        "type(model)"
      ],
      "metadata": {
        "colab": {
          "base_uri": "https://localhost:8080/"
        },
        "id": "SnoKQWQzQOJC",
        "outputId": "ec86c006-1b08-4255-eece-fe1681cdf082"
      },
      "execution_count": 79,
      "outputs": [
        {
          "output_type": "execute_result",
          "data": {
            "text/plain": [
              "sklearn.linear_model._base.LinearRegression"
            ]
          },
          "metadata": {},
          "execution_count": 79
        }
      ]
    },
    {
      "cell_type": "code",
      "source": [
        "#Ajustamos el modelo con las variables antes declaradas\n",
        "model.fit(X=Vars_Indep, y=Var_Dep)"
      ],
      "metadata": {
        "colab": {
          "base_uri": "https://localhost:8080/",
          "height": 64
        },
        "id": "m4Y9jAfbQOD8",
        "outputId": "5d38a33c-af8c-4414-fc7c-9dc462cb6c73"
      },
      "execution_count": 80,
      "outputs": [
        {
          "output_type": "execute_result",
          "data": {
            "text/plain": [
              "LinearRegression()"
            ],
            "text/html": [
              "<style>#sk-container-id-8 {color: black;background-color: white;}#sk-container-id-8 pre{padding: 0;}#sk-container-id-8 div.sk-toggleable {background-color: white;}#sk-container-id-8 label.sk-toggleable__label {cursor: pointer;display: block;width: 100%;margin-bottom: 0;padding: 0.3em;box-sizing: border-box;text-align: center;}#sk-container-id-8 label.sk-toggleable__label-arrow:before {content: \"▸\";float: left;margin-right: 0.25em;color: #696969;}#sk-container-id-8 label.sk-toggleable__label-arrow:hover:before {color: black;}#sk-container-id-8 div.sk-estimator:hover label.sk-toggleable__label-arrow:before {color: black;}#sk-container-id-8 div.sk-toggleable__content {max-height: 0;max-width: 0;overflow: hidden;text-align: left;background-color: #f0f8ff;}#sk-container-id-8 div.sk-toggleable__content pre {margin: 0.2em;color: black;border-radius: 0.25em;background-color: #f0f8ff;}#sk-container-id-8 input.sk-toggleable__control:checked~div.sk-toggleable__content {max-height: 200px;max-width: 100%;overflow: auto;}#sk-container-id-8 input.sk-toggleable__control:checked~label.sk-toggleable__label-arrow:before {content: \"▾\";}#sk-container-id-8 div.sk-estimator input.sk-toggleable__control:checked~label.sk-toggleable__label {background-color: #d4ebff;}#sk-container-id-8 div.sk-label input.sk-toggleable__control:checked~label.sk-toggleable__label {background-color: #d4ebff;}#sk-container-id-8 input.sk-hidden--visually {border: 0;clip: rect(1px 1px 1px 1px);clip: rect(1px, 1px, 1px, 1px);height: 1px;margin: -1px;overflow: hidden;padding: 0;position: absolute;width: 1px;}#sk-container-id-8 div.sk-estimator {font-family: monospace;background-color: #f0f8ff;border: 1px dotted black;border-radius: 0.25em;box-sizing: border-box;margin-bottom: 0.5em;}#sk-container-id-8 div.sk-estimator:hover {background-color: #d4ebff;}#sk-container-id-8 div.sk-parallel-item::after {content: \"\";width: 100%;border-bottom: 1px solid gray;flex-grow: 1;}#sk-container-id-8 div.sk-label:hover label.sk-toggleable__label {background-color: #d4ebff;}#sk-container-id-8 div.sk-serial::before {content: \"\";position: absolute;border-left: 1px solid gray;box-sizing: border-box;top: 0;bottom: 0;left: 50%;z-index: 0;}#sk-container-id-8 div.sk-serial {display: flex;flex-direction: column;align-items: center;background-color: white;padding-right: 0.2em;padding-left: 0.2em;position: relative;}#sk-container-id-8 div.sk-item {position: relative;z-index: 1;}#sk-container-id-8 div.sk-parallel {display: flex;align-items: stretch;justify-content: center;background-color: white;position: relative;}#sk-container-id-8 div.sk-item::before, #sk-container-id-8 div.sk-parallel-item::before {content: \"\";position: absolute;border-left: 1px solid gray;box-sizing: border-box;top: 0;bottom: 0;left: 50%;z-index: -1;}#sk-container-id-8 div.sk-parallel-item {display: flex;flex-direction: column;z-index: 1;position: relative;background-color: white;}#sk-container-id-8 div.sk-parallel-item:first-child::after {align-self: flex-end;width: 50%;}#sk-container-id-8 div.sk-parallel-item:last-child::after {align-self: flex-start;width: 50%;}#sk-container-id-8 div.sk-parallel-item:only-child::after {width: 0;}#sk-container-id-8 div.sk-dashed-wrapped {border: 1px dashed gray;margin: 0 0.4em 0.5em 0.4em;box-sizing: border-box;padding-bottom: 0.4em;background-color: white;}#sk-container-id-8 div.sk-label label {font-family: monospace;font-weight: bold;display: inline-block;line-height: 1.2em;}#sk-container-id-8 div.sk-label-container {text-align: center;}#sk-container-id-8 div.sk-container {/* jupyter's `normalize.less` sets `[hidden] { display: none; }` but bootstrap.min.css set `[hidden] { display: none !important; }` so we also need the `!important` here to be able to override the default hidden behavior on the sphinx rendered scikit-learn.org. See: https://github.com/scikit-learn/scikit-learn/issues/21755 */display: inline-block !important;position: relative;}#sk-container-id-8 div.sk-text-repr-fallback {display: none;}</style><div id=\"sk-container-id-8\" class=\"sk-top-container\"><div class=\"sk-text-repr-fallback\"><pre>LinearRegression()</pre><b>In a Jupyter environment, please rerun this cell to show the HTML representation or trust the notebook. <br />On GitHub, the HTML representation is unable to render, please try loading this page with nbviewer.org.</b></div><div class=\"sk-container\" hidden><div class=\"sk-item\"><div class=\"sk-estimator sk-toggleable\"><input class=\"sk-toggleable__control sk-hidden--visually\" id=\"sk-estimator-id-8\" type=\"checkbox\" checked><label for=\"sk-estimator-id-8\" class=\"sk-toggleable__label sk-toggleable__label-arrow\">LinearRegression</label><div class=\"sk-toggleable__content\"><pre>LinearRegression()</pre></div></div></div></div></div>"
            ]
          },
          "metadata": {},
          "execution_count": 80
        }
      ]
    },
    {
      "cell_type": "code",
      "source": [
        "#Verificamos los coeficientes obtenidos para el modelo ajustado\n",
        "model.__dict__"
      ],
      "metadata": {
        "colab": {
          "base_uri": "https://localhost:8080/"
        },
        "id": "H8fbitGVQN-i",
        "outputId": "21208990-1bf0-4b44-dfc1-f4f865dba20a"
      },
      "execution_count": 81,
      "outputs": [
        {
          "output_type": "execute_result",
          "data": {
            "text/plain": [
              "{'fit_intercept': True,\n",
              " 'copy_X': True,\n",
              " 'n_jobs': None,\n",
              " 'positive': False,\n",
              " 'feature_names_in_': array(['review_scores_cleanliness'], dtype=object),\n",
              " 'n_features_in_': 1,\n",
              " 'coef_': array([0.3234047]),\n",
              " 'rank_': 1,\n",
              " 'singular_': array([21.94065656]),\n",
              " 'intercept_': 3.2520123203186584}"
            ]
          },
          "metadata": {},
          "execution_count": 81
        }
      ]
    },
    {
      "cell_type": "markdown",
      "source": [
        "Modelo matemático y= 0.3234047x + 3.2520123203186584"
      ],
      "metadata": {
        "id": "zLDyL4Y-S726"
      }
    },
    {
      "cell_type": "code",
      "source": [
        "#Evaluamos la eficiencia del modelo obtenido por medio del coeficiente R Determinación\n",
        "model.score(Vars_Indep,Var_Dep)"
      ],
      "metadata": {
        "colab": {
          "base_uri": "https://localhost:8080/"
        },
        "id": "37IyAiY3QN5P",
        "outputId": "2db2f0b8-58fc-4f6c-c2c9-a7402ed10ecf"
      },
      "execution_count": 82,
      "outputs": [
        {
          "output_type": "execute_result",
          "data": {
            "text/plain": [
              "0.10139448343468849"
            ]
          },
          "metadata": {},
          "execution_count": 82
        }
      ]
    },
    {
      "cell_type": "code",
      "source": [
        "#Predecimos los valores de total de accidentes a partir de la variable \"number_of_reviews\"\n",
        "y_pred= model.predict(X=filtro2[['review_scores_cleanliness']])\n",
        "y_pred"
      ],
      "metadata": {
        "colab": {
          "base_uri": "https://localhost:8080/"
        },
        "id": "bW2PmW4sQNzy",
        "outputId": "36b449d0-5976-4999-903e-cdec90caf830"
      },
      "execution_count": 83,
      "outputs": [
        {
          "output_type": "execute_result",
          "data": {
            "text/plain": [
              "array([4.84316345, 4.82699321, 4.86903582, ..., 4.80435488, 4.86903582,\n",
              "       4.80435488])"
            ]
          },
          "metadata": {},
          "execution_count": 83
        }
      ]
    },
    {
      "cell_type": "code",
      "source": [
        "#Corroboramos cual es el coeficiente de Determinación de nuestro modelo\n",
        "coef_Deter=model.score(X=Vars_Indep, y=Var_Dep)\n",
        "coef_Deter"
      ],
      "metadata": {
        "colab": {
          "base_uri": "https://localhost:8080/"
        },
        "id": "_m2327zaQNta",
        "outputId": "88d577e4-d485-4d3f-dc55-9d6a4c70e120"
      },
      "execution_count": 84,
      "outputs": [
        {
          "output_type": "execute_result",
          "data": {
            "text/plain": [
              "0.10139448343468849"
            ]
          },
          "metadata": {},
          "execution_count": 84
        }
      ]
    },
    {
      "cell_type": "code",
      "source": [
        "#Corroboramos cual es el coeficiente de Correlación de nuestro modelo\n",
        "coef_Correl=np.sqrt(coef_Deter)\n",
        "coef_Correl"
      ],
      "metadata": {
        "colab": {
          "base_uri": "https://localhost:8080/"
        },
        "id": "SQ1mwIY2QNni",
        "outputId": "ce96644b-700e-45e5-a2b6-2061fe64c8d0"
      },
      "execution_count": 85,
      "outputs": [
        {
          "output_type": "execute_result",
          "data": {
            "text/plain": [
              "0.31842500441185284"
            ]
          },
          "metadata": {},
          "execution_count": 85
        }
      ]
    },
    {
      "cell_type": "markdown",
      "source": [
        "# **availability_365 vs number_of_reviews**"
      ],
      "metadata": {
        "id": "6_tWeoBzT8Bz"
      }
    },
    {
      "cell_type": "markdown",
      "source": [
        "hotel room"
      ],
      "metadata": {
        "id": "FkA3r3KHVJmK"
      }
    },
    {
      "cell_type": "code",
      "source": [
        "#Imprimimos el scatter plot entre la variable dependiente (availability_365) e independiente (number_of_reviews) \n",
        "#para observar el comportamiento en su dispersión \n",
        "from turtle import color\n",
        "\n",
        "\n",
        "sns.scatterplot(x='number_of_reviews', y='availability_365', color=\"blue\", data=filtro1)"
      ],
      "metadata": {
        "colab": {
          "base_uri": "https://localhost:8080/",
          "height": 464
        },
        "id": "zBzp_qmeT_y8",
        "outputId": "dcc8b293-f65b-47ae-fa15-1584f8c7e129"
      },
      "execution_count": 86,
      "outputs": [
        {
          "output_type": "execute_result",
          "data": {
            "text/plain": [
              "<Axes: xlabel='number_of_reviews', ylabel='availability_365'>"
            ]
          },
          "metadata": {},
          "execution_count": 86
        },
        {
          "output_type": "display_data",
          "data": {
            "text/plain": [
              "<Figure size 640x480 with 1 Axes>"
            ],
            "image/png": "[encoded data removed]"
          },
          "metadata": {}
        }
      ]
    },
    {
      "cell_type": "code",
      "source": [
        "Vars_Indep= filtro1[['number_of_reviews']]\n",
        "Var_Dep= filtro1['availability_365']"
      ],
      "metadata": {
        "id": "IxLmC_9oVUkC"
      },
      "execution_count": 87,
      "outputs": []
    },
    {
      "cell_type": "code",
      "source": [
        "#Se define model como la función de regresión lineal\n",
        "from sklearn.linear_model import LinearRegression\n",
        "model= LinearRegression()"
      ],
      "metadata": {
        "id": "KxoLEGYjVUdQ"
      },
      "execution_count": 88,
      "outputs": []
    },
    {
      "cell_type": "code",
      "source": [
        "#Verificamos la función relacionada al modelo\n",
        "type(model)"
      ],
      "metadata": {
        "colab": {
          "base_uri": "https://localhost:8080/"
        },
        "id": "1qJmlUWPVUWy",
        "outputId": "352e65bc-7bea-4c7a-c5c0-8df8ab708c46"
      },
      "execution_count": 89,
      "outputs": [
        {
          "output_type": "execute_result",
          "data": {
            "text/plain": [
              "sklearn.linear_model._base.LinearRegression"
            ]
          },
          "metadata": {},
          "execution_count": 89
        }
      ]
    },
    {
      "cell_type": "code",
      "source": [
        "#Ajustamos el modelo con las variables antes declaradas\n",
        "model.fit(X=Vars_Indep, y=Var_Dep)"
      ],
      "metadata": {
        "colab": {
          "base_uri": "https://localhost:8080/",
          "height": 64
        },
        "id": "iKWLUu28VUQw",
        "outputId": "2937892c-bda0-4d1d-ecd3-3dbdfccca25a"
      },
      "execution_count": 90,
      "outputs": [
        {
          "output_type": "execute_result",
          "data": {
            "text/plain": [
              "LinearRegression()"
            ],
            "text/html": [
              "<style>#sk-container-id-9 {color: black;background-color: white;}#sk-container-id-9 pre{padding: 0;}#sk-container-id-9 div.sk-toggleable {background-color: white;}#sk-container-id-9 label.sk-toggleable__label {cursor: pointer;display: block;width: 100%;margin-bottom: 0;padding: 0.3em;box-sizing: border-box;text-align: center;}#sk-container-id-9 label.sk-toggleable__label-arrow:before {content: \"▸\";float: left;margin-right: 0.25em;color: #696969;}#sk-container-id-9 label.sk-toggleable__label-arrow:hover:before {color: black;}#sk-container-id-9 div.sk-estimator:hover label.sk-toggleable__label-arrow:before {color: black;}#sk-container-id-9 div.sk-toggleable__content {max-height: 0;max-width: 0;overflow: hidden;text-align: left;background-color: #f0f8ff;}#sk-container-id-9 div.sk-toggleable__content pre {margin: 0.2em;color: black;border-radius: 0.25em;background-color: #f0f8ff;}#sk-container-id-9 input.sk-toggleable__control:checked~div.sk-toggleable__content {max-height: 200px;max-width: 100%;overflow: auto;}#sk-container-id-9 input.sk-toggleable__control:checked~label.sk-toggleable__label-arrow:before {content: \"▾\";}#sk-container-id-9 div.sk-estimator input.sk-toggleable__control:checked~label.sk-toggleable__label {background-color: #d4ebff;}#sk-container-id-9 div.sk-label input.sk-toggleable__control:checked~label.sk-toggleable__label {background-color: #d4ebff;}#sk-container-id-9 input.sk-hidden--visually {border: 0;clip: rect(1px 1px 1px 1px);clip: rect(1px, 1px, 1px, 1px);height: 1px;margin: -1px;overflow: hidden;padding: 0;position: absolute;width: 1px;}#sk-container-id-9 div.sk-estimator {font-family: monospace;background-color: #f0f8ff;border: 1px dotted black;border-radius: 0.25em;box-sizing: border-box;margin-bottom: 0.5em;}#sk-container-id-9 div.sk-estimator:hover {background-color: #d4ebff;}#sk-container-id-9 div.sk-parallel-item::after {content: \"\";width: 100%;border-bottom: 1px solid gray;flex-grow: 1;}#sk-container-id-9 div.sk-label:hover label.sk-toggleable__label {background-color: #d4ebff;}#sk-container-id-9 div.sk-serial::before {content: \"\";position: absolute;border-left: 1px solid gray;box-sizing: border-box;top: 0;bottom: 0;left: 50%;z-index: 0;}#sk-container-id-9 div.sk-serial {display: flex;flex-direction: column;align-items: center;background-color: white;padding-right: 0.2em;padding-left: 0.2em;position: relative;}#sk-container-id-9 div.sk-item {position: relative;z-index: 1;}#sk-container-id-9 div.sk-parallel {display: flex;align-items: stretch;justify-content: center;background-color: white;position: relative;}#sk-container-id-9 div.sk-item::before, #sk-container-id-9 div.sk-parallel-item::before {content: \"\";position: absolute;border-left: 1px solid gray;box-sizing: border-box;top: 0;bottom: 0;left: 50%;z-index: -1;}#sk-container-id-9 div.sk-parallel-item {display: flex;flex-direction: column;z-index: 1;position: relative;background-color: white;}#sk-container-id-9 div.sk-parallel-item:first-child::after {align-self: flex-end;width: 50%;}#sk-container-id-9 div.sk-parallel-item:last-child::after {align-self: flex-start;width: 50%;}#sk-container-id-9 div.sk-parallel-item:only-child::after {width: 0;}#sk-container-id-9 div.sk-dashed-wrapped {border: 1px dashed gray;margin: 0 0.4em 0.5em 0.4em;box-sizing: border-box;padding-bottom: 0.4em;background-color: white;}#sk-container-id-9 div.sk-label label {font-family: monospace;font-weight: bold;display: inline-block;line-height: 1.2em;}#sk-container-id-9 div.sk-label-container {text-align: center;}#sk-container-id-9 div.sk-container {/* jupyter's `normalize.less` sets `[hidden] { display: none; }` but bootstrap.min.css set `[hidden] { display: none !important; }` so we also need the `!important` here to be able to override the default hidden behavior on the sphinx rendered scikit-learn.org. See: https://github.com/scikit-learn/scikit-learn/issues/21755 */display: inline-block !important;position: relative;}#sk-container-id-9 div.sk-text-repr-fallback {display: none;}</style><div id=\"sk-container-id-9\" class=\"sk-top-container\"><div class=\"sk-text-repr-fallback\"><pre>LinearRegression()</pre><b>In a Jupyter environment, please rerun this cell to show the HTML representation or trust the notebook. <br />On GitHub, the HTML representation is unable to render, please try loading this page with nbviewer.org.</b></div><div class=\"sk-container\" hidden><div class=\"sk-item\"><div class=\"sk-estimator sk-toggleable\"><input class=\"sk-toggleable__control sk-hidden--visually\" id=\"sk-estimator-id-9\" type=\"checkbox\" checked><label for=\"sk-estimator-id-9\" class=\"sk-toggleable__label sk-toggleable__label-arrow\">LinearRegression</label><div class=\"sk-toggleable__content\"><pre>LinearRegression()</pre></div></div></div></div></div>"
            ]
          },
          "metadata": {},
          "execution_count": 90
        }
      ]
    },
    {
      "cell_type": "code",
      "source": [
        "#Verificamos los coeficientes obtenidos para el modelo ajustado\n",
        "model.__dict__"
      ],
      "metadata": {
        "colab": {
          "base_uri": "https://localhost:8080/"
        },
        "id": "NWs2H3cmVUKU",
        "outputId": "d110e851-0cbf-4fd2-cbd5-13955bdb2b8a"
      },
      "execution_count": 91,
      "outputs": [
        {
          "output_type": "execute_result",
          "data": {
            "text/plain": [
              "{'fit_intercept': True,\n",
              " 'copy_X': True,\n",
              " 'n_jobs': None,\n",
              " 'positive': False,\n",
              " 'feature_names_in_': array(['number_of_reviews'], dtype=object),\n",
              " 'n_features_in_': 1,\n",
              " 'coef_': array([0.10665693]),\n",
              " 'rank_': 1,\n",
              " 'singular_': array([975.14251424]),\n",
              " 'intercept_': 167.77747368533454}"
            ]
          },
          "metadata": {},
          "execution_count": 91
        }
      ]
    },
    {
      "cell_type": "markdown",
      "source": [
        "Modelo matemático y= 0.10665693x + 167.77747368533454"
      ],
      "metadata": {
        "id": "OxsXxVrCV3jI"
      }
    },
    {
      "cell_type": "code",
      "source": [
        "#Evaluamos la eficiencia del modelo obtenido por medio del coeficiente R Determinación\n",
        "model.score(Vars_Indep,Var_Dep)"
      ],
      "metadata": {
        "colab": {
          "base_uri": "https://localhost:8080/"
        },
        "id": "_qEDtzMaVUEh",
        "outputId": "22b75304-2e79-4ad9-f940-a3bf38dd7fcb"
      },
      "execution_count": 92,
      "outputs": [
        {
          "output_type": "execute_result",
          "data": {
            "text/plain": [
              "0.01122457035412916"
            ]
          },
          "metadata": {},
          "execution_count": 92
        }
      ]
    },
    {
      "cell_type": "code",
      "source": [
        "#Predecimos los valores de total de accidentes a partir de la variable \"number_of_reviews\"\n",
        "y_pred= model.predict(X=filtro1[['number_of_reviews']])\n",
        "y_pred"
      ],
      "metadata": {
        "colab": {
          "base_uri": "https://localhost:8080/"
        },
        "id": "tdeSmeK8VT9_",
        "outputId": "941f4c1f-8865-4733-e451-4343d0480ccb"
      },
      "execution_count": 93,
      "outputs": [
        {
          "output_type": "execute_result",
          "data": {
            "text/plain": [
              "array([205.5340262 , 195.82824575, 171.40380924, 169.69729839,\n",
              "       168.63072911, 168.09744447, 171.29715231, 170.01726917,\n",
              "       169.80395532, 170.55055381, 170.23058303, 170.76386767,\n",
              "       169.48398453, 168.2041014 , 169.80395532, 175.13680172,\n",
              "       173.64360473, 167.99078754, 167.77747369, 167.88413061,\n",
              "       167.88413061, 167.77747369, 168.41741525, 168.09744447,\n",
              "       170.65721074, 168.2041014 , 167.88413061, 168.2041014 ,\n",
              "       167.88413061, 174.92348786, 167.99078754, 177.58991106,\n",
              "       178.33650956, 172.04375081, 170.1239261 , 182.06950204,\n",
              "       168.63072911, 171.72378002, 168.84404297, 178.22985263,\n",
              "       263.7687089 , 182.60278668, 169.27067068, 177.48325413,\n",
              "       181.32290354, 167.99078754, 167.99078754, 167.88413061,\n",
              "       167.99078754, 167.77747369, 167.77747369, 168.84404297])"
            ]
          },
          "metadata": {},
          "execution_count": 93
        }
      ]
    },
    {
      "cell_type": "code",
      "source": [
        "#Corroboramos cual es el coeficiente de Determinación de nuestro modelo\n",
        "coef_Deter=model.score(X=Vars_Indep, y=Var_Dep)\n",
        "coef_Deter"
      ],
      "metadata": {
        "colab": {
          "base_uri": "https://localhost:8080/"
        },
        "id": "GhBX-l_WVxMB",
        "outputId": "b75c7520-2fcc-4f07-9b3e-6c7e42c30d3c"
      },
      "execution_count": 94,
      "outputs": [
        {
          "output_type": "execute_result",
          "data": {
            "text/plain": [
              "0.01122457035412916"
            ]
          },
          "metadata": {},
          "execution_count": 94
        }
      ]
    },
    {
      "cell_type": "code",
      "source": [
        "#Corroboramos cual es el coeficiente de Correlación de nuestro modelo\n",
        "coef_Correl=np.sqrt(coef_Deter)\n",
        "coef_Correl"
      ],
      "metadata": {
        "colab": {
          "base_uri": "https://localhost:8080/"
        },
        "id": "6I7eWS06VT4C",
        "outputId": "e4adc429-bf18-46f5-d314-1fb135ced3e7"
      },
      "execution_count": 95,
      "outputs": [
        {
          "output_type": "execute_result",
          "data": {
            "text/plain": [
              "0.10594607285845549"
            ]
          },
          "metadata": {},
          "execution_count": 95
        }
      ]
    },
    {
      "cell_type": "markdown",
      "source": [
        "Entire home/apt"
      ],
      "metadata": {
        "id": "wO3J1-KHV41T"
      }
    },
    {
      "cell_type": "code",
      "source": [
        "#Imprimimos el scatter plot entre la variable dependiente (availability_365) e independiente (number_of_reviews) \n",
        "#para observar el comportamiento en su dispersión \n",
        "from turtle import color\n",
        "\n",
        "\n",
        "sns.scatterplot(x='number_of_reviews', y='availability_365', color=\"blue\", data=filtro2)"
      ],
      "metadata": {
        "colab": {
          "base_uri": "https://localhost:8080/",
          "height": 464
        },
        "id": "YumJ_rWsVTv3",
        "outputId": "33654754-c7de-45b3-de4b-5d0ad86f7332"
      },
      "execution_count": 96,
      "outputs": [
        {
          "output_type": "execute_result",
          "data": {
            "text/plain": [
              "<Axes: xlabel='number_of_reviews', ylabel='availability_365'>"
            ]
          },
          "metadata": {},
          "execution_count": 96
        },
        {
          "output_type": "display_data",
          "data": {
            "text/plain": [
              "<Figure size 640x480 with 1 Axes>"
            ],
            "image/png": "[encoded data removed]"
          },
          "metadata": {}
        }
      ]
    },
    {
      "cell_type": "code",
      "source": [
        "Vars_Indep= filtro2[['number_of_reviews']]\n",
        "Var_Dep= filtro2['availability_365']"
      ],
      "metadata": {
        "id": "_h5wtx-0XoYD"
      },
      "execution_count": 97,
      "outputs": []
    },
    {
      "cell_type": "code",
      "source": [
        "#Se define model como la función de regresión lineal\n",
        "from sklearn.linear_model import LinearRegression\n",
        "model= LinearRegression()"
      ],
      "metadata": {
        "id": "HerwLtS3Xp3Z"
      },
      "execution_count": 98,
      "outputs": []
    },
    {
      "cell_type": "code",
      "source": [
        "#Verificamos la función relacionada al modelo\n",
        "type(model)"
      ],
      "metadata": {
        "colab": {
          "base_uri": "https://localhost:8080/"
        },
        "id": "gEMlOqMqXpxM",
        "outputId": "c5861952-a99c-4a0b-df06-b29cb36c85d7"
      },
      "execution_count": 99,
      "outputs": [
        {
          "output_type": "execute_result",
          "data": {
            "text/plain": [
              "sklearn.linear_model._base.LinearRegression"
            ]
          },
          "metadata": {},
          "execution_count": 99
        }
      ]
    },
    {
      "cell_type": "code",
      "source": [
        "#Ajustamos el modelo con las variables antes declaradas\n",
        "model.fit(X=Vars_Indep, y=Var_Dep)"
      ],
      "metadata": {
        "colab": {
          "base_uri": "https://localhost:8080/",
          "height": 64
        },
        "id": "jR8i2LmbXpq9",
        "outputId": "ca28c554-383e-4874-c212-d9e7420fb0be"
      },
      "execution_count": 100,
      "outputs": [
        {
          "output_type": "execute_result",
          "data": {
            "text/plain": [
              "LinearRegression()"
            ],
            "text/html": [
              "<style>#sk-container-id-10 {color: black;background-color: white;}#sk-container-id-10 pre{padding: 0;}#sk-container-id-10 div.sk-toggleable {background-color: white;}#sk-container-id-10 label.sk-toggleable__label {cursor: pointer;display: block;width: 100%;margin-bottom: 0;padding: 0.3em;box-sizing: border-box;text-align: center;}#sk-container-id-10 label.sk-toggleable__label-arrow:before {content: \"▸\";float: left;margin-right: 0.25em;color: #696969;}#sk-container-id-10 label.sk-toggleable__label-arrow:hover:before {color: black;}#sk-container-id-10 div.sk-estimator:hover label.sk-toggleable__label-arrow:before {color: black;}#sk-container-id-10 div.sk-toggleable__content {max-height: 0;max-width: 0;overflow: hidden;text-align: left;background-color: #f0f8ff;}#sk-container-id-10 div.sk-toggleable__content pre {margin: 0.2em;color: black;border-radius: 0.25em;background-color: #f0f8ff;}#sk-container-id-10 input.sk-toggleable__control:checked~div.sk-toggleable__content {max-height: 200px;max-width: 100%;overflow: auto;}#sk-container-id-10 input.sk-toggleable__control:checked~label.sk-toggleable__label-arrow:before {content: \"▾\";}#sk-container-id-10 div.sk-estimator input.sk-toggleable__control:checked~label.sk-toggleable__label {background-color: #d4ebff;}#sk-container-id-10 div.sk-label input.sk-toggleable__control:checked~label.sk-toggleable__label {background-color: #d4ebff;}#sk-container-id-10 input.sk-hidden--visually {border: 0;clip: rect(1px 1px 1px 1px);clip: rect(1px, 1px, 1px, 1px);height: 1px;margin: -1px;overflow: hidden;padding: 0;position: absolute;width: 1px;}#sk-container-id-10 div.sk-estimator {font-family: monospace;background-color: #f0f8ff;border: 1px dotted black;border-radius: 0.25em;box-sizing: border-box;margin-bottom: 0.5em;}#sk-container-id-10 div.sk-estimator:hover {background-color: #d4ebff;}#sk-container-id-10 div.sk-parallel-item::after {content: \"\";width: 100%;border-bottom: 1px solid gray;flex-grow: 1;}#sk-container-id-10 div.sk-label:hover label.sk-toggleable__label {background-color: #d4ebff;}#sk-container-id-10 div.sk-serial::before {content: \"\";position: absolute;border-left: 1px solid gray;box-sizing: border-box;top: 0;bottom: 0;left: 50%;z-index: 0;}#sk-container-id-10 div.sk-serial {display: flex;flex-direction: column;align-items: center;background-color: white;padding-right: 0.2em;padding-left: 0.2em;position: relative;}#sk-container-id-10 div.sk-item {position: relative;z-index: 1;}#sk-container-id-10 div.sk-parallel {display: flex;align-items: stretch;justify-content: center;background-color: white;position: relative;}#sk-container-id-10 div.sk-item::before, #sk-container-id-10 div.sk-parallel-item::before {content: \"\";position: absolute;border-left: 1px solid gray;box-sizing: border-box;top: 0;bottom: 0;left: 50%;z-index: -1;}#sk-container-id-10 div.sk-parallel-item {display: flex;flex-direction: column;z-index: 1;position: relative;background-color: white;}#sk-container-id-10 div.sk-parallel-item:first-child::after {align-self: flex-end;width: 50%;}#sk-container-id-10 div.sk-parallel-item:last-child::after {align-self: flex-start;width: 50%;}#sk-container-id-10 div.sk-parallel-item:only-child::after {width: 0;}#sk-container-id-10 div.sk-dashed-wrapped {border: 1px dashed gray;margin: 0 0.4em 0.5em 0.4em;box-sizing: border-box;padding-bottom: 0.4em;background-color: white;}#sk-container-id-10 div.sk-label label {font-family: monospace;font-weight: bold;display: inline-block;line-height: 1.2em;}#sk-container-id-10 div.sk-label-container {text-align: center;}#sk-container-id-10 div.sk-container {/* jupyter's `normalize.less` sets `[hidden] { display: none; }` but bootstrap.min.css set `[hidden] { display: none !important; }` so we also need the `!important` here to be able to override the default hidden behavior on the sphinx rendered scikit-learn.org. See: https://github.com/scikit-learn/scikit-learn/issues/21755 */display: inline-block !important;position: relative;}#sk-container-id-10 div.sk-text-repr-fallback {display: none;}</style><div id=\"sk-container-id-10\" class=\"sk-top-container\"><div class=\"sk-text-repr-fallback\"><pre>LinearRegression()</pre><b>In a Jupyter environment, please rerun this cell to show the HTML representation or trust the notebook. <br />On GitHub, the HTML representation is unable to render, please try loading this page with nbviewer.org.</b></div><div class=\"sk-container\" hidden><div class=\"sk-item\"><div class=\"sk-estimator sk-toggleable\"><input class=\"sk-toggleable__control sk-hidden--visually\" id=\"sk-estimator-id-10\" type=\"checkbox\" checked><label for=\"sk-estimator-id-10\" class=\"sk-toggleable__label sk-toggleable__label-arrow\">LinearRegression</label><div class=\"sk-toggleable__content\"><pre>LinearRegression()</pre></div></div></div></div></div>"
            ]
          },
          "metadata": {},
          "execution_count": 100
        }
      ]
    },
    {
      "cell_type": "code",
      "source": [
        "#Verificamos los coeficientes obtenidos para el modelo ajustado\n",
        "model.__dict__"
      ],
      "metadata": {
        "colab": {
          "base_uri": "https://localhost:8080/"
        },
        "id": "v6wbQx_eXpk5",
        "outputId": "ec47aaa3-64b2-489a-a8cc-97d64dfe2417"
      },
      "execution_count": 101,
      "outputs": [
        {
          "output_type": "execute_result",
          "data": {
            "text/plain": [
              "{'fit_intercept': True,\n",
              " 'copy_X': True,\n",
              " 'n_jobs': None,\n",
              " 'positive': False,\n",
              " 'feature_names_in_': array(['number_of_reviews'], dtype=object),\n",
              " 'n_features_in_': 1,\n",
              " 'coef_': array([-0.13598232]),\n",
              " 'rank_': 1,\n",
              " 'singular_': array([5963.17730053]),\n",
              " 'intercept_': 171.7788273097436}"
            ]
          },
          "metadata": {},
          "execution_count": 101
        }
      ]
    },
    {
      "cell_type": "markdown",
      "source": [
        "Modelo matemático y= -0.13598232x + 171.7788273097436"
      ],
      "metadata": {
        "id": "xfNz2R_VX09M"
      }
    },
    {
      "cell_type": "code",
      "source": [
        "#Evaluamos la eficiencia del modelo obtenido por medio del coeficiente R Determinación\n",
        "model.score(Vars_Indep,Var_Dep)"
      ],
      "metadata": {
        "colab": {
          "base_uri": "https://localhost:8080/"
        },
        "id": "1iEPSZDxXpfs",
        "outputId": "9c9bcf9c-baee-488b-f569-07b706ee5161"
      },
      "execution_count": 102,
      "outputs": [
        {
          "output_type": "execute_result",
          "data": {
            "text/plain": [
              "0.009459283016082787"
            ]
          },
          "metadata": {},
          "execution_count": 102
        }
      ]
    },
    {
      "cell_type": "code",
      "source": [
        "#Predecimos los valores de total de accidentes a partir de la variable \"number_of_reviews\"\n",
        "y_pred= model.predict(X=filtro2[['number_of_reviews']])\n",
        "y_pred"
      ],
      "metadata": {
        "colab": {
          "base_uri": "https://localhost:8080/"
        },
        "id": "lJwaaWTJXpaA",
        "outputId": "f002a2b0-61de-46ad-911a-cb4cebb8c949"
      },
      "execution_count": 103,
      "outputs": [
        {
          "output_type": "execute_result",
          "data": {
            "text/plain": [
              "array([119.69759853, 156.68478972, 167.97132233, ..., 171.77882731,\n",
              "       171.64284499, 171.77882731])"
            ]
          },
          "metadata": {},
          "execution_count": 103
        }
      ]
    },
    {
      "cell_type": "code",
      "source": [
        "#Corroboramos cual es el coeficiente de Determinación de nuestro modelo\n",
        "coef_Deter=model.score(X=Vars_Indep, y=Var_Dep)\n",
        "coef_Deter"
      ],
      "metadata": {
        "colab": {
          "base_uri": "https://localhost:8080/"
        },
        "id": "BvIprVZ7XpUB",
        "outputId": "9efd80de-2407-4fc5-ae97-7c15ecd765b8"
      },
      "execution_count": 104,
      "outputs": [
        {
          "output_type": "execute_result",
          "data": {
            "text/plain": [
              "0.009459283016082787"
            ]
          },
          "metadata": {},
          "execution_count": 104
        }
      ]
    },
    {
      "cell_type": "code",
      "source": [
        "#Corroboramos cual es el coeficiente de Correlación de nuestro modelo\n",
        "coef_Correl=np.sqrt(coef_Deter)\n",
        "coef_Correl"
      ],
      "metadata": {
        "colab": {
          "base_uri": "https://localhost:8080/"
        },
        "id": "km3W43f-X8vj",
        "outputId": "e98c96ea-6d06-479c-bfe5-b917959d8476"
      },
      "execution_count": 105,
      "outputs": [
        {
          "output_type": "execute_result",
          "data": {
            "text/plain": [
              "0.09725884543877121"
            ]
          },
          "metadata": {},
          "execution_count": 105
        }
      ]
    },
    {
      "cell_type": "markdown",
      "source": [
        "# **reviews_per_month vs review_scores_communication**"
      ],
      "metadata": {
        "id": "Mm1vgflBX_zw"
      }
    },
    {
      "cell_type": "markdown",
      "source": [
        "hotel room"
      ],
      "metadata": {
        "id": "zLctOnDKYELM"
      }
    },
    {
      "cell_type": "code",
      "source": [
        "#Imprimimos el scatter plot entre la variable dependiente (reviews_per_month) e independiente (review_scores_communication) \n",
        "#para observar el comportamiento en su dispersión \n",
        "from turtle import color\n",
        "\n",
        "\n",
        "sns.scatterplot(x='review_scores_cleanliness', y='reviews_per_month', color=\"blue\", data=filtro1)"
      ],
      "metadata": {
        "colab": {
          "base_uri": "https://localhost:8080/",
          "height": 464
        },
        "id": "AwgoIsTQYDqh",
        "outputId": "ade622a7-9261-408d-8f65-b498d3edbeb7"
      },
      "execution_count": 106,
      "outputs": [
        {
          "output_type": "execute_result",
          "data": {
            "text/plain": [
              "<Axes: xlabel='review_scores_cleanliness', ylabel='reviews_per_month'>"
            ]
          },
          "metadata": {},
          "execution_count": 106
        },
        {
          "output_type": "display_data",
          "data": {
            "text/plain": [
              "<Figure size 640x480 with 1 Axes>"
            ],
            "image/png": "[encoded data removed]"
          },
          "metadata": {}
        }
      ]
    },
    {
      "cell_type": "code",
      "source": [
        "Vars_Indep= filtro2[['review_scores_communication']]\n",
        "Var_Dep= filtro2['reviews_per_month']"
      ],
      "metadata": {
        "id": "V5KgGGowYF-M"
      },
      "execution_count": 107,
      "outputs": []
    },
    {
      "cell_type": "code",
      "source": [
        "#Se define model como la función de regresión lineal\n",
        "from sklearn.linear_model import LinearRegression\n",
        "model= LinearRegression()"
      ],
      "metadata": {
        "id": "QJKR3_geYFzJ"
      },
      "execution_count": 108,
      "outputs": []
    },
    {
      "cell_type": "code",
      "source": [
        "#Verificamos la función relacionada al modelo\n",
        "type(model)"
      ],
      "metadata": {
        "colab": {
          "base_uri": "https://localhost:8080/"
        },
        "id": "r6dRkgZ2YFoc",
        "outputId": "378a2d35-ec31-4894-a15b-10ddeaf49115"
      },
      "execution_count": 109,
      "outputs": [
        {
          "output_type": "execute_result",
          "data": {
            "text/plain": [
              "sklearn.linear_model._base.LinearRegression"
            ]
          },
          "metadata": {},
          "execution_count": 109
        }
      ]
    },
    {
      "cell_type": "code",
      "source": [
        "#Ajustamos el modelo con las variables antes declaradas\n",
        "model.fit(X=Vars_Indep, y=Var_Dep)"
      ],
      "metadata": {
        "colab": {
          "base_uri": "https://localhost:8080/",
          "height": 64
        },
        "id": "E0tRiE1SYFc7",
        "outputId": "b9b5e391-683f-4a24-a619-39dd35e28229"
      },
      "execution_count": 110,
      "outputs": [
        {
          "output_type": "execute_result",
          "data": {
            "text/plain": [
              "LinearRegression()"
            ],
            "text/html": [
              "<style>#sk-container-id-11 {color: black;background-color: white;}#sk-container-id-11 pre{padding: 0;}#sk-container-id-11 div.sk-toggleable {background-color: white;}#sk-container-id-11 label.sk-toggleable__label {cursor: pointer;display: block;width: 100%;margin-bottom: 0;padding: 0.3em;box-sizing: border-box;text-align: center;}#sk-container-id-11 label.sk-toggleable__label-arrow:before {content: \"▸\";float: left;margin-right: 0.25em;color: #696969;}#sk-container-id-11 label.sk-toggleable__label-arrow:hover:before {color: black;}#sk-container-id-11 div.sk-estimator:hover label.sk-toggleable__label-arrow:before {color: black;}#sk-container-id-11 div.sk-toggleable__content {max-height: 0;max-width: 0;overflow: hidden;text-align: left;background-color: #f0f8ff;}#sk-container-id-11 div.sk-toggleable__content pre {margin: 0.2em;color: black;border-radius: 0.25em;background-color: #f0f8ff;}#sk-container-id-11 input.sk-toggleable__control:checked~div.sk-toggleable__content {max-height: 200px;max-width: 100%;overflow: auto;}#sk-container-id-11 input.sk-toggleable__control:checked~label.sk-toggleable__label-arrow:before {content: \"▾\";}#sk-container-id-11 div.sk-estimator input.sk-toggleable__control:checked~label.sk-toggleable__label {background-color: #d4ebff;}#sk-container-id-11 div.sk-label input.sk-toggleable__control:checked~label.sk-toggleable__label {background-color: #d4ebff;}#sk-container-id-11 input.sk-hidden--visually {border: 0;clip: rect(1px 1px 1px 1px);clip: rect(1px, 1px, 1px, 1px);height: 1px;margin: -1px;overflow: hidden;padding: 0;position: absolute;width: 1px;}#sk-container-id-11 div.sk-estimator {font-family: monospace;background-color: #f0f8ff;border: 1px dotted black;border-radius: 0.25em;box-sizing: border-box;margin-bottom: 0.5em;}#sk-container-id-11 div.sk-estimator:hover {background-color: #d4ebff;}#sk-container-id-11 div.sk-parallel-item::after {content: \"\";width: 100%;border-bottom: 1px solid gray;flex-grow: 1;}#sk-container-id-11 div.sk-label:hover label.sk-toggleable__label {background-color: #d4ebff;}#sk-container-id-11 div.sk-serial::before {content: \"\";position: absolute;border-left: 1px solid gray;box-sizing: border-box;top: 0;bottom: 0;left: 50%;z-index: 0;}#sk-container-id-11 div.sk-serial {display: flex;flex-direction: column;align-items: center;background-color: white;padding-right: 0.2em;padding-left: 0.2em;position: relative;}#sk-container-id-11 div.sk-item {position: relative;z-index: 1;}#sk-container-id-11 div.sk-parallel {display: flex;align-items: stretch;justify-content: center;background-color: white;position: relative;}#sk-container-id-11 div.sk-item::before, #sk-container-id-11 div.sk-parallel-item::before {content: \"\";position: absolute;border-left: 1px solid gray;box-sizing: border-box;top: 0;bottom: 0;left: 50%;z-index: -1;}#sk-container-id-11 div.sk-parallel-item {display: flex;flex-direction: column;z-index: 1;position: relative;background-color: white;}#sk-container-id-11 div.sk-parallel-item:first-child::after {align-self: flex-end;width: 50%;}#sk-container-id-11 div.sk-parallel-item:last-child::after {align-self: flex-start;width: 50%;}#sk-container-id-11 div.sk-parallel-item:only-child::after {width: 0;}#sk-container-id-11 div.sk-dashed-wrapped {border: 1px dashed gray;margin: 0 0.4em 0.5em 0.4em;box-sizing: border-box;padding-bottom: 0.4em;background-color: white;}#sk-container-id-11 div.sk-label label {font-family: monospace;font-weight: bold;display: inline-block;line-height: 1.2em;}#sk-container-id-11 div.sk-label-container {text-align: center;}#sk-container-id-11 div.sk-container {/* jupyter's `normalize.less` sets `[hidden] { display: none; }` but bootstrap.min.css set `[hidden] { display: none !important; }` so we also need the `!important` here to be able to override the default hidden behavior on the sphinx rendered scikit-learn.org. See: https://github.com/scikit-learn/scikit-learn/issues/21755 */display: inline-block !important;position: relative;}#sk-container-id-11 div.sk-text-repr-fallback {display: none;}</style><div id=\"sk-container-id-11\" class=\"sk-top-container\"><div class=\"sk-text-repr-fallback\"><pre>LinearRegression()</pre><b>In a Jupyter environment, please rerun this cell to show the HTML representation or trust the notebook. <br />On GitHub, the HTML representation is unable to render, please try loading this page with nbviewer.org.</b></div><div class=\"sk-container\" hidden><div class=\"sk-item\"><div class=\"sk-estimator sk-toggleable\"><input class=\"sk-toggleable__control sk-hidden--visually\" id=\"sk-estimator-id-11\" type=\"checkbox\" checked><label for=\"sk-estimator-id-11\" class=\"sk-toggleable__label sk-toggleable__label-arrow\">LinearRegression</label><div class=\"sk-toggleable__content\"><pre>LinearRegression()</pre></div></div></div></div></div>"
            ]
          },
          "metadata": {},
          "execution_count": 110
        }
      ]
    },
    {
      "cell_type": "code",
      "source": [
        "#Verificamos los coeficientes obtenidos para el modelo ajustado\n",
        "model.__dict__"
      ],
      "metadata": {
        "colab": {
          "base_uri": "https://localhost:8080/"
        },
        "id": "dWaUwFUCYFWr",
        "outputId": "e67502c1-8b85-4a3c-c47a-3cff785fbb5b"
      },
      "execution_count": 111,
      "outputs": [
        {
          "output_type": "execute_result",
          "data": {
            "text/plain": [
              "{'fit_intercept': True,\n",
              " 'copy_X': True,\n",
              " 'n_jobs': None,\n",
              " 'positive': False,\n",
              " 'feature_names_in_': array(['review_scores_communication'], dtype=object),\n",
              " 'n_features_in_': 1,\n",
              " 'coef_': array([0.55689264]),\n",
              " 'rank_': 1,\n",
              " 'singular_': array([20.03799278]),\n",
              " 'intercept_': -1.4832788258780762}"
            ]
          },
          "metadata": {},
          "execution_count": 111
        }
      ]
    },
    {
      "cell_type": "markdown",
      "source": [
        "Modelo matemático y= 0.55689264x + -1.4832788258780762"
      ],
      "metadata": {
        "id": "5gcyHpC5YikM"
      }
    },
    {
      "cell_type": "code",
      "source": [
        "#Evaluamos la eficiencia del modelo obtenido por medio del coeficiente R Determinación\n",
        "model.score(Vars_Indep,Var_Dep)"
      ],
      "metadata": {
        "colab": {
          "base_uri": "https://localhost:8080/"
        },
        "id": "XZ3wOCkrYFQu",
        "outputId": "dcdd35ba-dfaf-45d7-bc53-f246987a551c"
      },
      "execution_count": 112,
      "outputs": [
        {
          "output_type": "execute_result",
          "data": {
            "text/plain": [
              "0.011944222106396452"
            ]
          },
          "metadata": {},
          "execution_count": 112
        }
      ]
    },
    {
      "cell_type": "code",
      "source": [
        "#Predecimos los valores de total de accidentes a partir de la variable \"review_scores_communication\"\n",
        "y_pred= model.predict(X=filtro1[['review_scores_communication']])\n",
        "y_pred"
      ],
      "metadata": {
        "colab": {
          "base_uri": "https://localhost:8080/"
        },
        "id": "X5O_IgZcYFKB",
        "outputId": "152c7ec4-f3a9-4016-fe10-c2278f47c338"
      },
      "execution_count": 113,
      "outputs": [
        {
          "output_type": "execute_result",
          "data": {
            "text/plain": [
              "array([ 1.20094372,  1.15082338,  1.28447762,  1.07285841,  1.02273807,\n",
              "        1.3011844 ,  1.11740982,  1.08956519,  1.00603129,  1.23435728,\n",
              "        1.08399626,  1.00046237,  1.19537479,  1.16196124,  1.06728949,\n",
              "        1.22321943,  1.10627197,  1.3011844 ,  1.24549513,  1.3011844 ,\n",
              "        0.18739911,  1.24549513,  1.3011844 ,  0.92806632,  1.15639231,\n",
              "        1.16196124,  1.3011844 ,  1.3011844 , -0.92638618,  1.1341166 ,\n",
              "        1.3011844 ,  1.16753016,  1.17866801,  1.16196124,  1.12297875,\n",
              "        1.19537479,  1.16196124,  1.17866801,  0.96704881,  1.14525446,\n",
              "        1.09513412,  1.06728949,  1.18423694,  1.15082338,  1.16196124,\n",
              "        1.3011844 ,  1.3011844 ,  1.3011844 ,  1.3011844 ,  1.24549513,\n",
              "        1.24549513,  0.96704881])"
            ]
          },
          "metadata": {},
          "execution_count": 113
        }
      ]
    },
    {
      "cell_type": "code",
      "source": [
        "#Corroboramos cual es el coeficiente de Determinación de nuestro modelo\n",
        "coef_Deter=model.score(X=Vars_Indep, y=Var_Dep)\n",
        "coef_Deter"
      ],
      "metadata": {
        "colab": {
          "base_uri": "https://localhost:8080/"
        },
        "id": "9kJeYA54YFCm",
        "outputId": "c76843ba-c136-4c60-af3d-863987abee05"
      },
      "execution_count": 114,
      "outputs": [
        {
          "output_type": "execute_result",
          "data": {
            "text/plain": [
              "0.011944222106396452"
            ]
          },
          "metadata": {},
          "execution_count": 114
        }
      ]
    },
    {
      "cell_type": "code",
      "source": [
        "#Corroboramos cual es el coeficiente de Correlación de nuestro modelo\n",
        "coef_Correl=np.sqrt(coef_Deter)\n",
        "coef_Correl"
      ],
      "metadata": {
        "colab": {
          "base_uri": "https://localhost:8080/"
        },
        "id": "zd_l8vwuYE5C",
        "outputId": "23eea609-5227-4eea-afb3-edbf2059b0eb"
      },
      "execution_count": 115,
      "outputs": [
        {
          "output_type": "execute_result",
          "data": {
            "text/plain": [
              "0.10928962487993292"
            ]
          },
          "metadata": {},
          "execution_count": 115
        }
      ]
    },
    {
      "cell_type": "markdown",
      "source": [
        "Entire home/apt"
      ],
      "metadata": {
        "id": "Mr__jwtiYKtk"
      }
    },
    {
      "cell_type": "code",
      "source": [
        "#Imprimimos el scatter plot entre la variable dependiente (reviews_per_month) e independiente (review_scores_communication) \n",
        "#para observar el comportamiento en su dispersión \n",
        "from turtle import color\n",
        "\n",
        "\n",
        "sns.scatterplot(x='review_scores_cleanliness', y='reviews_per_month', color=\"blue\", data=filtro2)"
      ],
      "metadata": {
        "colab": {
          "base_uri": "https://localhost:8080/",
          "height": 464
        },
        "id": "a8cVdGUGYyJ3",
        "outputId": "148529c4-2f77-4dec-90ec-4c8d4c29e39d"
      },
      "execution_count": 116,
      "outputs": [
        {
          "output_type": "execute_result",
          "data": {
            "text/plain": [
              "<Axes: xlabel='review_scores_cleanliness', ylabel='reviews_per_month'>"
            ]
          },
          "metadata": {},
          "execution_count": 116
        },
        {
          "output_type": "display_data",
          "data": {
            "text/plain": [
              "<Figure size 640x480 with 1 Axes>"
            ],
            "image/png": "[encoded data removed]"
          },
          "metadata": {}
        }
      ]
    },
    {
      "cell_type": "code",
      "source": [
        "Vars_Indep= filtro2[['review_scores_communication']]\n",
        "Var_Dep= filtro2['reviews_per_month']"
      ],
      "metadata": {
        "id": "vW3IQsaVYx-x"
      },
      "execution_count": 117,
      "outputs": []
    },
    {
      "cell_type": "code",
      "source": [
        "#Se define model como la función de regresión lineal\n",
        "from sklearn.linear_model import LinearRegression\n",
        "model= LinearRegression()"
      ],
      "metadata": {
        "id": "WGvbwOuRYxzu"
      },
      "execution_count": 118,
      "outputs": []
    },
    {
      "cell_type": "code",
      "source": [
        "#Verificamos la función relacionada al modelo\n",
        "type(model)"
      ],
      "metadata": {
        "colab": {
          "base_uri": "https://localhost:8080/"
        },
        "id": "s0yvfvHjYxny",
        "outputId": "b28c1d77-d0ff-4b3e-cc89-c46262444914"
      },
      "execution_count": 119,
      "outputs": [
        {
          "output_type": "execute_result",
          "data": {
            "text/plain": [
              "sklearn.linear_model._base.LinearRegression"
            ]
          },
          "metadata": {},
          "execution_count": 119
        }
      ]
    },
    {
      "cell_type": "code",
      "source": [
        "#Ajustamos el modelo con las variables antes declaradas\n",
        "model.fit(X=Vars_Indep, y=Var_Dep)"
      ],
      "metadata": {
        "colab": {
          "base_uri": "https://localhost:8080/",
          "height": 64
        },
        "id": "JVYvmLzcYxcq",
        "outputId": "3b82d4a0-bc4a-416f-adac-bdd07317536d"
      },
      "execution_count": 120,
      "outputs": [
        {
          "output_type": "execute_result",
          "data": {
            "text/plain": [
              "LinearRegression()"
            ],
            "text/html": [
              "<style>#sk-container-id-12 {color: black;background-color: white;}#sk-container-id-12 pre{padding: 0;}#sk-container-id-12 div.sk-toggleable {background-color: white;}#sk-container-id-12 label.sk-toggleable__label {cursor: pointer;display: block;width: 100%;margin-bottom: 0;padding: 0.3em;box-sizing: border-box;text-align: center;}#sk-container-id-12 label.sk-toggleable__label-arrow:before {content: \"▸\";float: left;margin-right: 0.25em;color: #696969;}#sk-container-id-12 label.sk-toggleable__label-arrow:hover:before {color: black;}#sk-container-id-12 div.sk-estimator:hover label.sk-toggleable__label-arrow:before {color: black;}#sk-container-id-12 div.sk-toggleable__content {max-height: 0;max-width: 0;overflow: hidden;text-align: left;background-color: #f0f8ff;}#sk-container-id-12 div.sk-toggleable__content pre {margin: 0.2em;color: black;border-radius: 0.25em;background-color: #f0f8ff;}#sk-container-id-12 input.sk-toggleable__control:checked~div.sk-toggleable__content {max-height: 200px;max-width: 100%;overflow: auto;}#sk-container-id-12 input.sk-toggleable__control:checked~label.sk-toggleable__label-arrow:before {content: \"▾\";}#sk-container-id-12 div.sk-estimator input.sk-toggleable__control:checked~label.sk-toggleable__label {background-color: #d4ebff;}#sk-container-id-12 div.sk-label input.sk-toggleable__control:checked~label.sk-toggleable__label {background-color: #d4ebff;}#sk-container-id-12 input.sk-hidden--visually {border: 0;clip: rect(1px 1px 1px 1px);clip: rect(1px, 1px, 1px, 1px);height: 1px;margin: -1px;overflow: hidden;padding: 0;position: absolute;width: 1px;}#sk-container-id-12 div.sk-estimator {font-family: monospace;background-color: #f0f8ff;border: 1px dotted black;border-radius: 0.25em;box-sizing: border-box;margin-bottom: 0.5em;}#sk-container-id-12 div.sk-estimator:hover {background-color: #d4ebff;}#sk-container-id-12 div.sk-parallel-item::after {content: \"\";width: 100%;border-bottom: 1px solid gray;flex-grow: 1;}#sk-container-id-12 div.sk-label:hover label.sk-toggleable__label {background-color: #d4ebff;}#sk-container-id-12 div.sk-serial::before {content: \"\";position: absolute;border-left: 1px solid gray;box-sizing: border-box;top: 0;bottom: 0;left: 50%;z-index: 0;}#sk-container-id-12 div.sk-serial {display: flex;flex-direction: column;align-items: center;background-color: white;padding-right: 0.2em;padding-left: 0.2em;position: relative;}#sk-container-id-12 div.sk-item {position: relative;z-index: 1;}#sk-container-id-12 div.sk-parallel {display: flex;align-items: stretch;justify-content: center;background-color: white;position: relative;}#sk-container-id-12 div.sk-item::before, #sk-container-id-12 div.sk-parallel-item::before {content: \"\";position: absolute;border-left: 1px solid gray;box-sizing: border-box;top: 0;bottom: 0;left: 50%;z-index: -1;}#sk-container-id-12 div.sk-parallel-item {display: flex;flex-direction: column;z-index: 1;position: relative;background-color: white;}#sk-container-id-12 div.sk-parallel-item:first-child::after {align-self: flex-end;width: 50%;}#sk-container-id-12 div.sk-parallel-item:last-child::after {align-self: flex-start;width: 50%;}#sk-container-id-12 div.sk-parallel-item:only-child::after {width: 0;}#sk-container-id-12 div.sk-dashed-wrapped {border: 1px dashed gray;margin: 0 0.4em 0.5em 0.4em;box-sizing: border-box;padding-bottom: 0.4em;background-color: white;}#sk-container-id-12 div.sk-label label {font-family: monospace;font-weight: bold;display: inline-block;line-height: 1.2em;}#sk-container-id-12 div.sk-label-container {text-align: center;}#sk-container-id-12 div.sk-container {/* jupyter's `normalize.less` sets `[hidden] { display: none; }` but bootstrap.min.css set `[hidden] { display: none !important; }` so we also need the `!important` here to be able to override the default hidden behavior on the sphinx rendered scikit-learn.org. See: https://github.com/scikit-learn/scikit-learn/issues/21755 */display: inline-block !important;position: relative;}#sk-container-id-12 div.sk-text-repr-fallback {display: none;}</style><div id=\"sk-container-id-12\" class=\"sk-top-container\"><div class=\"sk-text-repr-fallback\"><pre>LinearRegression()</pre><b>In a Jupyter environment, please rerun this cell to show the HTML representation or trust the notebook. <br />On GitHub, the HTML representation is unable to render, please try loading this page with nbviewer.org.</b></div><div class=\"sk-container\" hidden><div class=\"sk-item\"><div class=\"sk-estimator sk-toggleable\"><input class=\"sk-toggleable__control sk-hidden--visually\" id=\"sk-estimator-id-12\" type=\"checkbox\" checked><label for=\"sk-estimator-id-12\" class=\"sk-toggleable__label sk-toggleable__label-arrow\">LinearRegression</label><div class=\"sk-toggleable__content\"><pre>LinearRegression()</pre></div></div></div></div></div>"
            ]
          },
          "metadata": {},
          "execution_count": 120
        }
      ]
    },
    {
      "cell_type": "code",
      "source": [
        "#Verificamos los coeficientes obtenidos para el modelo ajustado\n",
        "model.__dict__"
      ],
      "metadata": {
        "colab": {
          "base_uri": "https://localhost:8080/"
        },
        "id": "TGCHOzdAYxRk",
        "outputId": "fb35b18b-ffe2-4d8b-9f09-c0e63e90c937"
      },
      "execution_count": 121,
      "outputs": [
        {
          "output_type": "execute_result",
          "data": {
            "text/plain": [
              "{'fit_intercept': True,\n",
              " 'copy_X': True,\n",
              " 'n_jobs': None,\n",
              " 'positive': False,\n",
              " 'feature_names_in_': array(['review_scores_communication'], dtype=object),\n",
              " 'n_features_in_': 1,\n",
              " 'coef_': array([0.55689264]),\n",
              " 'rank_': 1,\n",
              " 'singular_': array([20.03799278]),\n",
              " 'intercept_': -1.4832788258780762}"
            ]
          },
          "metadata": {},
          "execution_count": 121
        }
      ]
    },
    {
      "cell_type": "markdown",
      "source": [
        "Modelo matemático y= 20.03799278x + -1.4832788258780762"
      ],
      "metadata": {
        "id": "3TeBznGcb933"
      }
    },
    {
      "cell_type": "code",
      "source": [
        "#Evaluamos la eficiencia del modelo obtenido por medio del coeficiente R Determinación\n",
        "model.score(Vars_Indep,Var_Dep)"
      ],
      "metadata": {
        "colab": {
          "base_uri": "https://localhost:8080/"
        },
        "id": "sUuLe5xAYxGZ",
        "outputId": "65d2d1a9-e7ce-4d5b-d755-1ac8a5d2d9a5"
      },
      "execution_count": 122,
      "outputs": [
        {
          "output_type": "execute_result",
          "data": {
            "text/plain": [
              "0.011944222106396452"
            ]
          },
          "metadata": {},
          "execution_count": 122
        }
      ]
    },
    {
      "cell_type": "code",
      "source": [
        "#Predecimos los valores de total de accidentes a partir de la variable \"review_scores_communication\"\n",
        "y_pred= model.predict(X=filtro1[['review_scores_communication']])\n",
        "y_pred"
      ],
      "metadata": {
        "colab": {
          "base_uri": "https://localhost:8080/"
        },
        "id": "A_B6b0tnYw6z",
        "outputId": "034363f3-afed-4e27-c9f4-9a5ccf7b5a88"
      },
      "execution_count": 123,
      "outputs": [
        {
          "output_type": "execute_result",
          "data": {
            "text/plain": [
              "array([ 1.20094372,  1.15082338,  1.28447762,  1.07285841,  1.02273807,\n",
              "        1.3011844 ,  1.11740982,  1.08956519,  1.00603129,  1.23435728,\n",
              "        1.08399626,  1.00046237,  1.19537479,  1.16196124,  1.06728949,\n",
              "        1.22321943,  1.10627197,  1.3011844 ,  1.24549513,  1.3011844 ,\n",
              "        0.18739911,  1.24549513,  1.3011844 ,  0.92806632,  1.15639231,\n",
              "        1.16196124,  1.3011844 ,  1.3011844 , -0.92638618,  1.1341166 ,\n",
              "        1.3011844 ,  1.16753016,  1.17866801,  1.16196124,  1.12297875,\n",
              "        1.19537479,  1.16196124,  1.17866801,  0.96704881,  1.14525446,\n",
              "        1.09513412,  1.06728949,  1.18423694,  1.15082338,  1.16196124,\n",
              "        1.3011844 ,  1.3011844 ,  1.3011844 ,  1.3011844 ,  1.24549513,\n",
              "        1.24549513,  0.96704881])"
            ]
          },
          "metadata": {},
          "execution_count": 123
        }
      ]
    },
    {
      "cell_type": "code",
      "source": [
        "#Corroboramos cual es el coeficiente de Determinación de nuestro modelo\n",
        "coef_Deter=model.score(X=Vars_Indep, y=Var_Dep)\n",
        "coef_Deter"
      ],
      "metadata": {
        "colab": {
          "base_uri": "https://localhost:8080/"
        },
        "id": "l_Exi7s7Ywz5",
        "outputId": "af2062be-a1ee-4693-d5a2-afcd5fe4cbfd"
      },
      "execution_count": 124,
      "outputs": [
        {
          "output_type": "execute_result",
          "data": {
            "text/plain": [
              "0.011944222106396452"
            ]
          },
          "metadata": {},
          "execution_count": 124
        }
      ]
    },
    {
      "cell_type": "code",
      "source": [
        "#Corroboramos cual es el coeficiente de Correlación de nuestro modelo\n",
        "coef_Correl=np.sqrt(coef_Deter)\n",
        "coef_Correl"
      ],
      "metadata": {
        "colab": {
          "base_uri": "https://localhost:8080/"
        },
        "id": "Ees0Det_Ywtw",
        "outputId": "17123794-5b53-4811-bc47-08a390404857"
      },
      "execution_count": 125,
      "outputs": [
        {
          "output_type": "execute_result",
          "data": {
            "text/plain": [
              "0.10928962487993292"
            ]
          },
          "metadata": {},
          "execution_count": 125
        }
      ]
    }
  ]
}